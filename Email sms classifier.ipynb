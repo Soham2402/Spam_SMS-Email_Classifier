{
 "cells": [
  {
   "cell_type": "code",
   "execution_count": 1,
   "metadata": {},
   "outputs": [],
   "source": [
    "import numpy as np\n",
    "import pandas as pd"
   ]
  },
  {
   "cell_type": "code",
   "execution_count": 2,
   "metadata": {},
   "outputs": [
    {
     "data": {
      "text/plain": [
       "{'encoding': 'Windows-1252', 'confidence': 0.7270322499829184, 'language': ''}"
      ]
     },
     "execution_count": 2,
     "metadata": {},
     "output_type": "execute_result"
    }
   ],
   "source": [
    "import chardet\n",
    "with open(\"spam.csv\", 'rb') as rawdata:\n",
    "    result = chardet.detect(rawdata.read(100000))\n",
    "result"
   ]
  },
  {
   "cell_type": "code",
   "execution_count": 3,
   "metadata": {},
   "outputs": [
    {
     "data": {
      "text/html": [
       "<div>\n",
       "<style scoped>\n",
       "    .dataframe tbody tr th:only-of-type {\n",
       "        vertical-align: middle;\n",
       "    }\n",
       "\n",
       "    .dataframe tbody tr th {\n",
       "        vertical-align: top;\n",
       "    }\n",
       "\n",
       "    .dataframe thead th {\n",
       "        text-align: right;\n",
       "    }\n",
       "</style>\n",
       "<table border=\"1\" class=\"dataframe\">\n",
       "  <thead>\n",
       "    <tr style=\"text-align: right;\">\n",
       "      <th></th>\n",
       "      <th>v1</th>\n",
       "      <th>v2</th>\n",
       "      <th>Unnamed: 2</th>\n",
       "      <th>Unnamed: 3</th>\n",
       "      <th>Unnamed: 4</th>\n",
       "    </tr>\n",
       "  </thead>\n",
       "  <tbody>\n",
       "    <tr>\n",
       "      <th>0</th>\n",
       "      <td>ham</td>\n",
       "      <td>Go until jurong point, crazy.. Available only ...</td>\n",
       "      <td>NaN</td>\n",
       "      <td>NaN</td>\n",
       "      <td>NaN</td>\n",
       "    </tr>\n",
       "    <tr>\n",
       "      <th>1</th>\n",
       "      <td>ham</td>\n",
       "      <td>Ok lar... Joking wif u oni...</td>\n",
       "      <td>NaN</td>\n",
       "      <td>NaN</td>\n",
       "      <td>NaN</td>\n",
       "    </tr>\n",
       "    <tr>\n",
       "      <th>2</th>\n",
       "      <td>spam</td>\n",
       "      <td>Free entry in 2 a wkly comp to win FA Cup fina...</td>\n",
       "      <td>NaN</td>\n",
       "      <td>NaN</td>\n",
       "      <td>NaN</td>\n",
       "    </tr>\n",
       "    <tr>\n",
       "      <th>3</th>\n",
       "      <td>ham</td>\n",
       "      <td>U dun say so early hor... U c already then say...</td>\n",
       "      <td>NaN</td>\n",
       "      <td>NaN</td>\n",
       "      <td>NaN</td>\n",
       "    </tr>\n",
       "    <tr>\n",
       "      <th>4</th>\n",
       "      <td>ham</td>\n",
       "      <td>Nah I don't think he goes to usf, he lives aro...</td>\n",
       "      <td>NaN</td>\n",
       "      <td>NaN</td>\n",
       "      <td>NaN</td>\n",
       "    </tr>\n",
       "    <tr>\n",
       "      <th>5</th>\n",
       "      <td>spam</td>\n",
       "      <td>FreeMsg Hey there darling it's been 3 week's n...</td>\n",
       "      <td>NaN</td>\n",
       "      <td>NaN</td>\n",
       "      <td>NaN</td>\n",
       "    </tr>\n",
       "    <tr>\n",
       "      <th>6</th>\n",
       "      <td>ham</td>\n",
       "      <td>Even my brother is not like to speak with me. ...</td>\n",
       "      <td>NaN</td>\n",
       "      <td>NaN</td>\n",
       "      <td>NaN</td>\n",
       "    </tr>\n",
       "    <tr>\n",
       "      <th>7</th>\n",
       "      <td>ham</td>\n",
       "      <td>As per your request 'Melle Melle (Oru Minnamin...</td>\n",
       "      <td>NaN</td>\n",
       "      <td>NaN</td>\n",
       "      <td>NaN</td>\n",
       "    </tr>\n",
       "    <tr>\n",
       "      <th>8</th>\n",
       "      <td>spam</td>\n",
       "      <td>WINNER!! As a valued network customer you have...</td>\n",
       "      <td>NaN</td>\n",
       "      <td>NaN</td>\n",
       "      <td>NaN</td>\n",
       "    </tr>\n",
       "    <tr>\n",
       "      <th>9</th>\n",
       "      <td>spam</td>\n",
       "      <td>Had your mobile 11 months or more? U R entitle...</td>\n",
       "      <td>NaN</td>\n",
       "      <td>NaN</td>\n",
       "      <td>NaN</td>\n",
       "    </tr>\n",
       "  </tbody>\n",
       "</table>\n",
       "</div>"
      ],
      "text/plain": [
       "     v1                                                 v2 Unnamed: 2  \\\n",
       "0   ham  Go until jurong point, crazy.. Available only ...        NaN   \n",
       "1   ham                      Ok lar... Joking wif u oni...        NaN   \n",
       "2  spam  Free entry in 2 a wkly comp to win FA Cup fina...        NaN   \n",
       "3   ham  U dun say so early hor... U c already then say...        NaN   \n",
       "4   ham  Nah I don't think he goes to usf, he lives aro...        NaN   \n",
       "5  spam  FreeMsg Hey there darling it's been 3 week's n...        NaN   \n",
       "6   ham  Even my brother is not like to speak with me. ...        NaN   \n",
       "7   ham  As per your request 'Melle Melle (Oru Minnamin...        NaN   \n",
       "8  spam  WINNER!! As a valued network customer you have...        NaN   \n",
       "9  spam  Had your mobile 11 months or more? U R entitle...        NaN   \n",
       "\n",
       "  Unnamed: 3 Unnamed: 4  \n",
       "0        NaN        NaN  \n",
       "1        NaN        NaN  \n",
       "2        NaN        NaN  \n",
       "3        NaN        NaN  \n",
       "4        NaN        NaN  \n",
       "5        NaN        NaN  \n",
       "6        NaN        NaN  \n",
       "7        NaN        NaN  \n",
       "8        NaN        NaN  \n",
       "9        NaN        NaN  "
      ]
     },
     "execution_count": 3,
     "metadata": {},
     "output_type": "execute_result"
    }
   ],
   "source": [
    "df = pd.read_csv('spam.csv',encoding = 'Windows-1252')\n",
    "df.head(10)"
   ]
  },
  {
   "cell_type": "code",
   "execution_count": 4,
   "metadata": {},
   "outputs": [],
   "source": [
    "# Data cleaning\n",
    "# EDA\n",
    "# Text processing\n",
    "# Model Building\n",
    "# Evaluation\n",
    "# Implementation"
   ]
  },
  {
   "cell_type": "markdown",
   "metadata": {},
   "source": [
    "# Data cleaning"
   ]
  },
  {
   "cell_type": "code",
   "execution_count": 5,
   "metadata": {},
   "outputs": [
    {
     "name": "stdout",
     "output_type": "stream",
     "text": [
      "<class 'pandas.core.frame.DataFrame'>\n",
      "RangeIndex: 5572 entries, 0 to 5571\n",
      "Data columns (total 5 columns):\n",
      " #   Column      Non-Null Count  Dtype \n",
      "---  ------      --------------  ----- \n",
      " 0   v1          5572 non-null   object\n",
      " 1   v2          5572 non-null   object\n",
      " 2   Unnamed: 2  50 non-null     object\n",
      " 3   Unnamed: 3  12 non-null     object\n",
      " 4   Unnamed: 4  6 non-null      object\n",
      "dtypes: object(5)\n",
      "memory usage: 217.8+ KB\n"
     ]
    }
   ],
   "source": [
    "df.info()"
   ]
  },
  {
   "cell_type": "code",
   "execution_count": 6,
   "metadata": {},
   "outputs": [],
   "source": [
    "# Dropping columns \n",
    "df.drop(columns = ['Unnamed: 2','Unnamed: 3','Unnamed: 4'], inplace = True)"
   ]
  },
  {
   "cell_type": "code",
   "execution_count": 7,
   "metadata": {},
   "outputs": [
    {
     "data": {
      "text/html": [
       "<div>\n",
       "<style scoped>\n",
       "    .dataframe tbody tr th:only-of-type {\n",
       "        vertical-align: middle;\n",
       "    }\n",
       "\n",
       "    .dataframe tbody tr th {\n",
       "        vertical-align: top;\n",
       "    }\n",
       "\n",
       "    .dataframe thead th {\n",
       "        text-align: right;\n",
       "    }\n",
       "</style>\n",
       "<table border=\"1\" class=\"dataframe\">\n",
       "  <thead>\n",
       "    <tr style=\"text-align: right;\">\n",
       "      <th></th>\n",
       "      <th>v1</th>\n",
       "      <th>v2</th>\n",
       "    </tr>\n",
       "  </thead>\n",
       "  <tbody>\n",
       "    <tr>\n",
       "      <th>4385</th>\n",
       "      <td>ham</td>\n",
       "      <td>, im .. On the snowboarding trip. I was wonder...</td>\n",
       "    </tr>\n",
       "    <tr>\n",
       "      <th>3258</th>\n",
       "      <td>spam</td>\n",
       "      <td>Congratulations! Thanks to a good friend U hav...</td>\n",
       "    </tr>\n",
       "    <tr>\n",
       "      <th>5447</th>\n",
       "      <td>ham</td>\n",
       "      <td>So that takes away some money worries</td>\n",
       "    </tr>\n",
       "    <tr>\n",
       "      <th>3618</th>\n",
       "      <td>spam</td>\n",
       "      <td>8007 25p 4 Alfie Moon's Children in Need song ...</td>\n",
       "    </tr>\n",
       "    <tr>\n",
       "      <th>958</th>\n",
       "      <td>ham</td>\n",
       "      <td>My sort code is  and acc no is . The bank is n...</td>\n",
       "    </tr>\n",
       "    <tr>\n",
       "      <th>2724</th>\n",
       "      <td>ham</td>\n",
       "      <td>Nope... C Ì_ then...</td>\n",
       "    </tr>\n",
       "    <tr>\n",
       "      <th>1588</th>\n",
       "      <td>ham</td>\n",
       "      <td>At 4. Let's go to bill millers</td>\n",
       "    </tr>\n",
       "    <tr>\n",
       "      <th>322</th>\n",
       "      <td>ham</td>\n",
       "      <td>cud u tell ppl im gona b a bit l8 cos 2 buses ...</td>\n",
       "    </tr>\n",
       "    <tr>\n",
       "      <th>2487</th>\n",
       "      <td>ham</td>\n",
       "      <td>K ill drink.pa then what doing. I need srs mod...</td>\n",
       "    </tr>\n",
       "    <tr>\n",
       "      <th>2503</th>\n",
       "      <td>ham</td>\n",
       "      <td>Fwiw the reason I'm only around when it's time...</td>\n",
       "    </tr>\n",
       "  </tbody>\n",
       "</table>\n",
       "</div>"
      ],
      "text/plain": [
       "        v1                                                 v2\n",
       "4385   ham  , im .. On the snowboarding trip. I was wonder...\n",
       "3258  spam  Congratulations! Thanks to a good friend U hav...\n",
       "5447   ham              So that takes away some money worries\n",
       "3618  spam  8007 25p 4 Alfie Moon's Children in Need song ...\n",
       "958    ham  My sort code is  and acc no is . The bank is n...\n",
       "2724   ham                               Nope... C Ì_ then...\n",
       "1588   ham                     At 4. Let's go to bill millers\n",
       "322    ham  cud u tell ppl im gona b a bit l8 cos 2 buses ...\n",
       "2487   ham  K ill drink.pa then what doing. I need srs mod...\n",
       "2503   ham  Fwiw the reason I'm only around when it's time..."
      ]
     },
     "execution_count": 7,
     "metadata": {},
     "output_type": "execute_result"
    }
   ],
   "source": [
    "df.sample(10)"
   ]
  },
  {
   "cell_type": "code",
   "execution_count": 8,
   "metadata": {},
   "outputs": [],
   "source": [
    "df.rename(columns = {'v1':'Target','v2':'Text'}, inplace =True)"
   ]
  },
  {
   "cell_type": "code",
   "execution_count": 9,
   "metadata": {},
   "outputs": [
    {
     "data": {
      "text/html": [
       "<div>\n",
       "<style scoped>\n",
       "    .dataframe tbody tr th:only-of-type {\n",
       "        vertical-align: middle;\n",
       "    }\n",
       "\n",
       "    .dataframe tbody tr th {\n",
       "        vertical-align: top;\n",
       "    }\n",
       "\n",
       "    .dataframe thead th {\n",
       "        text-align: right;\n",
       "    }\n",
       "</style>\n",
       "<table border=\"1\" class=\"dataframe\">\n",
       "  <thead>\n",
       "    <tr style=\"text-align: right;\">\n",
       "      <th></th>\n",
       "      <th>Target</th>\n",
       "      <th>Text</th>\n",
       "    </tr>\n",
       "  </thead>\n",
       "  <tbody>\n",
       "    <tr>\n",
       "      <th>0</th>\n",
       "      <td>ham</td>\n",
       "      <td>Go until jurong point, crazy.. Available only ...</td>\n",
       "    </tr>\n",
       "    <tr>\n",
       "      <th>1</th>\n",
       "      <td>ham</td>\n",
       "      <td>Ok lar... Joking wif u oni...</td>\n",
       "    </tr>\n",
       "    <tr>\n",
       "      <th>2</th>\n",
       "      <td>spam</td>\n",
       "      <td>Free entry in 2 a wkly comp to win FA Cup fina...</td>\n",
       "    </tr>\n",
       "    <tr>\n",
       "      <th>3</th>\n",
       "      <td>ham</td>\n",
       "      <td>U dun say so early hor... U c already then say...</td>\n",
       "    </tr>\n",
       "    <tr>\n",
       "      <th>4</th>\n",
       "      <td>ham</td>\n",
       "      <td>Nah I don't think he goes to usf, he lives aro...</td>\n",
       "    </tr>\n",
       "    <tr>\n",
       "      <th>5</th>\n",
       "      <td>spam</td>\n",
       "      <td>FreeMsg Hey there darling it's been 3 week's n...</td>\n",
       "    </tr>\n",
       "    <tr>\n",
       "      <th>6</th>\n",
       "      <td>ham</td>\n",
       "      <td>Even my brother is not like to speak with me. ...</td>\n",
       "    </tr>\n",
       "    <tr>\n",
       "      <th>7</th>\n",
       "      <td>ham</td>\n",
       "      <td>As per your request 'Melle Melle (Oru Minnamin...</td>\n",
       "    </tr>\n",
       "    <tr>\n",
       "      <th>8</th>\n",
       "      <td>spam</td>\n",
       "      <td>WINNER!! As a valued network customer you have...</td>\n",
       "    </tr>\n",
       "    <tr>\n",
       "      <th>9</th>\n",
       "      <td>spam</td>\n",
       "      <td>Had your mobile 11 months or more? U R entitle...</td>\n",
       "    </tr>\n",
       "  </tbody>\n",
       "</table>\n",
       "</div>"
      ],
      "text/plain": [
       "  Target                                               Text\n",
       "0    ham  Go until jurong point, crazy.. Available only ...\n",
       "1    ham                      Ok lar... Joking wif u oni...\n",
       "2   spam  Free entry in 2 a wkly comp to win FA Cup fina...\n",
       "3    ham  U dun say so early hor... U c already then say...\n",
       "4    ham  Nah I don't think he goes to usf, he lives aro...\n",
       "5   spam  FreeMsg Hey there darling it's been 3 week's n...\n",
       "6    ham  Even my brother is not like to speak with me. ...\n",
       "7    ham  As per your request 'Melle Melle (Oru Minnamin...\n",
       "8   spam  WINNER!! As a valued network customer you have...\n",
       "9   spam  Had your mobile 11 months or more? U R entitle..."
      ]
     },
     "execution_count": 9,
     "metadata": {},
     "output_type": "execute_result"
    }
   ],
   "source": [
    "df.head(10)"
   ]
  },
  {
   "cell_type": "code",
   "execution_count": 10,
   "metadata": {},
   "outputs": [],
   "source": [
    "from sklearn.preprocessing import LabelEncoder\n",
    "encoder = LabelEncoder()\n",
    "df['Target'] = encoder.fit_transform(df['Target'])"
   ]
  },
  {
   "cell_type": "code",
   "execution_count": 11,
   "metadata": {},
   "outputs": [
    {
     "data": {
      "text/html": [
       "<div>\n",
       "<style scoped>\n",
       "    .dataframe tbody tr th:only-of-type {\n",
       "        vertical-align: middle;\n",
       "    }\n",
       "\n",
       "    .dataframe tbody tr th {\n",
       "        vertical-align: top;\n",
       "    }\n",
       "\n",
       "    .dataframe thead th {\n",
       "        text-align: right;\n",
       "    }\n",
       "</style>\n",
       "<table border=\"1\" class=\"dataframe\">\n",
       "  <thead>\n",
       "    <tr style=\"text-align: right;\">\n",
       "      <th></th>\n",
       "      <th>Target</th>\n",
       "      <th>Text</th>\n",
       "    </tr>\n",
       "  </thead>\n",
       "  <tbody>\n",
       "    <tr>\n",
       "      <th>0</th>\n",
       "      <td>0</td>\n",
       "      <td>Go until jurong point, crazy.. Available only ...</td>\n",
       "    </tr>\n",
       "    <tr>\n",
       "      <th>1</th>\n",
       "      <td>0</td>\n",
       "      <td>Ok lar... Joking wif u oni...</td>\n",
       "    </tr>\n",
       "    <tr>\n",
       "      <th>2</th>\n",
       "      <td>1</td>\n",
       "      <td>Free entry in 2 a wkly comp to win FA Cup fina...</td>\n",
       "    </tr>\n",
       "    <tr>\n",
       "      <th>3</th>\n",
       "      <td>0</td>\n",
       "      <td>U dun say so early hor... U c already then say...</td>\n",
       "    </tr>\n",
       "    <tr>\n",
       "      <th>4</th>\n",
       "      <td>0</td>\n",
       "      <td>Nah I don't think he goes to usf, he lives aro...</td>\n",
       "    </tr>\n",
       "    <tr>\n",
       "      <th>5</th>\n",
       "      <td>1</td>\n",
       "      <td>FreeMsg Hey there darling it's been 3 week's n...</td>\n",
       "    </tr>\n",
       "    <tr>\n",
       "      <th>6</th>\n",
       "      <td>0</td>\n",
       "      <td>Even my brother is not like to speak with me. ...</td>\n",
       "    </tr>\n",
       "    <tr>\n",
       "      <th>7</th>\n",
       "      <td>0</td>\n",
       "      <td>As per your request 'Melle Melle (Oru Minnamin...</td>\n",
       "    </tr>\n",
       "    <tr>\n",
       "      <th>8</th>\n",
       "      <td>1</td>\n",
       "      <td>WINNER!! As a valued network customer you have...</td>\n",
       "    </tr>\n",
       "    <tr>\n",
       "      <th>9</th>\n",
       "      <td>1</td>\n",
       "      <td>Had your mobile 11 months or more? U R entitle...</td>\n",
       "    </tr>\n",
       "  </tbody>\n",
       "</table>\n",
       "</div>"
      ],
      "text/plain": [
       "   Target                                               Text\n",
       "0       0  Go until jurong point, crazy.. Available only ...\n",
       "1       0                      Ok lar... Joking wif u oni...\n",
       "2       1  Free entry in 2 a wkly comp to win FA Cup fina...\n",
       "3       0  U dun say so early hor... U c already then say...\n",
       "4       0  Nah I don't think he goes to usf, he lives aro...\n",
       "5       1  FreeMsg Hey there darling it's been 3 week's n...\n",
       "6       0  Even my brother is not like to speak with me. ...\n",
       "7       0  As per your request 'Melle Melle (Oru Minnamin...\n",
       "8       1  WINNER!! As a valued network customer you have...\n",
       "9       1  Had your mobile 11 months or more? U R entitle..."
      ]
     },
     "execution_count": 11,
     "metadata": {},
     "output_type": "execute_result"
    }
   ],
   "source": [
    "df.head(10)"
   ]
  },
  {
   "cell_type": "code",
   "execution_count": 12,
   "metadata": {},
   "outputs": [],
   "source": [
    "# The encoder has assigned spam as 1 and ham(not spam) as 0"
   ]
  },
  {
   "cell_type": "code",
   "execution_count": 13,
   "metadata": {},
   "outputs": [
    {
     "data": {
      "text/plain": [
       "Target    0\n",
       "Text      0\n",
       "dtype: int64"
      ]
     },
     "execution_count": 13,
     "metadata": {},
     "output_type": "execute_result"
    }
   ],
   "source": [
    "#checking missing values\n",
    "df.isnull().sum()"
   ]
  },
  {
   "cell_type": "code",
   "execution_count": 14,
   "metadata": {},
   "outputs": [
    {
     "data": {
      "text/plain": [
       "403"
      ]
     },
     "execution_count": 14,
     "metadata": {},
     "output_type": "execute_result"
    }
   ],
   "source": [
    "#Check for duplicate values\n",
    "df.duplicated().sum()"
   ]
  },
  {
   "cell_type": "code",
   "execution_count": 15,
   "metadata": {},
   "outputs": [],
   "source": [
    "#remove duplicates\n",
    "df = df.drop_duplicates(keep = 'first')"
   ]
  },
  {
   "cell_type": "code",
   "execution_count": 16,
   "metadata": {},
   "outputs": [
    {
     "data": {
      "text/plain": [
       "0"
      ]
     },
     "execution_count": 16,
     "metadata": {},
     "output_type": "execute_result"
    }
   ],
   "source": [
    "df.shape\n",
    "df.duplicated().sum()"
   ]
  },
  {
   "cell_type": "markdown",
   "metadata": {},
   "source": [
    "# Exploratory data analysis"
   ]
  },
  {
   "cell_type": "code",
   "execution_count": 17,
   "metadata": {},
   "outputs": [],
   "source": [
    "import matplotlib.pyplot as plt"
   ]
  },
  {
   "cell_type": "code",
   "execution_count": 18,
   "metadata": {},
   "outputs": [],
   "source": [
    "counts = df['Target'].value_counts()"
   ]
  },
  {
   "cell_type": "code",
   "execution_count": 19,
   "metadata": {},
   "outputs": [
    {
     "data": {
      "image/png": "[encoded data removed]",
      "text/plain": [
       "<Figure size 432x288 with 1 Axes>"
      ]
     },
     "metadata": {},
     "output_type": "display_data"
    }
   ],
   "source": [
    "plt.pie(counts, labels = ['Not spam','Spam'],autopct = \"%0.2f\")\n",
    "plt.show()"
   ]
  },
  {
   "cell_type": "code",
   "execution_count": 20,
   "metadata": {},
   "outputs": [
    {
     "name": "stdout",
     "output_type": "stream",
     "text": [
      "Requirement already satisfied: nltk in /home/soham/anaconda3/lib/python3.8/site-packages (3.5)\n",
      "Requirement already satisfied: regex in /home/soham/anaconda3/lib/python3.8/site-packages (from nltk) (2020.10.15)\n",
      "Requirement already satisfied: joblib in /home/soham/anaconda3/lib/python3.8/site-packages (from nltk) (0.17.0)\n",
      "Requirement already satisfied: tqdm in /home/soham/anaconda3/lib/python3.8/site-packages (from nltk) (4.50.2)\n",
      "Requirement already satisfied: click in /home/soham/.local/lib/python3.8/site-packages (from nltk) (8.0.4)\n"
     ]
    }
   ],
   "source": [
    "!pip install nltk\n",
    "import nltk"
   ]
  },
  {
   "cell_type": "code",
   "execution_count": 21,
   "metadata": {},
   "outputs": [
    {
     "name": "stderr",
     "output_type": "stream",
     "text": [
      "[nltk_data] Downloading package punkt to /home/soham/nltk_data...\n",
      "[nltk_data]   Package punkt is already up-to-date!\n",
      "[nltk_data] Downloading package stopwords to /home/soham/nltk_data...\n",
      "[nltk_data]   Package stopwords is already up-to-date!\n"
     ]
    },
    {
     "data": {
      "text/plain": [
       "True"
      ]
     },
     "execution_count": 21,
     "metadata": {},
     "output_type": "execute_result"
    }
   ],
   "source": [
    "nltk.download('punkt')\n",
    "nltk.download('stopwords')"
   ]
  },
  {
   "cell_type": "code",
   "execution_count": 22,
   "metadata": {},
   "outputs": [],
   "source": [
    "df['Text'].apply(len)\n",
    "df['Number_of_chars'] = df['Text'].apply(len)"
   ]
  },
  {
   "cell_type": "code",
   "execution_count": 23,
   "metadata": {},
   "outputs": [
    {
     "data": {
      "text/html": [
       "<div>\n",
       "<style scoped>\n",
       "    .dataframe tbody tr th:only-of-type {\n",
       "        vertical-align: middle;\n",
       "    }\n",
       "\n",
       "    .dataframe tbody tr th {\n",
       "        vertical-align: top;\n",
       "    }\n",
       "\n",
       "    .dataframe thead th {\n",
       "        text-align: right;\n",
       "    }\n",
       "</style>\n",
       "<table border=\"1\" class=\"dataframe\">\n",
       "  <thead>\n",
       "    <tr style=\"text-align: right;\">\n",
       "      <th></th>\n",
       "      <th>Target</th>\n",
       "      <th>Text</th>\n",
       "      <th>Number_of_chars</th>\n",
       "    </tr>\n",
       "  </thead>\n",
       "  <tbody>\n",
       "    <tr>\n",
       "      <th>0</th>\n",
       "      <td>0</td>\n",
       "      <td>Go until jurong point, crazy.. Available only ...</td>\n",
       "      <td>111</td>\n",
       "    </tr>\n",
       "    <tr>\n",
       "      <th>1</th>\n",
       "      <td>0</td>\n",
       "      <td>Ok lar... Joking wif u oni...</td>\n",
       "      <td>29</td>\n",
       "    </tr>\n",
       "    <tr>\n",
       "      <th>2</th>\n",
       "      <td>1</td>\n",
       "      <td>Free entry in 2 a wkly comp to win FA Cup fina...</td>\n",
       "      <td>155</td>\n",
       "    </tr>\n",
       "    <tr>\n",
       "      <th>3</th>\n",
       "      <td>0</td>\n",
       "      <td>U dun say so early hor... U c already then say...</td>\n",
       "      <td>49</td>\n",
       "    </tr>\n",
       "    <tr>\n",
       "      <th>4</th>\n",
       "      <td>0</td>\n",
       "      <td>Nah I don't think he goes to usf, he lives aro...</td>\n",
       "      <td>61</td>\n",
       "    </tr>\n",
       "    <tr>\n",
       "      <th>5</th>\n",
       "      <td>1</td>\n",
       "      <td>FreeMsg Hey there darling it's been 3 week's n...</td>\n",
       "      <td>148</td>\n",
       "    </tr>\n",
       "    <tr>\n",
       "      <th>6</th>\n",
       "      <td>0</td>\n",
       "      <td>Even my brother is not like to speak with me. ...</td>\n",
       "      <td>77</td>\n",
       "    </tr>\n",
       "    <tr>\n",
       "      <th>7</th>\n",
       "      <td>0</td>\n",
       "      <td>As per your request 'Melle Melle (Oru Minnamin...</td>\n",
       "      <td>160</td>\n",
       "    </tr>\n",
       "    <tr>\n",
       "      <th>8</th>\n",
       "      <td>1</td>\n",
       "      <td>WINNER!! As a valued network customer you have...</td>\n",
       "      <td>158</td>\n",
       "    </tr>\n",
       "    <tr>\n",
       "      <th>9</th>\n",
       "      <td>1</td>\n",
       "      <td>Had your mobile 11 months or more? U R entitle...</td>\n",
       "      <td>154</td>\n",
       "    </tr>\n",
       "  </tbody>\n",
       "</table>\n",
       "</div>"
      ],
      "text/plain": [
       "   Target                                               Text  Number_of_chars\n",
       "0       0  Go until jurong point, crazy.. Available only ...              111\n",
       "1       0                      Ok lar... Joking wif u oni...               29\n",
       "2       1  Free entry in 2 a wkly comp to win FA Cup fina...              155\n",
       "3       0  U dun say so early hor... U c already then say...               49\n",
       "4       0  Nah I don't think he goes to usf, he lives aro...               61\n",
       "5       1  FreeMsg Hey there darling it's been 3 week's n...              148\n",
       "6       0  Even my brother is not like to speak with me. ...               77\n",
       "7       0  As per your request 'Melle Melle (Oru Minnamin...              160\n",
       "8       1  WINNER!! As a valued network customer you have...              158\n",
       "9       1  Had your mobile 11 months or more? U R entitle...              154"
      ]
     },
     "execution_count": 23,
     "metadata": {},
     "output_type": "execute_result"
    }
   ],
   "source": [
    "df.head(10)"
   ]
  },
  {
   "cell_type": "code",
   "execution_count": 24,
   "metadata": {},
   "outputs": [],
   "source": [
    "#This seperates the words and turns them in to a list and creates the data frame\n",
    "words = df['Text'].apply(lambda x:nltk.word_tokenize(x))"
   ]
  },
  {
   "cell_type": "code",
   "execution_count": 25,
   "metadata": {},
   "outputs": [],
   "source": [
    "df[\"Number_of_words\"] = words.apply(len)"
   ]
  },
  {
   "cell_type": "code",
   "execution_count": 26,
   "metadata": {},
   "outputs": [
    {
     "data": {
      "text/html": [
       "<div>\n",
       "<style scoped>\n",
       "    .dataframe tbody tr th:only-of-type {\n",
       "        vertical-align: middle;\n",
       "    }\n",
       "\n",
       "    .dataframe tbody tr th {\n",
       "        vertical-align: top;\n",
       "    }\n",
       "\n",
       "    .dataframe thead th {\n",
       "        text-align: right;\n",
       "    }\n",
       "</style>\n",
       "<table border=\"1\" class=\"dataframe\">\n",
       "  <thead>\n",
       "    <tr style=\"text-align: right;\">\n",
       "      <th></th>\n",
       "      <th>Target</th>\n",
       "      <th>Text</th>\n",
       "      <th>Number_of_chars</th>\n",
       "      <th>Number_of_words</th>\n",
       "    </tr>\n",
       "  </thead>\n",
       "  <tbody>\n",
       "    <tr>\n",
       "      <th>0</th>\n",
       "      <td>0</td>\n",
       "      <td>Go until jurong point, crazy.. Available only ...</td>\n",
       "      <td>111</td>\n",
       "      <td>24</td>\n",
       "    </tr>\n",
       "    <tr>\n",
       "      <th>1</th>\n",
       "      <td>0</td>\n",
       "      <td>Ok lar... Joking wif u oni...</td>\n",
       "      <td>29</td>\n",
       "      <td>8</td>\n",
       "    </tr>\n",
       "    <tr>\n",
       "      <th>2</th>\n",
       "      <td>1</td>\n",
       "      <td>Free entry in 2 a wkly comp to win FA Cup fina...</td>\n",
       "      <td>155</td>\n",
       "      <td>37</td>\n",
       "    </tr>\n",
       "    <tr>\n",
       "      <th>3</th>\n",
       "      <td>0</td>\n",
       "      <td>U dun say so early hor... U c already then say...</td>\n",
       "      <td>49</td>\n",
       "      <td>13</td>\n",
       "    </tr>\n",
       "    <tr>\n",
       "      <th>4</th>\n",
       "      <td>0</td>\n",
       "      <td>Nah I don't think he goes to usf, he lives aro...</td>\n",
       "      <td>61</td>\n",
       "      <td>15</td>\n",
       "    </tr>\n",
       "    <tr>\n",
       "      <th>5</th>\n",
       "      <td>1</td>\n",
       "      <td>FreeMsg Hey there darling it's been 3 week's n...</td>\n",
       "      <td>148</td>\n",
       "      <td>39</td>\n",
       "    </tr>\n",
       "    <tr>\n",
       "      <th>6</th>\n",
       "      <td>0</td>\n",
       "      <td>Even my brother is not like to speak with me. ...</td>\n",
       "      <td>77</td>\n",
       "      <td>18</td>\n",
       "    </tr>\n",
       "    <tr>\n",
       "      <th>7</th>\n",
       "      <td>0</td>\n",
       "      <td>As per your request 'Melle Melle (Oru Minnamin...</td>\n",
       "      <td>160</td>\n",
       "      <td>31</td>\n",
       "    </tr>\n",
       "    <tr>\n",
       "      <th>8</th>\n",
       "      <td>1</td>\n",
       "      <td>WINNER!! As a valued network customer you have...</td>\n",
       "      <td>158</td>\n",
       "      <td>32</td>\n",
       "    </tr>\n",
       "    <tr>\n",
       "      <th>9</th>\n",
       "      <td>1</td>\n",
       "      <td>Had your mobile 11 months or more? U R entitle...</td>\n",
       "      <td>154</td>\n",
       "      <td>31</td>\n",
       "    </tr>\n",
       "  </tbody>\n",
       "</table>\n",
       "</div>"
      ],
      "text/plain": [
       "   Target                                               Text  Number_of_chars  \\\n",
       "0       0  Go until jurong point, crazy.. Available only ...              111   \n",
       "1       0                      Ok lar... Joking wif u oni...               29   \n",
       "2       1  Free entry in 2 a wkly comp to win FA Cup fina...              155   \n",
       "3       0  U dun say so early hor... U c already then say...               49   \n",
       "4       0  Nah I don't think he goes to usf, he lives aro...               61   \n",
       "5       1  FreeMsg Hey there darling it's been 3 week's n...              148   \n",
       "6       0  Even my brother is not like to speak with me. ...               77   \n",
       "7       0  As per your request 'Melle Melle (Oru Minnamin...              160   \n",
       "8       1  WINNER!! As a valued network customer you have...              158   \n",
       "9       1  Had your mobile 11 months or more? U R entitle...              154   \n",
       "\n",
       "   Number_of_words  \n",
       "0               24  \n",
       "1                8  \n",
       "2               37  \n",
       "3               13  \n",
       "4               15  \n",
       "5               39  \n",
       "6               18  \n",
       "7               31  \n",
       "8               32  \n",
       "9               31  "
      ]
     },
     "execution_count": 26,
     "metadata": {},
     "output_type": "execute_result"
    }
   ],
   "source": [
    "df.head(10)"
   ]
  },
  {
   "cell_type": "code",
   "execution_count": 27,
   "metadata": {},
   "outputs": [],
   "source": [
    "sent = df['Text'].apply(lambda x:nltk.sent_tokenize(x))"
   ]
  },
  {
   "cell_type": "code",
   "execution_count": 28,
   "metadata": {},
   "outputs": [],
   "source": [
    "df['Number_of_sent'] = sent.apply(len)"
   ]
  },
  {
   "cell_type": "code",
   "execution_count": 29,
   "metadata": {},
   "outputs": [
    {
     "data": {
      "text/html": [
       "<div>\n",
       "<style scoped>\n",
       "    .dataframe tbody tr th:only-of-type {\n",
       "        vertical-align: middle;\n",
       "    }\n",
       "\n",
       "    .dataframe tbody tr th {\n",
       "        vertical-align: top;\n",
       "    }\n",
       "\n",
       "    .dataframe thead th {\n",
       "        text-align: right;\n",
       "    }\n",
       "</style>\n",
       "<table border=\"1\" class=\"dataframe\">\n",
       "  <thead>\n",
       "    <tr style=\"text-align: right;\">\n",
       "      <th></th>\n",
       "      <th>Target</th>\n",
       "      <th>Text</th>\n",
       "      <th>Number_of_chars</th>\n",
       "      <th>Number_of_words</th>\n",
       "      <th>Number_of_sent</th>\n",
       "    </tr>\n",
       "  </thead>\n",
       "  <tbody>\n",
       "    <tr>\n",
       "      <th>0</th>\n",
       "      <td>0</td>\n",
       "      <td>Go until jurong point, crazy.. Available only ...</td>\n",
       "      <td>111</td>\n",
       "      <td>24</td>\n",
       "      <td>2</td>\n",
       "    </tr>\n",
       "    <tr>\n",
       "      <th>1</th>\n",
       "      <td>0</td>\n",
       "      <td>Ok lar... Joking wif u oni...</td>\n",
       "      <td>29</td>\n",
       "      <td>8</td>\n",
       "      <td>2</td>\n",
       "    </tr>\n",
       "    <tr>\n",
       "      <th>2</th>\n",
       "      <td>1</td>\n",
       "      <td>Free entry in 2 a wkly comp to win FA Cup fina...</td>\n",
       "      <td>155</td>\n",
       "      <td>37</td>\n",
       "      <td>2</td>\n",
       "    </tr>\n",
       "    <tr>\n",
       "      <th>3</th>\n",
       "      <td>0</td>\n",
       "      <td>U dun say so early hor... U c already then say...</td>\n",
       "      <td>49</td>\n",
       "      <td>13</td>\n",
       "      <td>1</td>\n",
       "    </tr>\n",
       "    <tr>\n",
       "      <th>4</th>\n",
       "      <td>0</td>\n",
       "      <td>Nah I don't think he goes to usf, he lives aro...</td>\n",
       "      <td>61</td>\n",
       "      <td>15</td>\n",
       "      <td>1</td>\n",
       "    </tr>\n",
       "    <tr>\n",
       "      <th>5</th>\n",
       "      <td>1</td>\n",
       "      <td>FreeMsg Hey there darling it's been 3 week's n...</td>\n",
       "      <td>148</td>\n",
       "      <td>39</td>\n",
       "      <td>4</td>\n",
       "    </tr>\n",
       "    <tr>\n",
       "      <th>6</th>\n",
       "      <td>0</td>\n",
       "      <td>Even my brother is not like to speak with me. ...</td>\n",
       "      <td>77</td>\n",
       "      <td>18</td>\n",
       "      <td>2</td>\n",
       "    </tr>\n",
       "    <tr>\n",
       "      <th>7</th>\n",
       "      <td>0</td>\n",
       "      <td>As per your request 'Melle Melle (Oru Minnamin...</td>\n",
       "      <td>160</td>\n",
       "      <td>31</td>\n",
       "      <td>2</td>\n",
       "    </tr>\n",
       "    <tr>\n",
       "      <th>8</th>\n",
       "      <td>1</td>\n",
       "      <td>WINNER!! As a valued network customer you have...</td>\n",
       "      <td>158</td>\n",
       "      <td>32</td>\n",
       "      <td>5</td>\n",
       "    </tr>\n",
       "    <tr>\n",
       "      <th>9</th>\n",
       "      <td>1</td>\n",
       "      <td>Had your mobile 11 months or more? U R entitle...</td>\n",
       "      <td>154</td>\n",
       "      <td>31</td>\n",
       "      <td>3</td>\n",
       "    </tr>\n",
       "  </tbody>\n",
       "</table>\n",
       "</div>"
      ],
      "text/plain": [
       "   Target                                               Text  Number_of_chars  \\\n",
       "0       0  Go until jurong point, crazy.. Available only ...              111   \n",
       "1       0                      Ok lar... Joking wif u oni...               29   \n",
       "2       1  Free entry in 2 a wkly comp to win FA Cup fina...              155   \n",
       "3       0  U dun say so early hor... U c already then say...               49   \n",
       "4       0  Nah I don't think he goes to usf, he lives aro...               61   \n",
       "5       1  FreeMsg Hey there darling it's been 3 week's n...              148   \n",
       "6       0  Even my brother is not like to speak with me. ...               77   \n",
       "7       0  As per your request 'Melle Melle (Oru Minnamin...              160   \n",
       "8       1  WINNER!! As a valued network customer you have...              158   \n",
       "9       1  Had your mobile 11 months or more? U R entitle...              154   \n",
       "\n",
       "   Number_of_words  Number_of_sent  \n",
       "0               24               2  \n",
       "1                8               2  \n",
       "2               37               2  \n",
       "3               13               1  \n",
       "4               15               1  \n",
       "5               39               4  \n",
       "6               18               2  \n",
       "7               31               2  \n",
       "8               32               5  \n",
       "9               31               3  "
      ]
     },
     "execution_count": 29,
     "metadata": {},
     "output_type": "execute_result"
    }
   ],
   "source": [
    "df.head(10)"
   ]
  },
  {
   "cell_type": "code",
   "execution_count": 30,
   "metadata": {},
   "outputs": [
    {
     "data": {
      "text/html": [
       "<div>\n",
       "<style scoped>\n",
       "    .dataframe tbody tr th:only-of-type {\n",
       "        vertical-align: middle;\n",
       "    }\n",
       "\n",
       "    .dataframe tbody tr th {\n",
       "        vertical-align: top;\n",
       "    }\n",
       "\n",
       "    .dataframe thead th {\n",
       "        text-align: right;\n",
       "    }\n",
       "</style>\n",
       "<table border=\"1\" class=\"dataframe\">\n",
       "  <thead>\n",
       "    <tr style=\"text-align: right;\">\n",
       "      <th></th>\n",
       "      <th>Number_of_chars</th>\n",
       "      <th>Number_of_words</th>\n",
       "      <th>Number_of_sent</th>\n",
       "    </tr>\n",
       "  </thead>\n",
       "  <tbody>\n",
       "    <tr>\n",
       "      <th>count</th>\n",
       "      <td>5169.000000</td>\n",
       "      <td>5169.000000</td>\n",
       "      <td>5169.000000</td>\n",
       "    </tr>\n",
       "    <tr>\n",
       "      <th>mean</th>\n",
       "      <td>78.977945</td>\n",
       "      <td>18.455407</td>\n",
       "      <td>1.961308</td>\n",
       "    </tr>\n",
       "    <tr>\n",
       "      <th>std</th>\n",
       "      <td>58.236293</td>\n",
       "      <td>13.322448</td>\n",
       "      <td>1.432583</td>\n",
       "    </tr>\n",
       "    <tr>\n",
       "      <th>min</th>\n",
       "      <td>2.000000</td>\n",
       "      <td>1.000000</td>\n",
       "      <td>1.000000</td>\n",
       "    </tr>\n",
       "    <tr>\n",
       "      <th>25%</th>\n",
       "      <td>36.000000</td>\n",
       "      <td>9.000000</td>\n",
       "      <td>1.000000</td>\n",
       "    </tr>\n",
       "    <tr>\n",
       "      <th>50%</th>\n",
       "      <td>60.000000</td>\n",
       "      <td>15.000000</td>\n",
       "      <td>1.000000</td>\n",
       "    </tr>\n",
       "    <tr>\n",
       "      <th>75%</th>\n",
       "      <td>117.000000</td>\n",
       "      <td>26.000000</td>\n",
       "      <td>2.000000</td>\n",
       "    </tr>\n",
       "    <tr>\n",
       "      <th>max</th>\n",
       "      <td>910.000000</td>\n",
       "      <td>220.000000</td>\n",
       "      <td>38.000000</td>\n",
       "    </tr>\n",
       "  </tbody>\n",
       "</table>\n",
       "</div>"
      ],
      "text/plain": [
       "       Number_of_chars  Number_of_words  Number_of_sent\n",
       "count      5169.000000      5169.000000     5169.000000\n",
       "mean         78.977945        18.455407        1.961308\n",
       "std          58.236293        13.322448        1.432583\n",
       "min           2.000000         1.000000        1.000000\n",
       "25%          36.000000         9.000000        1.000000\n",
       "50%          60.000000        15.000000        1.000000\n",
       "75%         117.000000        26.000000        2.000000\n",
       "max         910.000000       220.000000       38.000000"
      ]
     },
     "execution_count": 30,
     "metadata": {},
     "output_type": "execute_result"
    }
   ],
   "source": [
    "df[['Number_of_chars','Number_of_words','Number_of_sent']].describe()"
   ]
  },
  {
   "cell_type": "code",
   "execution_count": 31,
   "metadata": {},
   "outputs": [
    {
     "data": {
      "text/html": [
       "<div>\n",
       "<style scoped>\n",
       "    .dataframe tbody tr th:only-of-type {\n",
       "        vertical-align: middle;\n",
       "    }\n",
       "\n",
       "    .dataframe tbody tr th {\n",
       "        vertical-align: top;\n",
       "    }\n",
       "\n",
       "    .dataframe thead th {\n",
       "        text-align: right;\n",
       "    }\n",
       "</style>\n",
       "<table border=\"1\" class=\"dataframe\">\n",
       "  <thead>\n",
       "    <tr style=\"text-align: right;\">\n",
       "      <th></th>\n",
       "      <th>Number_of_chars</th>\n",
       "      <th>Number_of_words</th>\n",
       "      <th>Number_of_sent</th>\n",
       "    </tr>\n",
       "  </thead>\n",
       "  <tbody>\n",
       "    <tr>\n",
       "      <th>count</th>\n",
       "      <td>4516.000000</td>\n",
       "      <td>4516.000000</td>\n",
       "      <td>4516.000000</td>\n",
       "    </tr>\n",
       "    <tr>\n",
       "      <th>mean</th>\n",
       "      <td>70.459256</td>\n",
       "      <td>17.123339</td>\n",
       "      <td>1.815545</td>\n",
       "    </tr>\n",
       "    <tr>\n",
       "      <th>std</th>\n",
       "      <td>56.358207</td>\n",
       "      <td>13.491315</td>\n",
       "      <td>1.364098</td>\n",
       "    </tr>\n",
       "    <tr>\n",
       "      <th>min</th>\n",
       "      <td>2.000000</td>\n",
       "      <td>1.000000</td>\n",
       "      <td>1.000000</td>\n",
       "    </tr>\n",
       "    <tr>\n",
       "      <th>25%</th>\n",
       "      <td>34.000000</td>\n",
       "      <td>8.000000</td>\n",
       "      <td>1.000000</td>\n",
       "    </tr>\n",
       "    <tr>\n",
       "      <th>50%</th>\n",
       "      <td>52.000000</td>\n",
       "      <td>13.000000</td>\n",
       "      <td>1.000000</td>\n",
       "    </tr>\n",
       "    <tr>\n",
       "      <th>75%</th>\n",
       "      <td>90.000000</td>\n",
       "      <td>22.000000</td>\n",
       "      <td>2.000000</td>\n",
       "    </tr>\n",
       "    <tr>\n",
       "      <th>max</th>\n",
       "      <td>910.000000</td>\n",
       "      <td>220.000000</td>\n",
       "      <td>38.000000</td>\n",
       "    </tr>\n",
       "  </tbody>\n",
       "</table>\n",
       "</div>"
      ],
      "text/plain": [
       "       Number_of_chars  Number_of_words  Number_of_sent\n",
       "count      4516.000000      4516.000000     4516.000000\n",
       "mean         70.459256        17.123339        1.815545\n",
       "std          56.358207        13.491315        1.364098\n",
       "min           2.000000         1.000000        1.000000\n",
       "25%          34.000000         8.000000        1.000000\n",
       "50%          52.000000        13.000000        1.000000\n",
       "75%          90.000000        22.000000        2.000000\n",
       "max         910.000000       220.000000       38.000000"
      ]
     },
     "execution_count": 31,
     "metadata": {},
     "output_type": "execute_result"
    }
   ],
   "source": [
    "df[df['Target'] == 0][['Number_of_chars','Number_of_words','Number_of_sent']].describe() #not spam"
   ]
  },
  {
   "cell_type": "code",
   "execution_count": 32,
   "metadata": {},
   "outputs": [
    {
     "data": {
      "text/html": [
       "<div>\n",
       "<style scoped>\n",
       "    .dataframe tbody tr th:only-of-type {\n",
       "        vertical-align: middle;\n",
       "    }\n",
       "\n",
       "    .dataframe tbody tr th {\n",
       "        vertical-align: top;\n",
       "    }\n",
       "\n",
       "    .dataframe thead th {\n",
       "        text-align: right;\n",
       "    }\n",
       "</style>\n",
       "<table border=\"1\" class=\"dataframe\">\n",
       "  <thead>\n",
       "    <tr style=\"text-align: right;\">\n",
       "      <th></th>\n",
       "      <th>Number_of_chars</th>\n",
       "      <th>Number_of_words</th>\n",
       "      <th>Number_of_sent</th>\n",
       "    </tr>\n",
       "  </thead>\n",
       "  <tbody>\n",
       "    <tr>\n",
       "      <th>count</th>\n",
       "      <td>653.000000</td>\n",
       "      <td>653.000000</td>\n",
       "      <td>653.000000</td>\n",
       "    </tr>\n",
       "    <tr>\n",
       "      <th>mean</th>\n",
       "      <td>137.891271</td>\n",
       "      <td>27.667688</td>\n",
       "      <td>2.969372</td>\n",
       "    </tr>\n",
       "    <tr>\n",
       "      <th>std</th>\n",
       "      <td>30.137753</td>\n",
       "      <td>7.008418</td>\n",
       "      <td>1.488910</td>\n",
       "    </tr>\n",
       "    <tr>\n",
       "      <th>min</th>\n",
       "      <td>13.000000</td>\n",
       "      <td>2.000000</td>\n",
       "      <td>1.000000</td>\n",
       "    </tr>\n",
       "    <tr>\n",
       "      <th>25%</th>\n",
       "      <td>132.000000</td>\n",
       "      <td>25.000000</td>\n",
       "      <td>2.000000</td>\n",
       "    </tr>\n",
       "    <tr>\n",
       "      <th>50%</th>\n",
       "      <td>149.000000</td>\n",
       "      <td>29.000000</td>\n",
       "      <td>3.000000</td>\n",
       "    </tr>\n",
       "    <tr>\n",
       "      <th>75%</th>\n",
       "      <td>157.000000</td>\n",
       "      <td>32.000000</td>\n",
       "      <td>4.000000</td>\n",
       "    </tr>\n",
       "    <tr>\n",
       "      <th>max</th>\n",
       "      <td>224.000000</td>\n",
       "      <td>46.000000</td>\n",
       "      <td>9.000000</td>\n",
       "    </tr>\n",
       "  </tbody>\n",
       "</table>\n",
       "</div>"
      ],
      "text/plain": [
       "       Number_of_chars  Number_of_words  Number_of_sent\n",
       "count       653.000000       653.000000      653.000000\n",
       "mean        137.891271        27.667688        2.969372\n",
       "std          30.137753         7.008418        1.488910\n",
       "min          13.000000         2.000000        1.000000\n",
       "25%         132.000000        25.000000        2.000000\n",
       "50%         149.000000        29.000000        3.000000\n",
       "75%         157.000000        32.000000        4.000000\n",
       "max         224.000000        46.000000        9.000000"
      ]
     },
     "execution_count": 32,
     "metadata": {},
     "output_type": "execute_result"
    }
   ],
   "source": [
    "df[df['Target'] == 1][['Number_of_chars','Number_of_words','Number_of_sent']].describe() #spam"
   ]
  },
  {
   "cell_type": "code",
   "execution_count": 33,
   "metadata": {},
   "outputs": [
    {
     "data": {
      "text/plain": [
       "<AxesSubplot:xlabel='Number_of_chars', ylabel='Count'>"
      ]
     },
     "execution_count": 33,
     "metadata": {},
     "output_type": "execute_result"
    },
    {
     "data": {
      "image/png": "[encoded data removed]",
      "text/plain": [
       "<Figure size 864x576 with 1 Axes>"
      ]
     },
     "metadata": {
      "needs_background": "light"
     },
     "output_type": "display_data"
    }
   ],
   "source": [
    "import seaborn as sns\n",
    "plt.figure(figsize = (12,8))\n",
    "sns.histplot(df[df['Target'] == 0]['Number_of_chars'])\n",
    "sns.histplot(df[df['Target'] == 1]['Number_of_chars'], color = \"red\")"
   ]
  },
  {
   "cell_type": "code",
   "execution_count": 34,
   "metadata": {},
   "outputs": [
    {
     "data": {
      "text/plain": [
       "<AxesSubplot:xlabel='Number_of_words', ylabel='Count'>"
      ]
     },
     "execution_count": 34,
     "metadata": {},
     "output_type": "execute_result"
    },
    {
     "data": {
      "image/png": "[encoded data removed]",
      "text/plain": [
       "<Figure size 864x576 with 1 Axes>"
      ]
     },
     "metadata": {
      "needs_background": "light"
     },
     "output_type": "display_data"
    }
   ],
   "source": [
    "plt.figure(figsize = (12,8))\n",
    "sns.histplot(df[df['Target'] == 0]['Number_of_words'])\n",
    "sns.histplot(df[df['Target'] == 1]['Number_of_words'], color = \"red\")"
   ]
  },
  {
   "cell_type": "code",
   "execution_count": 35,
   "metadata": {},
   "outputs": [
    {
     "data": {
      "text/plain": [
       "<seaborn.axisgrid.PairGrid at 0x7f4ef159ee50>"
      ]
     },
     "execution_count": 35,
     "metadata": {},
     "output_type": "execute_result"
    },
    {
     "data": {
      "image/png": "[encoded data removed]",
      "text/plain": [
       "<Figure size 582.375x540 with 12 Axes>"
      ]
     },
     "metadata": {
      "needs_background": "light"
     },
     "output_type": "display_data"
    }
   ],
   "source": [
    "sns.pairplot(df,hue = \"Target\")"
   ]
  },
  {
   "cell_type": "code",
   "execution_count": 36,
   "metadata": {},
   "outputs": [
    {
     "data": {
      "text/html": [
       "<div>\n",
       "<style scoped>\n",
       "    .dataframe tbody tr th:only-of-type {\n",
       "        vertical-align: middle;\n",
       "    }\n",
       "\n",
       "    .dataframe tbody tr th {\n",
       "        vertical-align: top;\n",
       "    }\n",
       "\n",
       "    .dataframe thead th {\n",
       "        text-align: right;\n",
       "    }\n",
       "</style>\n",
       "<table border=\"1\" class=\"dataframe\">\n",
       "  <thead>\n",
       "    <tr style=\"text-align: right;\">\n",
       "      <th></th>\n",
       "      <th>Target</th>\n",
       "      <th>Number_of_chars</th>\n",
       "      <th>Number_of_words</th>\n",
       "      <th>Number_of_sent</th>\n",
       "    </tr>\n",
       "  </thead>\n",
       "  <tbody>\n",
       "    <tr>\n",
       "      <th>Target</th>\n",
       "      <td>1.000000</td>\n",
       "      <td>0.384717</td>\n",
       "      <td>0.262969</td>\n",
       "      <td>0.267602</td>\n",
       "    </tr>\n",
       "    <tr>\n",
       "      <th>Number_of_chars</th>\n",
       "      <td>0.384717</td>\n",
       "      <td>1.000000</td>\n",
       "      <td>0.965784</td>\n",
       "      <td>0.626118</td>\n",
       "    </tr>\n",
       "    <tr>\n",
       "      <th>Number_of_words</th>\n",
       "      <td>0.262969</td>\n",
       "      <td>0.965784</td>\n",
       "      <td>1.000000</td>\n",
       "      <td>0.680882</td>\n",
       "    </tr>\n",
       "    <tr>\n",
       "      <th>Number_of_sent</th>\n",
       "      <td>0.267602</td>\n",
       "      <td>0.626118</td>\n",
       "      <td>0.680882</td>\n",
       "      <td>1.000000</td>\n",
       "    </tr>\n",
       "  </tbody>\n",
       "</table>\n",
       "</div>"
      ],
      "text/plain": [
       "                   Target  Number_of_chars  Number_of_words  Number_of_sent\n",
       "Target           1.000000         0.384717         0.262969        0.267602\n",
       "Number_of_chars  0.384717         1.000000         0.965784        0.626118\n",
       "Number_of_words  0.262969         0.965784         1.000000        0.680882\n",
       "Number_of_sent   0.267602         0.626118         0.680882        1.000000"
      ]
     },
     "execution_count": 36,
     "metadata": {},
     "output_type": "execute_result"
    }
   ],
   "source": [
    "cor = df.corr()\n",
    "cor"
   ]
  },
  {
   "cell_type": "code",
   "execution_count": 37,
   "metadata": {},
   "outputs": [
    {
     "data": {
      "text/plain": [
       "<AxesSubplot:>"
      ]
     },
     "execution_count": 37,
     "metadata": {},
     "output_type": "execute_result"
    },
    {
     "data": {
      "image/png": "[encoded data removed]",
      "text/plain": [
       "<Figure size 1152x576 with 2 Axes>"
      ]
     },
     "metadata": {
      "needs_background": "light"
     },
     "output_type": "display_data"
    }
   ],
   "source": [
    "plt.figure(figsize = (16,8))\n",
    "sns.heatmap(cor,annot = True)\n",
    "\n",
    "#number of words has the highest corelation with the target"
   ]
  },
  {
   "cell_type": "markdown",
   "metadata": {},
   "source": [
    "### After this analysis we found out that sms/emails with higher number of characters are more likely to be scam. Same goes for the number of words, however there are some outliers in this case which can hinder our classification. So we will most likely use number of characters as a parameter for classification."
   ]
  },
  {
   "cell_type": "markdown",
   "metadata": {},
   "source": [
    "# Data Pre-Processing"
   ]
  },
  {
   "cell_type": "code",
   "execution_count": 38,
   "metadata": {},
   "outputs": [
    {
     "data": {
      "text/plain": [
       "'!\"#$%&\\'()*+,-./:;<=>?@[\\\\]^_`{|}~'"
      ]
     },
     "execution_count": 38,
     "metadata": {},
     "output_type": "execute_result"
    }
   ],
   "source": [
    "from nltk.corpus import stopwords\n",
    "import string\n",
    "from nltk.stem.porter import PorterStemmer\n",
    "\n",
    "string.punctuation"
   ]
  },
  {
   "cell_type": "code",
   "execution_count": 39,
   "metadata": {},
   "outputs": [
    {
     "data": {
      "text/plain": [
       "['i',\n",
       " 'me',\n",
       " 'my',\n",
       " 'myself',\n",
       " 'we',\n",
       " 'our',\n",
       " 'ours',\n",
       " 'ourselves',\n",
       " 'you',\n",
       " \"you're\",\n",
       " \"you've\",\n",
       " \"you'll\",\n",
       " \"you'd\",\n",
       " 'your',\n",
       " 'yours',\n",
       " 'yourself',\n",
       " 'yourselves',\n",
       " 'he',\n",
       " 'him',\n",
       " 'his',\n",
       " 'himself',\n",
       " 'she',\n",
       " \"she's\",\n",
       " 'her',\n",
       " 'hers',\n",
       " 'herself',\n",
       " 'it',\n",
       " \"it's\",\n",
       " 'its',\n",
       " 'itself',\n",
       " 'they',\n",
       " 'them',\n",
       " 'their',\n",
       " 'theirs',\n",
       " 'themselves',\n",
       " 'what',\n",
       " 'which',\n",
       " 'who',\n",
       " 'whom',\n",
       " 'this',\n",
       " 'that',\n",
       " \"that'll\",\n",
       " 'these',\n",
       " 'those',\n",
       " 'am',\n",
       " 'is',\n",
       " 'are',\n",
       " 'was',\n",
       " 'were',\n",
       " 'be',\n",
       " 'been',\n",
       " 'being',\n",
       " 'have',\n",
       " 'has',\n",
       " 'had',\n",
       " 'having',\n",
       " 'do',\n",
       " 'does',\n",
       " 'did',\n",
       " 'doing',\n",
       " 'a',\n",
       " 'an',\n",
       " 'the',\n",
       " 'and',\n",
       " 'but',\n",
       " 'if',\n",
       " 'or',\n",
       " 'because',\n",
       " 'as',\n",
       " 'until',\n",
       " 'while',\n",
       " 'of',\n",
       " 'at',\n",
       " 'by',\n",
       " 'for',\n",
       " 'with',\n",
       " 'about',\n",
       " 'against',\n",
       " 'between',\n",
       " 'into',\n",
       " 'through',\n",
       " 'during',\n",
       " 'before',\n",
       " 'after',\n",
       " 'above',\n",
       " 'below',\n",
       " 'to',\n",
       " 'from',\n",
       " 'up',\n",
       " 'down',\n",
       " 'in',\n",
       " 'out',\n",
       " 'on',\n",
       " 'off',\n",
       " 'over',\n",
       " 'under',\n",
       " 'again',\n",
       " 'further',\n",
       " 'then',\n",
       " 'once',\n",
       " 'here',\n",
       " 'there',\n",
       " 'when',\n",
       " 'where',\n",
       " 'why',\n",
       " 'how',\n",
       " 'all',\n",
       " 'any',\n",
       " 'both',\n",
       " 'each',\n",
       " 'few',\n",
       " 'more',\n",
       " 'most',\n",
       " 'other',\n",
       " 'some',\n",
       " 'such',\n",
       " 'no',\n",
       " 'nor',\n",
       " 'not',\n",
       " 'only',\n",
       " 'own',\n",
       " 'same',\n",
       " 'so',\n",
       " 'than',\n",
       " 'too',\n",
       " 'very',\n",
       " 's',\n",
       " 't',\n",
       " 'can',\n",
       " 'will',\n",
       " 'just',\n",
       " 'don',\n",
       " \"don't\",\n",
       " 'should',\n",
       " \"should've\",\n",
       " 'now',\n",
       " 'd',\n",
       " 'll',\n",
       " 'm',\n",
       " 'o',\n",
       " 're',\n",
       " 've',\n",
       " 'y',\n",
       " 'ain',\n",
       " 'aren',\n",
       " \"aren't\",\n",
       " 'couldn',\n",
       " \"couldn't\",\n",
       " 'didn',\n",
       " \"didn't\",\n",
       " 'doesn',\n",
       " \"doesn't\",\n",
       " 'hadn',\n",
       " \"hadn't\",\n",
       " 'hasn',\n",
       " \"hasn't\",\n",
       " 'haven',\n",
       " \"haven't\",\n",
       " 'isn',\n",
       " \"isn't\",\n",
       " 'ma',\n",
       " 'mightn',\n",
       " \"mightn't\",\n",
       " 'mustn',\n",
       " \"mustn't\",\n",
       " 'needn',\n",
       " \"needn't\",\n",
       " 'shan',\n",
       " \"shan't\",\n",
       " 'shouldn',\n",
       " \"shouldn't\",\n",
       " 'wasn',\n",
       " \"wasn't\",\n",
       " 'weren',\n",
       " \"weren't\",\n",
       " 'won',\n",
       " \"won't\",\n",
       " 'wouldn',\n",
       " \"wouldn't\"]"
      ]
     },
     "execution_count": 39,
     "metadata": {},
     "output_type": "execute_result"
    }
   ],
   "source": [
    "stopwords.words('english')"
   ]
  },
  {
   "cell_type": "code",
   "execution_count": 40,
   "metadata": {},
   "outputs": [
    {
     "name": "stdout",
     "output_type": "stream",
     "text": [
      "True\n"
     ]
    }
   ],
   "source": [
    "i = \"if\"\n",
    "if i in stopwords.words('english'):\n",
    "    print('True')"
   ]
  },
  {
   "cell_type": "code",
   "execution_count": 41,
   "metadata": {},
   "outputs": [
    {
     "data": {
      "text/plain": [
       "'play'"
      ]
     },
     "execution_count": 41,
     "metadata": {},
     "output_type": "execute_result"
    }
   ],
   "source": [
    "ps = PorterStemmer()\n",
    "ps.stem('Playing')"
   ]
  },
  {
   "cell_type": "code",
   "execution_count": 42,
   "metadata": {},
   "outputs": [],
   "source": [
    "from nltk.corpus import stopwords\n",
    "import string\n",
    "def transform_text(text):\n",
    "    text = text.lower() #Converting it into lower case\n",
    "    text = nltk.word_tokenize(text) #Tokenizing and seperating all the words\n",
    "    cleaned_data = []\n",
    "    for i in text:\n",
    "        if i.isalnum():  #Only keeping the alpha numeric words in the email/sms\n",
    "            cleaned_data.append(i)\n",
    "        \n",
    "    text = cleaned_data\n",
    "    cleaned_data = []\n",
    "    \n",
    "    for i in text:\n",
    "        if i not in stopwords.words('english') and i not in string.punctuation: #Removing unnceassry words and punctuations\n",
    "            cleaned_data.append(i)\n",
    "    \n",
    "    \n",
    "    text = cleaned_data\n",
    "    cleaned_data = []\n",
    "    \n",
    "    #Stemming\n",
    "    for i in text:\n",
    "        cleaned_data.append(ps.stem(i))\n",
    "        \n",
    "    return \" \".join(cleaned_data)\n",
    "    \n",
    "    \n"
   ]
  },
  {
   "cell_type": "code",
   "execution_count": 43,
   "metadata": {
    "scrolled": true
   },
   "outputs": [
    {
     "data": {
      "text/plain": [
       "'test lmao 4416684 man play cri join reduc'"
      ]
     },
     "execution_count": 43,
     "metadata": {},
     "output_type": "execute_result"
    }
   ],
   "source": [
    "transform_text(\"If this is a test lmao 4416684 yourself is a man () /-sjxshbc playing crying joining reducing\")"
   ]
  },
  {
   "cell_type": "code",
   "execution_count": 44,
   "metadata": {},
   "outputs": [],
   "source": [
    "df[\"transformed_text\"] = df[\"Text\"].apply(transform_text)"
   ]
  },
  {
   "cell_type": "code",
   "execution_count": 45,
   "metadata": {},
   "outputs": [
    {
     "data": {
      "text/html": [
       "<div>\n",
       "<style scoped>\n",
       "    .dataframe tbody tr th:only-of-type {\n",
       "        vertical-align: middle;\n",
       "    }\n",
       "\n",
       "    .dataframe tbody tr th {\n",
       "        vertical-align: top;\n",
       "    }\n",
       "\n",
       "    .dataframe thead th {\n",
       "        text-align: right;\n",
       "    }\n",
       "</style>\n",
       "<table border=\"1\" class=\"dataframe\">\n",
       "  <thead>\n",
       "    <tr style=\"text-align: right;\">\n",
       "      <th></th>\n",
       "      <th>Target</th>\n",
       "      <th>Text</th>\n",
       "      <th>Number_of_chars</th>\n",
       "      <th>Number_of_words</th>\n",
       "      <th>Number_of_sent</th>\n",
       "      <th>transformed_text</th>\n",
       "    </tr>\n",
       "  </thead>\n",
       "  <tbody>\n",
       "    <tr>\n",
       "      <th>0</th>\n",
       "      <td>0</td>\n",
       "      <td>Go until jurong point, crazy.. Available only ...</td>\n",
       "      <td>111</td>\n",
       "      <td>24</td>\n",
       "      <td>2</td>\n",
       "      <td>go jurong point crazi avail bugi n great world...</td>\n",
       "    </tr>\n",
       "    <tr>\n",
       "      <th>1</th>\n",
       "      <td>0</td>\n",
       "      <td>Ok lar... Joking wif u oni...</td>\n",
       "      <td>29</td>\n",
       "      <td>8</td>\n",
       "      <td>2</td>\n",
       "      <td>ok lar joke wif u oni</td>\n",
       "    </tr>\n",
       "    <tr>\n",
       "      <th>2</th>\n",
       "      <td>1</td>\n",
       "      <td>Free entry in 2 a wkly comp to win FA Cup fina...</td>\n",
       "      <td>155</td>\n",
       "      <td>37</td>\n",
       "      <td>2</td>\n",
       "      <td>free entri 2 wkli comp win fa cup final tkt 21...</td>\n",
       "    </tr>\n",
       "    <tr>\n",
       "      <th>3</th>\n",
       "      <td>0</td>\n",
       "      <td>U dun say so early hor... U c already then say...</td>\n",
       "      <td>49</td>\n",
       "      <td>13</td>\n",
       "      <td>1</td>\n",
       "      <td>u dun say earli hor u c alreadi say</td>\n",
       "    </tr>\n",
       "    <tr>\n",
       "      <th>4</th>\n",
       "      <td>0</td>\n",
       "      <td>Nah I don't think he goes to usf, he lives aro...</td>\n",
       "      <td>61</td>\n",
       "      <td>15</td>\n",
       "      <td>1</td>\n",
       "      <td>nah think goe usf live around though</td>\n",
       "    </tr>\n",
       "    <tr>\n",
       "      <th>5</th>\n",
       "      <td>1</td>\n",
       "      <td>FreeMsg Hey there darling it's been 3 week's n...</td>\n",
       "      <td>148</td>\n",
       "      <td>39</td>\n",
       "      <td>4</td>\n",
       "      <td>freemsg hey darl 3 week word back like fun sti...</td>\n",
       "    </tr>\n",
       "    <tr>\n",
       "      <th>6</th>\n",
       "      <td>0</td>\n",
       "      <td>Even my brother is not like to speak with me. ...</td>\n",
       "      <td>77</td>\n",
       "      <td>18</td>\n",
       "      <td>2</td>\n",
       "      <td>even brother like speak treat like aid patent</td>\n",
       "    </tr>\n",
       "    <tr>\n",
       "      <th>7</th>\n",
       "      <td>0</td>\n",
       "      <td>As per your request 'Melle Melle (Oru Minnamin...</td>\n",
       "      <td>160</td>\n",
       "      <td>31</td>\n",
       "      <td>2</td>\n",
       "      <td>per request mell oru minnaminungint nurungu ve...</td>\n",
       "    </tr>\n",
       "    <tr>\n",
       "      <th>8</th>\n",
       "      <td>1</td>\n",
       "      <td>WINNER!! As a valued network customer you have...</td>\n",
       "      <td>158</td>\n",
       "      <td>32</td>\n",
       "      <td>5</td>\n",
       "      <td>winner valu network custom select receivea pri...</td>\n",
       "    </tr>\n",
       "    <tr>\n",
       "      <th>9</th>\n",
       "      <td>1</td>\n",
       "      <td>Had your mobile 11 months or more? U R entitle...</td>\n",
       "      <td>154</td>\n",
       "      <td>31</td>\n",
       "      <td>3</td>\n",
       "      <td>mobil 11 month u r entitl updat latest colour ...</td>\n",
       "    </tr>\n",
       "  </tbody>\n",
       "</table>\n",
       "</div>"
      ],
      "text/plain": [
       "   Target                                               Text  Number_of_chars  \\\n",
       "0       0  Go until jurong point, crazy.. Available only ...              111   \n",
       "1       0                      Ok lar... Joking wif u oni...               29   \n",
       "2       1  Free entry in 2 a wkly comp to win FA Cup fina...              155   \n",
       "3       0  U dun say so early hor... U c already then say...               49   \n",
       "4       0  Nah I don't think he goes to usf, he lives aro...               61   \n",
       "5       1  FreeMsg Hey there darling it's been 3 week's n...              148   \n",
       "6       0  Even my brother is not like to speak with me. ...               77   \n",
       "7       0  As per your request 'Melle Melle (Oru Minnamin...              160   \n",
       "8       1  WINNER!! As a valued network customer you have...              158   \n",
       "9       1  Had your mobile 11 months or more? U R entitle...              154   \n",
       "\n",
       "   Number_of_words  Number_of_sent  \\\n",
       "0               24               2   \n",
       "1                8               2   \n",
       "2               37               2   \n",
       "3               13               1   \n",
       "4               15               1   \n",
       "5               39               4   \n",
       "6               18               2   \n",
       "7               31               2   \n",
       "8               32               5   \n",
       "9               31               3   \n",
       "\n",
       "                                    transformed_text  \n",
       "0  go jurong point crazi avail bugi n great world...  \n",
       "1                              ok lar joke wif u oni  \n",
       "2  free entri 2 wkli comp win fa cup final tkt 21...  \n",
       "3                u dun say earli hor u c alreadi say  \n",
       "4               nah think goe usf live around though  \n",
       "5  freemsg hey darl 3 week word back like fun sti...  \n",
       "6      even brother like speak treat like aid patent  \n",
       "7  per request mell oru minnaminungint nurungu ve...  \n",
       "8  winner valu network custom select receivea pri...  \n",
       "9  mobil 11 month u r entitl updat latest colour ...  "
      ]
     },
     "execution_count": 45,
     "metadata": {},
     "output_type": "execute_result"
    }
   ],
   "source": [
    "df.head(10)"
   ]
  },
  {
   "cell_type": "code",
   "execution_count": 46,
   "metadata": {},
   "outputs": [],
   "source": [
    "from wordcloud import WordCloud"
   ]
  },
  {
   "cell_type": "code",
   "execution_count": 47,
   "metadata": {},
   "outputs": [
    {
     "name": "stdout",
     "output_type": "stream",
     "text": [
      "Requirement already satisfied: wordcloud in /home/soham/anaconda3/lib/python3.8/site-packages (1.8.1)\n",
      "Requirement already satisfied: matplotlib in /home/soham/anaconda3/lib/python3.8/site-packages (from wordcloud) (3.3.2)\n",
      "Requirement already satisfied: numpy>=1.6.1 in /home/soham/anaconda3/lib/python3.8/site-packages (from wordcloud) (1.19.2)\n",
      "Requirement already satisfied: pillow in /home/soham/anaconda3/lib/python3.8/site-packages (from wordcloud) (8.0.1)\n",
      "Requirement already satisfied: python-dateutil>=2.1 in /home/soham/anaconda3/lib/python3.8/site-packages (from matplotlib->wordcloud) (2.8.1)\n",
      "Requirement already satisfied: pyparsing!=2.0.4,!=2.1.2,!=2.1.6,>=2.0.3 in /home/soham/anaconda3/lib/python3.8/site-packages (from matplotlib->wordcloud) (2.4.7)\n",
      "Requirement already satisfied: cycler>=0.10 in /home/soham/anaconda3/lib/python3.8/site-packages (from matplotlib->wordcloud) (0.10.0)\n",
      "Requirement already satisfied: kiwisolver>=1.0.1 in /home/soham/anaconda3/lib/python3.8/site-packages (from matplotlib->wordcloud) (1.3.0)\n",
      "Requirement already satisfied: certifi>=2020.06.20 in /home/soham/anaconda3/lib/python3.8/site-packages (from matplotlib->wordcloud) (2020.6.20)\n",
      "Requirement already satisfied: six>=1.5 in /home/soham/anaconda3/lib/python3.8/site-packages (from python-dateutil>=2.1->matplotlib->wordcloud) (1.15.0)\n"
     ]
    }
   ],
   "source": [
    "!pip install wordcloud"
   ]
  },
  {
   "cell_type": "code",
   "execution_count": 48,
   "metadata": {},
   "outputs": [],
   "source": [
    "wc = WordCloud(width = 1000, height = 1000,min_font_size = 15,background_color = \"white\")\n",
    "spam_wc = wc.generate(df[df['Target'] == 1]['transformed_text'].str.cat(sep = \" \"))\n"
   ]
  },
  {
   "cell_type": "code",
   "execution_count": 49,
   "metadata": {},
   "outputs": [
    {
     "data": {
      "text/plain": [
       "<matplotlib.image.AxesImage at 0x7f4eea6f4250>"
      ]
     },
     "execution_count": 49,
     "metadata": {},
     "output_type": "execute_result"
    },
    {
     "data": {
      "image/png": "[encoded data removed]",
      "text/plain": [
       "<Figure size 1080x504 with 1 Axes>"
      ]
     },
     "metadata": {
      "needs_background": "light"
     },
     "output_type": "display_data"
    }
   ],
   "source": [
    "plt.figure(figsize = (15,7))\n",
    "plt.imshow(spam_wc)"
   ]
  },
  {
   "cell_type": "code",
   "execution_count": 50,
   "metadata": {},
   "outputs": [
    {
     "data": {
      "text/plain": [
       "<matplotlib.image.AxesImage at 0x7f4eea548550>"
      ]
     },
     "execution_count": 50,
     "metadata": {},
     "output_type": "execute_result"
    },
    {
     "data": {
      "image/png": "[encoded data removed]",
      "text/plain": [
       "<Figure size 1080x504 with 1 Axes>"
      ]
     },
     "metadata": {
      "needs_background": "light"
     },
     "output_type": "display_data"
    }
   ],
   "source": [
    "plt.figure(figsize = (15,7))\n",
    "not_spam_wc = wc.generate(df[df['Target'] == 0]['transformed_text'].str.cat(sep = \" \"))\n",
    "plt.imshow(not_spam_wc) "
   ]
  },
  {
   "cell_type": "markdown",
   "metadata": {},
   "source": [
    "## Finding the most used words"
   ]
  },
  {
   "cell_type": "code",
   "execution_count": 51,
   "metadata": {},
   "outputs": [
    {
     "data": {
      "text/plain": [
       "9939"
      ]
     },
     "execution_count": 51,
     "metadata": {},
     "output_type": "execute_result"
    }
   ],
   "source": [
    "spam_corpus = []\n",
    "for msg in df[df['Target'] == 1]['transformed_text'].tolist():\n",
    "    for word in msg.split():\n",
    "        spam_corpus.append(word)\n",
    "len(spam_corpus)"
   ]
  },
  {
   "cell_type": "code",
   "execution_count": 52,
   "metadata": {},
   "outputs": [
    {
     "name": "stdout",
     "output_type": "stream",
     "text": [
      "['free', 'entri', '2', 'wkli', 'comp', 'win', 'fa', 'cup', 'final', 'tkt', '21st', 'may', 'text', 'fa', '87121', 'receiv', 'entri', 'question', 'std', 'txt', 'rate', 'c', 'appli', '08452810075over18', 'freemsg', 'hey', 'darl', '3', 'week', 'word', 'back', 'like', 'fun', 'still', 'tb', 'ok', 'xxx', 'std', 'chg', 'send', 'rcv', 'winner', 'valu', 'network', 'custom', 'select', 'receivea', 'prize', 'reward', 'claim', 'call', 'claim', 'code', 'kl341', 'valid', '12', 'hour', 'mobil', '11', 'month', 'u', 'r', 'entitl', 'updat', 'latest', 'colour', 'mobil', 'camera', 'free', 'call', 'mobil', 'updat', 'co', 'free', '08002986030', 'six', 'chanc', 'win', 'cash', '100', 'pound', 'txt', 'csh11', 'send', 'cost', '6day', 'tsandc', 'appli', 'repli', 'hl', '4', 'info', 'urgent', '1', 'week', 'free', 'membership', 'prize', 'jackpot', 'txt', 'word', 'claim', '81010', 'c', 'lccltd', 'pobox', '4403ldnw1a7rw18', 'xxxmobilemovieclub', 'use', 'credit', 'click', 'wap', 'link', 'next', 'txt', 'messag', 'click', 'http', 'england', 'v', 'macedonia', 'dont', 'miss', 'news', 'txt', 'ur', 'nation', 'team', '87077', 'eg', 'england', '87077', 'tri', 'wale', 'scotland', 'poboxox36504w45wq', 'thank', 'subscript', 'rington', 'uk', 'mobil', 'charg', 'pleas', 'confirm', 'repli', 'ye', 'repli', 'charg', '07732584351', 'rodger', 'burn', 'msg', 'tri', 'call', 'repli', 'sm', 'free', 'nokia', 'mobil', 'free', 'camcord', 'pleas', 'call', '08000930705', 'deliveri', 'tomorrow', 'sm', 'ac', 'sptv', 'new', 'jersey', 'devil', 'detroit', 'red', 'wing', 'play', 'ice', 'hockey', 'correct', 'incorrect', 'end', 'repli', 'end', 'sptv', 'congrat', '1', 'year', 'special', 'cinema', 'pass', '2', 'call', '09061209465', 'c', 'suprman', 'v', 'matrix3', 'starwars3', 'etc', '4', 'free', '150pm', 'dont', 'miss', 'valu', 'custom', 'pleas', 'advis', 'follow', 'recent', 'review', 'mob', 'award', 'bonu', 'prize', 'call', '09066364589', 'urgent', 'ur', 'award', 'complimentari', 'trip', 'eurodisinc', 'trav', 'aco', 'entry41', 'claim', 'txt', 'di', '87121', 'morefrmmob', 'shracomorsglsuplt', '10', 'ls1', '3aj', 'hear', 'new', 'come', 'ken', 'stuff', 'pleas', 'call', 'custom', 'servic', 'repres', '0800', '169', '6031', 'guarante', 'cash', 'prize', 'free', 'rington', 'wait', 'collect', 'simpli', 'text', 'password', '85069', 'verifi', 'get', 'usher', 'britney', 'fml', 'gent', 'tri', 'contact', 'last', 'weekend', 'draw', 'show', 'prize', 'guarante', 'call', 'claim', 'code', 'k52', 'valid', '12hr', '150ppm', 'winner', 'u', 'special', 'select', '2', 'receiv', '4', 'holiday', 'flight', 'inc', 'speak', 'live', 'oper', '2', 'claim', 'privat', '2004', 'account', 'statement', '07742676969', 'show', '786', 'unredeem', 'bonu', 'point', 'claim', 'call', '08719180248', 'identifi', 'code', '45239', 'expir', 'urgent', 'mobil', 'award', 'bonu', 'caller', 'prize', 'final', 'tri', 'contact', 'u', 'call', 'landlin', '09064019788', 'box42wr29c', '150ppm', 'today', 'voda', 'number', 'end', '7548', 'select', 'receiv', '350', 'award', 'match', 'pleas', 'call', '08712300220', 'quot', 'claim', 'code', '4041', 'standard', 'rate', 'app', 'sunshin', 'quiz', 'wkli', 'q', 'win', 'top', 'soni', 'dvd', 'player', 'u', 'know', 'countri', 'algarv', 'txt', 'ansr', 'sp', 'tyron', 'want', '2', 'get', 'laid', 'tonight', 'want', 'real', 'dog', 'locat', 'sent', 'direct', '2', 'ur', 'mob', 'join', 'uk', 'largest', 'dog', 'network', 'bt', 'txting', 'gravel', '69888', 'nt', 'ec2a', '150p', 'rcv', 'msg', 'chat', 'svc', 'free', 'hardcor', 'servic', 'text', 'go', '69988', 'u', 'get', 'noth', 'u', 'must', 'age', 'verifi', 'yr', 'network', 'tri', 'freemsg', 'repli', 'text', 'randi', 'sexi', 'femal', 'live', 'local', 'luv', 'hear', 'netcollex', 'ltd', '08700621170150p', 'per', 'msg', 'repli', 'stop', 'end', 'custom', 'servic', 'annonc', 'new', 'year', 'deliveri', 'wait', 'pleas', 'call', '07046744435', 'arrang', 'deliveri', 'winner', 'u', 'special', 'select', '2', 'receiv', 'cash', '4', 'holiday', 'flight', 'inc', 'speak', 'live', 'oper', '2', 'claim', '0871277810810', 'stop', 'bootydeli', 'invit', 'friend', 'repli', 'see', 'stop', 'send', 'stop', 'frnd', '62468', 'bangbab', 'ur', 'order', 'way', 'u', 'receiv', 'servic', 'msg', '2', 'download', 'ur', 'content', 'u', 'goto', 'wap', 'bangb', 'tv', 'ur', 'mobil', 'menu', 'urgent', 'tri', 'contact', 'last', 'weekend', 'draw', 'show', 'prize', 'guarante', 'call', 'claim', 'code', 's89', 'valid', '12hr', 'pleas', 'call', 'custom', 'servic', 'repres', 'freephon', '0808', '145', '4742', 'guarante', 'cash', 'prize', 'uniqu', 'enough', 'find', '30th', 'august', '500', 'new', 'mobil', '2004', 'must', 'go', 'txt', 'nokia', '89545', 'collect', 'today', '2optout', 'u', 'meet', 'ur', 'dream', 'partner', 'soon', 'ur', 'career', '2', 'flyng', 'start', '2', 'find', 'free', 'txt', 'horo', 'follow', 'ur', 'star', 'sign', 'horo', 'ari', 'text', 'meet', 'someon', 'sexi', 'today', 'u', 'find', 'date', 'even', 'flirt', 'join', '4', '10p', 'repli', 'name', 'age', 'eg', 'sam', '25', '18', 'recd', 'thirtyeight', 'penc', 'u', '447801259231', 'secret', 'admir', 'look', '2', 'make', 'contact', 'r', 'reveal', 'think', 'ur', '09058094597', 'congratul', 'ur', 'award', '500', 'cd', 'voucher', '125gift', 'guarante', 'free', 'entri', '2', '100', 'wkli', 'draw', 'txt', 'music', '87066', 'tnc', 'tri', 'contact', 'repli', 'offer', 'video', 'handset', '750', 'anytim', 'network', 'min', 'unlimit', 'text', 'camcord', 'repli', 'call', '08000930705', 'hey', 'realli', 'horni', 'want', 'chat', 'see', 'nake', 'text', 'hot', '69698', 'text', 'charg', '150pm', 'unsubscrib', 'text', 'stop', '69698', 'ur', 'rington', 'servic', 'chang', '25', 'free', 'credit', 'go', 'choos', 'content', 'stop', 'txt', 'club', 'stop', '87070', 'club4', 'po', 'box1146', 'mk45', '2wt', 'rington', 'club', 'get', 'uk', 'singl', 'chart', 'mobil', 'week', 'choos', 'top', 'qualiti', 'rington', 'messag', 'free', 'charg', 'hmv', 'bonu', 'special', '500', 'pound', 'genuin', 'hmv', 'voucher', 'answer', '4', 'easi', 'question', 'play', 'send', 'hmv', '86688', 'info', 'custom', 'may', 'claim', 'free', 'camera', 'phone', 'upgrad', 'pay', 'go', 'sim', 'card', 'loyalti', 'call', '0845', '021', 'end', 'c', 'appli', 'sm', 'ac', 'blind', 'date', '4u', 'rodds1', 'aberdeen', 'unit', 'kingdom', 'check', 'http', 'sm', 'blind', 'date', 'send', 'hide', 'themob', 'check', 'newest', 'select', 'content', 'game', 'tone', 'gossip', 'babe', 'sport', 'keep', 'mobil', 'fit', 'funki', 'text', 'wap', '82468', 'think', 'ur', 'smart', 'win', 'week', 'weekli', 'quiz', 'text', 'play', '85222', 'cs', 'winnersclub', 'po', 'box', '84', 'm26', '3uz', 'decemb', 'mobil', 'entitl', 'updat', 'latest', 'colour', 'camera', 'mobil', 'free', 'call', 'mobil', 'updat', 'co', 'free', '08002986906', 'call', 'germani', '1', 'penc', 'per', 'minut', 'call', 'fix', 'line', 'via', 'access', 'number', '0844', '861', '85', 'prepay', 'direct', 'access', 'valentin', 'day', 'special', 'win', 'quiz', 'take', 'partner', 'trip', 'lifetim', 'send', 'go', '83600', 'rcvd', 'fanci', 'shag', 'txt', 'xxuk', 'suzi', 'txt', 'cost', 'per', 'msg', 'tnc', 'websit', 'x', 'ur', 'current', '500', 'pound', 'maxim', 'ur', 'send', 'cash', '86688', 'cc', '08708800282', 'xma', 'offer', 'latest', 'motorola', 'sonyericsson', 'nokia', 'free', 'bluetooth', 'doubl', 'min', '1000', 'txt', 'orang', 'call', 'mobileupd8', '08000839402', 'discount', 'code', 'rp176781', 'stop', 'messag', 'repli', 'stop', 'custom', 'servic', '08717205546', 'thank', 'rington', 'order', 'refer', 't91', 'charg', 'gbp', '4', 'per', 'week', 'unsubscrib', 'anytim', 'call', 'custom', 'servic', '09057039994', 'doubl', 'min', 'txt', '4', '6month', 'free', 'bluetooth', 'orang', 'avail', 'soni', 'nokia', 'motorola', 'phone', 'call', 'mobileupd8', '08000839402', '4mth', 'half', 'price', 'orang', 'line', 'rental', 'latest', 'camera', 'phone', '4', 'free', 'phone', '11mth', 'call', 'mobilesdirect', 'free', '08000938767', 'updat', 'or2stoptxt', 'free', 'rington', 'text', 'first', '87131', 'poli', 'text', 'get', '87131', 'true', 'tone', 'help', '0845', '2814032', '16', '1st', 'free', 'tone', 'txt', 'stop', '100', 'date', 'servic', 'cal', 'l', '09064012103', 'box334sk38ch', 'free', 'entri', 'weekli', 'competit', 'text', 'word', 'win', '80086', '18', 'c', 'send', 'logo', '2', 'ur', 'lover', '2', 'name', 'join', 'heart', 'txt', 'love', 'name1', 'name2', 'mobno', 'eg', 'love', 'adam', 'eve', '07123456789', '87077', 'yahoo', 'pobox36504w45wq', 'txtno', '4', 'ad', '150p', 'someon', 'contact', 'date', 'servic', 'enter', 'phone', 'fanci', 'find', 'call', 'landlin', '09111032124', 'pobox12n146tf150p', 'urgent', 'mobil', 'number', 'award', 'prize', 'guarante', 'call', '09058094455', 'land', 'line', 'claim', 'valid', '12hr', 'congrat', 'nokia', '3650', 'video', 'camera', 'phone', 'call', '09066382422', 'call', 'cost', '150ppm', 'ave', 'call', '3min', 'vari', 'mobil', 'close', '300603', 'post', 'bcm4284', 'ldn', 'wc1n3xx', 'loan', 'purpos', 'homeown', 'tenant', 'welcom', 'previous', 'refus', 'still', 'help', 'call', 'free', '0800', '1956669', 'text', 'back', 'upgrdcentr', 'orang', 'custom', 'may', 'claim', 'free', 'camera', 'phone', 'upgrad', 'loyalti', 'call', '0207', '153', 'offer', 'end', '26th', 'juli', 'c', 'appli', 'avail', 'okmail', 'dear', 'dave', 'final', 'notic', 'collect', '4', 'tenerif', 'holiday', '5000', 'cash', 'award', 'call', '09061743806', 'landlin', 'tc', 'sae', 'box326', 'cw25wx', '150ppm', 'want', '2', 'get', 'laid', 'tonight', 'want', 'real', 'dog', 'locat', 'sent', 'direct', '2', 'ur', 'mob', 'join', 'uk', 'largest', 'dog', 'network', 'txting', 'moan', '69888nyt', 'ec2a', '150p', 'free', 'messag', 'activ', '500', 'free', 'text', 'messag', 'repli', 'messag', 'word', 'free', 'term', 'condit', 'visit', 'congrat', '1', 'year', 'special', 'cinema', 'pass', '2', 'call', '09061209465', 'c', 'suprman', 'v', 'matrix3', 'starwars3', 'etc', '4', 'free', '150pm', 'dont', 'miss', 'congratul', 'week', 'competit', 'draw', 'u', 'prize', 'claim', 'call', '09050002311', 'b4280703', 'sm', '18', '150ppm', 'guarante', 'latest', 'nokia', 'phone', '40gb', 'ipod', 'mp3', 'player', 'prize', 'txt', 'word', 'collect', '83355', 'ibhltd', 'ldnw15h', 'boltblu', 'tone', '150p', 'repli', 'poli', 'mono', 'eg', 'poly3', 'cha', 'cha', 'slide', 'yeah', 'slow', 'jamz', 'toxic', 'come', 'stop', '4', 'tone', 'txt', 'credit', 'top', 'http', 'renew', 'pin', 'tgxxrz', 'urgent', 'mobil', 'award', 'bonu', 'caller', 'prize', '2nd', 'attempt', 'contact', 'call', 'box95qu', 'today', 'offer', 'claim', 'ur', 'worth', 'discount', 'voucher', 'text', 'ye', '85023', 'savamob', 'member', 'offer', 'mobil', 'cs', 'sub', '16', 'unsub', 'repli', 'x', 'reciev', 'tone', 'within', 'next', '24hr', 'term', 'condit', 'pleas', 'see', 'channel', 'u', 'teletext', 'pg', '750', 'privat', '2003', 'account', 'statement', '07815296484', 'show', '800', 'point', 'call', '08718738001', 'identifi', 'code', '41782', 'expir', 'monthlysubscript', 'csc', 'web', 'age16', '2stop', 'txt', 'stop', 'gent', 'tri', 'contact', 'last', 'weekend', 'draw', 'show', 'prize', 'guarante', 'call', 'claim', 'code', 'k52', 'valid', '12hr', '150ppm', 'cash', 'prize', 'claim', 'call09050000327', 'mobil', 'number', 'claim', 'call', 'us', 'back', 'ring', 'claim', 'hot', 'line', '09050005321', 'tri', 'contact', 'repli', 'offer', '750', 'min', '150', 'textand', 'new', 'video', 'phone', 'call', '08002988890', 'repli', 'free', 'deliveri', 'tomorrow', 'ur', 'chanc', 'win', 'wkli', 'shop', 'spree', 'txt', 'shop', 'c', 'custcar', '08715705022', 'special', 'select', 'receiv', '2000', 'pound', 'award', 'call', '08712402050', 'line', 'close', 'cost', '10ppm', 'cs', 'appli', 'ag', 'promo', 'privat', '2003', 'account', 'statement', '07753741225', 'show', '800', 'point', 'call', '08715203677', 'identifi', 'code', '42478', 'expir', 'import', 'custom', 'servic', 'announc', 'call', 'freephon', '0800', '542', '0825', 'xclusiv', 'clubsaisai', '2morow', 'soire', 'special', 'zouk', 'nichol', 'rose', '2', 'ladi', 'info', '22', 'day', 'kick', 'euro2004', 'u', 'kept', 'date', 'latest', 'news', 'result', 'daili', 'remov', 'send', 'get', 'txt', 'stop', '83222', 'new', 'textbuddi', 'chat', '2', 'horni', 'guy', 'ur', 'area', '4', '25p', 'free', '2', 'receiv', 'search', 'postcod', 'txt', 'one', 'name', '89693', 'today', 'vodafon', 'number', 'end', '4882', 'select', 'receiv', 'award', 'number', 'match', 'call', '09064019014', 'receiv', 'award', 'dear', 'voucher', 'holder', '2', 'claim', 'week', 'offer', 'pc', 'go', 'http', 'ts', 'cs', 'stop', 'text', 'txt', 'stop', '80062', 'privat', '2003', 'account', 'statement', 'show', '800', 'point', 'call', '08715203694', 'identifi', 'code', '40533', 'expir', 'cash', 'prize', 'claim', 'call09050000327', 'c', 'rstm', 'sw7', '3ss', '150ppm', '88800', '89034', 'premium', 'phone', 'servic', 'call', '08718711108', 'sm', 'ac', 'sun0819', 'post', 'hello', 'seem', 'cool', 'get', 'ur', '1st', 'rington', 'free', 'repli', 'msg', 'tone', 'gr8', 'top', '20', 'tone', 'phone', 'everi', 'week', 'per', 'wk', '2', 'opt', 'send', 'stop', '08452810071', '16', 'hi', 'sue', '20', 'year', 'old', 'work', 'lapdanc', 'love', 'sex', 'text', 'live', 'bedroom', 'text', 'sue', 'textoper', 'g2', '1da', '150ppmsg', 'forward', '448712404000', 'pleas', 'call', '08712404000', 'immedi', 'urgent', 'messag', 'wait', 'review', 'keep', 'fantast', 'nokia', 'game', 'deck', 'club', 'nokia', 'go', '2', 'unsubscrib', 'alert', 'repli', 'word', '4mth', 'half', 'price', 'orang', 'line', 'rental', 'latest', 'camera', 'phone', '4', 'free', 'phone', 'call', 'mobilesdirect', 'free', '08000938767', 'updat', 'or2stoptxt', 'cs', '08714712388', 'cost', '10p', 'urgent', '2nd', 'attempt', 'contact', 'u', 'u', 'call', '09071512433', 'b4', '050703', 'csbcm4235wc1n3xx', 'callcost', '150ppm', 'mobilesvari', '50', 'guarante', 'cash', 'prize', 'claim', 'yr', 'prize', 'call', 'custom', 'servic', 'repres', '08714712394', 'email', 'alertfrom', 'jeri', 'stewarts', '2kbsubject', 'prescripiton', 'drvgsto', 'listen', 'email', 'call', '123', 'hi', 'custom', 'loyalti', 'offer', 'new', 'nokia6650', 'mobil', 'txtauction', 'txt', 'word', 'start', '81151', 'get', '4t', 'ctxt', 'tc', 'u', 'subscrib', 'best', 'mobil', 'content', 'servic', 'uk', 'per', '10', 'day', 'send', 'stop', 'helplin', '08706091795', 'realiz', '40', 'year', 'thousand', 'old', 'ladi', 'run', 'around', 'tattoo', 'import', 'custom', 'servic', 'announc', 'premier', 'romant', 'pari', '2', 'night', '2', 'flight', 'book', '4', 'next', 'year', 'call', '08704439680t', 'cs', 'appli', 'urgent', 'ur', 'guarante', 'award', 'still', 'unclaim', 'call', '09066368327', 'claimcod', 'm39m51', 'ur', 'award', 'citi', 'break', 'could', 'win', 'summer', 'shop', 'spree', 'everi', 'wk', 'txt', 'store', '88039', 'skilgm', 'tscs087147403231winawk', 'age16', 'import', 'custom', 'servic', 'announc', 'premier', 'call', 'freephon', '0800', '542', '0578', 'ever', 'thought', 'live', 'good', 'life', 'perfect', 'partner', 'txt', 'back', 'name', 'age', 'join', 'mobil', 'commun', '5', 'free', 'top', 'polyphon', 'tone', 'call', '087018728737', 'nation', 'rate', 'get', 'toppoli', 'tune', 'sent', 'everi', 'week', 'text', 'subpoli', '81618', 'per', 'pole', 'unsub', '08718727870', 'orang', 'custom', 'may', 'claim', 'free', 'camera', 'phone', 'upgrad', 'loyalti', 'call', '0207', '153', 'offer', 'end', '14thmarch', 'c', 'appli', 'availa', 'last', 'chanc', 'claim', 'ur', 'worth', 'discount', 'voucher', 'today', 'text', 'shop', '85023', 'savamob', 'offer', 'mobil', 'cs', 'savamob', 'pobox84', 'm263uz', 'sub', '16', 'free', '1st', 'week', 'no1', 'nokia', 'tone', '4', 'ur', 'mobil', 'everi', 'week', 'txt', 'nokia', '8077', 'get', 'txting', 'tell', 'ur', 'mate', 'pobox', '36504', 'w45wq', 'guarante', 'award', 'even', 'cashto', 'claim', 'ur', 'award', 'call', 'free', '08000407165', '2', 'stop', 'getstop', '88222', 'php', 'rg21', '4jx', 'congratul', 'ur', 'award', 'either', 'cd', 'gift', 'voucher', 'free', 'entri', '2', 'weekli', 'draw', 'txt', 'music', '87066', 'tnc', 'u', 'outbid', 'simonwatson5120', 'shinco', 'dvd', 'plyr', '2', 'bid', 'visit', 'sm', '2', 'end', 'bid', 'notif', 'repli', 'end', 'smsservic', 'yourinclus', 'text', 'credit', 'pl', 'goto', '3qxj9', 'unsubscrib', 'stop', 'extra', 'charg', 'help', '9ae', '25p', '4', 'alfi', 'moon', 'children', 'need', 'song', 'ur', 'mob', 'tell', 'ur', 'm8', 'txt', 'tone', 'chariti', '8007', 'nokia', 'poli', 'chariti', 'poli', 'zed', '08701417012', 'profit', '2', 'chariti', 'u', 'secret', 'admir', 'reveal', 'think', 'u', 'r', 'special', 'call', 'opt', 'repli', 'reveal', 'stop', 'per', 'msg', 'recd', 'cust', 'care', '07821230901', 'dear', 'voucher', 'holder', 'claim', 'week', 'offer', 'pc', 'pleas', 'go', 'http', 'ts', 'cs', 'appli', 'stop', 'text', 'txt', 'stop', '80062', 'want', '750', 'anytim', 'network', 'min', '150', 'text', 'new', 'video', 'phone', 'five', 'pound', 'per', 'week', 'call', '08002888812', 'repli', 'deliveri', 'tomorrow', 'tri', 'contact', 'offer', 'new', 'video', 'phone', '750', 'anytim', 'network', 'min', 'half', 'price', 'rental', 'camcord', 'call', '08000930705', 'repli', 'deliveri', 'wed', 'last', 'chanc', '2', 'claim', 'ur', 'worth', 'discount', 'ye', '85023', 'offer', 'mobil', 'cs', 'sub', '16', 'remov', 'txt', 'x', 'stop', 'urgent', 'call', '09066350750', 'landlin', 'complimentari', '4', 'ibiza', 'holiday', 'cash', 'await', 'collect', 'sae', 'cs', 'po', 'box', '434', 'sk3', '8wp', '150', 'ppm', 'talk', 'sexi', 'make', 'new', 'friend', 'fall', 'love', 'world', 'discreet', 'text', 'date', 'servic', 'text', 'vip', '83110', 'see', 'could', 'meet', 'congratul', 'ur', 'award', 'either', 'yr', 'suppli', 'cd', 'virgin', 'record', 'mysteri', 'gift', 'guarante', 'call', '09061104283', 'ts', 'cs', 'approx', '3min', 'privat', '2003', 'account', 'statement', '07808', 'xxxxxx', 'show', '800', 'point', 'call', '08719899217', 'identifi', 'code', '41685', 'expir', 'hello', 'need', 'posh', 'bird', 'chap', 'user', 'trial', 'prod', 'champney', 'put', 'need', 'address', 'dob', 'asap', 'ta', 'r', 'u', 'want', 'xma', '100', 'free', 'text', 'messag', 'new', 'video', 'phone', 'half', 'price', 'line', 'rental', 'call', 'free', '0800', '0721072', 'find', 'shop', 'till', 'u', 'drop', 'either', '10k', '5k', 'cash', 'travel', 'voucher', 'call', 'ntt', 'po', 'box', 'cr01327bt', 'fixedlin', 'cost', '150ppm', 'mobil', 'vari', 'sunshin', 'quiz', 'wkli', 'q', 'win', 'top', 'soni', 'dvd', 'player', 'u', 'know', 'countri', 'liverpool', 'play', 'mid', 'week', 'txt', 'ansr', 'sp', 'tyron', 'u', 'secret', 'admir', 'look', '2', 'make', 'contact', 'r', 'reveal', 'think', 'ur', '09058094565', 'u', 'secret', 'admir', 'look', '2', 'make', 'contact', 'r', 'reveal', 'think', 'ur', 'remind', 'download', 'content', 'alreadi', 'paid', 'goto', 'http', 'mymobi', 'collect', 'content', 'lastest', 'stereophon', 'marley', 'dizze', 'racal', 'libertin', 'stroke', 'win', 'nookii', 'game', 'flirt', 'click', 'themob', 'wap', 'bookmark', 'text', 'wap', '82468', 'januari', 'male', 'sale', 'hot', 'gay', 'chat', 'cheaper', 'call', 'nation', 'rate', 'cheap', 'peak', 'stop', 'text', 'call', '08712460324', 'money', 'r', 'lucki', 'winner', '2', 'claim', 'prize', 'text', 'money', '2', '88600', 'give', 'away', 'text', 'rate', 'box403', 'w1t1ji', 'dear', 'matthew', 'pleas', 'call', '09063440451', 'landlin', 'complimentari', '4', 'lux', 'tenerif', 'holiday', 'cash', 'await', 'collect', 'ppm150', 'sae', 'cs', 'box334', 'sk38xh', 'urgent', 'call', '09061749602', 'landlin', 'complimentari', '4', 'tenerif', 'holiday', 'cash', 'await', 'collect', 'sae', 'cs', 'box', '528', 'hp20', '1yf', '150ppm', 'get', 'touch', 'folk', 'wait', 'compani', 'txt', 'back', 'name', 'age', 'opt', 'enjoy', 'commun', 'ur', 'current', '500', 'pound', 'maxim', 'ur', 'send', 'go', '86688', 'cc', '08718720201', 'po', 'box', 'filthi', 'stori', 'girl', 'wait', 'urgent', 'tri', 'contact', 'today', 'draw', 'show', 'prize', 'guarante', 'call', '09050001808', 'land', 'line', 'claim', 'm95', 'valid12hr', 'congrat', '2', 'mobil', '3g', 'videophon', 'r', 'call', '09063458130', 'videochat', 'wid', 'mate', 'play', 'java', 'game', 'dload', 'polyph', 'music', 'nolin', 'rentl', 'panason', 'bluetoothhdset', 'free', 'nokia', 'free', 'motorola', 'free', 'doublemin', 'doubletxt', 'orang', 'contract', 'call', 'mobileupd8', '08000839402', 'call', '2optout', 'free', '1st', 'week', 'no1', 'nokia', 'tone', '4', 'ur', 'mob', 'everi', 'week', 'txt', 'nokia', '8007', 'get', 'txting', 'tell', 'ur', 'mate', 'pobox', '36504', 'w45wq', 'guess', 'somebodi', 'know', 'secretli', 'fanci', 'wan', 'na', 'find', 'give', 'us', 'call', '09065394514', 'landlin', 'datebox1282essexcm61xn', '18', 'know', 'someon', 'know', 'fanci', 'call', '09058097218', 'find', 'pobox', '6', 'ls15hb', '150p', '1000', 'flirt', 'txt', 'girl', 'bloke', 'ur', 'name', 'age', 'eg', 'girl', 'zoe', '18', '8007', 'join', 'get', 'chat', '18', 'day', 'euro2004', 'kickoff', 'u', 'kept', 'inform', 'latest', 'news', 'result', 'daili', 'unsubscrib', 'send', 'get', 'euro', 'stop', '83222', 'eastend', 'tv', 'quiz', 'flower', 'dot', 'compar', 'violet', 'tulip', 'lili', 'txt', 'e', 'f', '84025', '4', 'chanc', '2', 'win', 'cash', 'new', 'local', 'date', 'area', 'lot', 'new', 'peopl', 'regist', 'area', 'repli', 'date', 'start', '18', 'replys150', 'someon', 'u', 'know', 'ask', 'date', 'servic', '2', 'contact', 'cant', 'guess', 'call', '09058091854', 'reveal', 'po', 'box385', 'm6', '6wu', 'urgent', 'tri', 'contact', 'today', 'draw', 'show', 'prize', 'guarante', 'call', '09050003091', 'land', 'line', 'claim', 'c52', 'valid12hr', 'dear', 'u', 'invit', 'xchat', 'final', 'attempt', 'contact', 'u', 'txt', 'chat', '86688', 'award', 'sipix', 'digit', 'camera', 'call', '09061221061', 'landlin', 'deliveri', 'within', '28day', 'cs', 'box177', 'm221bp', '2yr', 'warranti', '150ppm', '16', 'p', 'win', 'urgent', 'mobil', 'number', 'award', 'prize', 'guarante', 'call', '09061790121', 'land', 'line', 'claim', '3030', 'valid', '12hr', '150ppm', 'dear', 'subscrib', 'ur', 'draw', '4', 'gift', 'voucher', 'b', 'enter', 'receipt', 'correct', 'an', 'elvi', 'presley', 'birthday', 'txt', 'answer', '80062', 'messag', 'import', 'inform', 'o2', 'user', 'today', 'lucki', 'day', '2', 'find', 'log', 'onto', 'http', 'fantast', 'surpris', 'await', '449050000301', 'price', 'claim', 'call', '09050000301', 'bore', 'speed', 'date', 'tri', 'speedchat', 'txt', 'speedchat', '80155', 'like', 'em', 'txt', 'swap', 'get', 'new', 'chatter', 'chat80155', 'pobox36504w45wq', 'rcd', '16', 'want', '750', 'anytim', 'network', 'min', '150', 'text', 'new', 'video', 'phone', 'five', 'pound', 'per', 'week', 'call', '08000776320', 'repli', 'deliveri', 'tomorrow', 'take', 'part', 'mobil', 'survey', 'yesterday', '500', 'text', '2', 'use', 'howev', 'wish', '2', 'get', 'txt', 'send', 'txt', '80160', 'c', 'ur', 'hmv', 'quiz', 'current', 'maxim', 'ur', 'send', 'hmv1', '86688', 'dont', 'forget', 'place', 'mani', 'free', 'request', 'wish', 'inform', 'call', '08707808226', 'know', 'u', 'u', 'know', 'send', 'chat', '86688', 'let', 'find', 'rcvd', 'ldn', '18', 'year', 'thank', 'winner', 'notifi', 'sm', 'good', 'luck', 'futur', 'market', 'repli', 'stop', '84122', 'custom', 'servic', '08450542832', '1000', 'girl', 'mani', 'local', '2', 'u', 'r', 'virgin', '2', 'r', 'readi', '2', '4fil', 'ur', 'everi', 'sexual', 'need', 'u', '4fil', 'text', 'cute', '69911', 'got', 'take', '2', 'take', 'part', 'wrc', 'ralli', 'oz', 'u', 'lucozad', 'energi', 'text', 'ralli', 'le', '61200', '25p', 'see', 'pack', 'itcould', 'u', 'sex', 'ur', 'mobil', 'free', 'sexi', 'pic', 'jordan', 'text', 'babe', 'everi', 'wk', 'get', 'sexi', 'celeb', '4', 'pic', '16', '087016248', '1', 'new', 'voicemail', 'pleas', 'call', '08719181503', 'win', 'year', 'suppli', 'cd', '4', 'store', 'ur', 'choic', 'worth', 'enter', 'weekli', 'draw', 'txt', 'music', '87066', 'ts', 'cs', 'sim', 'subscrib', 'select', 'receiv', 'bonu', 'get', 'deliv', 'door', 'txt', 'word', 'ok', '88600', 'claim', 'exp', '30apr', '1', 'new', 'voicemail', 'pleas', 'call', '08719181513', '1', 'nokia', 'tone', '4', 'ur', 'mob', 'everi', 'week', 'txt', 'nok', '87021', '1st', 'tone', 'free', 'get', 'txtin', 'tell', 'ur', 'friend', '16', 'repli', 'hl', '4info', 'repli', 'name', 'address', 'receiv', 'post', 'week', 'complet', 'free', 'accommod', 'variou', 'global', 'locat', 'free', 'entri', 'weekli', 'comp', 'send', 'word', 'enter', '84128', '18', 'c', 'cust', 'care', '08712405020', 'pleas', 'call', '08712402779', 'immedi', 'urgent', 'messag', 'wait', 'hungri', 'gay', 'guy', 'feel', 'hungri', '4', 'call', '08718730555', 'stop', 'text', 'call', '08712460324', 'u', 'get', '2', 'phone', 'wan', 'na', 'chat', '2', 'set', 'meet', 'call', '09096102316', 'u', 'cum', '2moro', 'luv', 'jane', 'xx', 'network', 'oper', 'servic', 'free', 'c', 'visit', 'enjoy', 'jamster', 'videosound', 'gold', 'club', 'credit', '2', 'new', 'get', 'fun', 'help', 'call', '09701213186', 'get', '3', 'lion', 'england', 'tone', 'repli', 'lionm', '4', 'mono', 'lionp', '4', 'poli', '4', 'go', '2', 'origin', 'n', 'best', 'tone', '3gbp', 'network', 'oper', 'rate', 'appli', 'win', 'newest', 'potter', 'order', 'phoenix', 'book', '5', 'repli', 'harri', 'answer', '5', 'question', 'chanc', 'first', 'among', 'reader', 'ur', 'balanc', 'ur', 'next', 'question', 'sang', 'girl', '80', '2', 'answer', 'txt', 'ur', 'answer', 'good', 'luck', 'free2day', 'sexi', 'st', 'georg', 'day', 'pic', 'jordan', 'txt', 'pic', '89080', 'dont', 'miss', 'everi', 'wk', 'sauci', 'celeb', '4', 'pic', 'c', '0870241182716', 'hot', 'live', 'fantasi', 'call', '08707509020', '20p', 'per', 'min', 'ntt', 'ltd', 'po', 'box', '1327', 'croydon', 'cr9', '5wb', '0870', 'k', 'bear', 'pic', 'nick', 'tom', 'pete', 'dick', 'fact', 'type', 'tri', 'gay', 'chat', 'photo', 'upload', 'call', '08718730666', '2', 'stop', 'text', 'call', '08712460324', '500', 'new', 'mobil', '2004', 'must', 'go', 'txt', 'nokia', '89545', 'collect', 'today', '2optout', 'txtauction', 'doubl', 'min', 'doubl', 'txt', 'price', 'linerent', 'latest', 'orang', 'bluetooth', 'mobil', 'call', 'mobileupd8', 'latest', 'offer', '08000839402', 'urgent', 'import', 'inform', 'o2', 'user', 'today', 'lucki', 'day', '2', 'find', 'log', 'onto', 'http', 'fantast', 'surpris', 'await', 'dear', 'u', 'invit', 'xchat', 'final', 'attempt', 'contact', 'u', 'txt', 'chat', '86688', 'ldn', '18', 'yr', 'congratul', 'ur', 'award', 'either', 'cd', 'gift', 'voucher', 'free', 'entri', '2', 'weekli', 'draw', 'txt', 'music', '87066', 'tnc', '1', 'win150ppmx3age16', 'sale', 'arsen', 'dartboard', 'good', 'condit', 'doubl', 'trebl', 'free', '1st', 'week', 'entri', '2', 'textpod', '4', 'chanc', '2', 'win', '40gb', 'ipod', 'cash', 'everi', 'wk', 'txt', 'pod', '84128', 'ts', 'cs', 'custcar', '08712405020', 'regist', 'optin', 'subscrib', 'ur', 'draw', '4', 'gift', 'voucher', 'enter', 'receipt', 'correct', 'an', '80062', 'what', 'no1', 'bbc', 'chart', 'summer', 'final', 'fanci', 'chat', 'flirt', 'sexi', 'singl', 'yr', 'area', 'get', 'match', 'repli', 'summer', 'free', '2', 'join', 'optout', 'txt', 'stop', 'help08714742804', 'clair', 'havin', 'borin', 'time', 'alon', 'u', 'wan', 'na', 'cum', '2nite', 'chat', '09099725823', 'hope', '2', 'c', 'u', 'luv', 'clair', 'xx', 'bought', 'one', 'rington', 'get', 'text', 'cost', '3', 'pound', 'offer', 'tone', 'etc', '09066362231', 'urgent', 'mobil', '07xxxxxxxxx', 'bonu', 'caller', 'prize', '2nd', 'attempt', 'reach', 'call', '09066362231', 'asap', '07801543489', 'guarante', 'latest', 'nokia', 'phone', '40gb', 'ipod', 'mp3', 'player', 'prize', 'txt', 'word', 'collect', 'hi', 'luci', 'hubbi', 'meetin', 'day', 'fri', 'b', 'alon', 'hotel', 'u', 'fanci', 'cumin', 'pl', 'leav', 'msg', '2day', '09099726395', 'luci', 'x', 'account', 'credit', '500', 'free', 'text', 'messag', 'activ', 'txt', 'word', 'credit', '80488', 'cs', 'sm', 'ac', 'jsco', 'energi', 'high', 'u', 'may', 'know', '2channel', '2day', 'ur', 'leadership', 'skill', 'r', 'strong', 'psychic', 'repli', 'an', 'end', 'repli', 'end', 'jsco', 'hot', 'live', 'fantasi', 'call', '08707509020', '20p', 'per', 'min', 'ntt', 'ltd', 'po', 'box', '1327', 'croydon', 'cr9', '5wb', '0870', 'nation', 'rate', 'call', 'thank', 'vote', 'sing', 'along', 'star', 'karaok', 'mobil', 'free', 'link', 'repli', 'sing', 'brand', 'new', 'mobil', 'music', 'servic', 'live', 'free', 'music', 'player', 'arriv', 'shortli', 'instal', 'phone', 'brows', 'content', 'top', 'artist', 'urgent', 'mobil', 'award', 'bonu', 'caller', 'prize', '2nd', 'attempt', 'contact', 'call', 'box95qu', 'bt', 'nation', 'rate', 'nokia', '7250i', 'get', 'win', 'free', 'auction', 'take', 'part', 'send', 'nokia', '86021', 'hello', 'orang', '1', 'month', 'free', 'access', 'game', 'news', 'sport', 'plu', '10', 'free', 'text', '20', 'photo', 'messag', 'repli', 'ye', 'term', 'appli', 'ur', 'current', '500', 'pound', 'maxim', 'ur', 'send', 'go', '86688', 'cc', '08718720201', 'sm', 'auction', 'brand', 'new', 'nokia', '7250', '4', 'auction', 'today', 'auction', 'free', '2', 'join', 'take', 'part', 'txt', 'nokia', '86021', 'privat', '2003', 'account', 'statement', 'show', '800', 'point', 'call', '08719899230', 'identifi', 'code', '41685', 'expir', 'regist', 'subscrib', 'yr', 'draw', '4', 'gift', 'voucher', 'b', 'enter', 'receipt', 'correct', 'an', 'next', 'olymp', 'txt', 'an', '80062', 'urgent', 'mobil', 'number', 'award', 'prize', 'guarante', 'call', '09061790121', 'land', 'line', 'claim', 'valid', '12hr', '150ppm', 'pro', 'video', 'club', 'need', 'help', 'info', 'call', '08701237397', 'must', 'club', 'credit', 'redeem', 'enjoy', 'u', 'secret', 'admir', 'look', '2', 'make', 'contact', 'r', 'reveal', 'think', 'ur', '09058094599', '500', 'free', 'text', 'msg', 'text', 'ok', '80488', 'credit', 'account', 'select', 'stay', '1', '250', 'top', 'british', 'hotel', 'noth', 'holiday', 'worth', 'claim', 'call', 'london', 'bx', '526', 'sw73ss', 'eeri', 'nokia', 'tone', '4u', 'rpli', 'tone', 'titl', '8007', 'eg', 'tone', 'dracula', '8007', 'titl', 'ghost', 'addamsfa', 'munster', 'exorcist', 'twilight', 'pobox36504w45wq', '150p', '0a', 'network', 'allow', 'compani', 'bill', 'sm', 'respons', 'freemsg', 'feelin', 'kinda', 'lnli', 'hope', 'u', 'like', '2', 'keep', 'compani', 'jst', 'got', 'cam', 'mobi', 'wan', 'na', 'c', 'pic', 'txt', 'repli', 'date', '82242', 'msg150p', '2rcv', 'hlp', '08712317606', 'stop', '82242', 'ur', 'chanc', 'win', 'cash', 'everi', 'wk', 'txt', 'action', 'c', 'custcar', '08712405022', 'rgent', '2nd', 'attempt', 'contact', 'u', 'u', 'call', '09071512433', 'b4', '050703', 'csbcm4235wc1n3xx', 'callcost', '150ppm', 'mobilesvari', '50', 'hi', 'ur', 'lookin', '4', 'sauci', 'daytim', 'fun', 'wiv', 'busti', 'marri', 'woman', 'free', 'next', 'week', 'chat', '2', 'sort', 'time', '09099726429', 'janinexx', 'urgent', 'tri', 'contact', 'today', 'draw', 'show', 'prize', 'guarante', 'call', '09050001295', 'land', 'line', 'claim', 'a21', 'valid', '12hr', 'monthli', 'password', 'wap', 'use', 'wap', 'phone', 'pc', 'today', 'vodafon', 'number', 'end', '0089', 'last', 'four', 'digit', 'select', 'receiv', 'award', 'number', 'match', 'pleas', 'call', '09063442151', 'claim', 'award', 'free', 'top', 'rington', 'weekli', '1st', 'week', 'subpoli', '3', 'per', 'free', 'msg', 'sorri', 'servic', 'order', '81303', 'could', 'deliv', 'suffici', 'credit', 'pleas', 'top', 'receiv', 'servic', 'hard', 'live', '121', 'chat', 'choos', 'girl', 'connect', 'live', 'call', '09094646899', 'cheap', 'chat', 'uk', 'biggest', 'live', 'servic', 'vu', 'bcm1896wc1n3xx', 'wow', 'boy', 'r', 'back', 'take', '2007', 'uk', 'tour', 'win', 'vip', 'ticket', 'vip', 'club', 'txt', 'club', 'trackmarqu', 'ltd', 'info', 'vipclub4u', 'hi', 'mandi', 'sullivan', 'call', 'hotmix', 'fm', 'chosen', 'receiv', 'easter', 'prize', 'draw', 'pleas', 'telephon', '09041940223', 'claim', 'prize', 'transfer', 'someon', 'els', 'ur', 'go', '2', 'bahama', 'callfreefon', '08081560665', 'speak', 'live', 'oper', 'claim', 'either', 'bahama', 'cruis', 'cash', 'opt', 'txt', 'x', '07786200117', 'someon', 'conact', 'date', 'servic', 'enter', 'phone', 'fanci', 'find', 'call', 'landlin', 'pobox12n146tf15', 'hi', '07734396839', 'ibh', 'custom', 'loyalti', 'offer', 'new', 'nokia6600', 'mobil', 'txtauction', 'txt', 'word', 'start', 'get', '4t', 'sm', 'auction', 'nokia', '7250i', 'get', 'win', 'free', 'auction', 'take', 'part', 'send', 'nokia', '86021', 'call', 'freephon', '0800', '542', '0578', 'buy', 'space', 'invad', '4', 'chanc', '2', 'win', 'orig', 'arcad', 'game', 'consol', 'press', '0', 'game', 'arcad', 'std', 'wap', 'charg', 'see', '4', 'term', 'set', 'purchas', 'big', 'brother', 'alert', 'comput', 'select', 'u', '10k', 'cash', '150', 'voucher', 'call', 'ntt', 'po', 'box', 'cro1327', 'bt', 'landlin', 'cost', '150ppm', 'mobil', 'vari', 'win', 'winner', 'foley', 'ipod', 'excit', 'prize', 'soon', 'keep', 'eye', 'ur', 'mobil', 'visit', 'today', 'voda', 'number', 'end', '1225', 'select', 'receiv', 'match', 'pleas', 'call', '08712300220', 'quot', 'claim', 'code', '3100', 'standard', 'rate', 'app', 'hottest', 'pic', 'straight', 'phone', 'see', 'get', 'wet', 'want', 'xx', 'text', 'pic', '89555', 'txt', 'cost', '150p', 'textoper', 'g696ga', '18', 'xxx', 'hack', 'chat', 'get', 'backdoor', 'entri', '121', 'chat', 'room', 'fraction', 'cost', 'repli', 'neo69', 'call', '09050280520', 'subscrib', '25p', 'pm', 'dp', 'bcm', 'box', '8027', 'ldn', 'wc1n3xx', 'free', 'nokia', 'motorola', 'upto', '12mth', 'linerent', '500', 'free', 'min', 'free', 'call', 'mobileupd8', '08001950382', 'call', '2nd', 'time', 'tri', '2', 'contact', 'u', '750', 'pound', 'prize', '2', 'claim', 'easi', 'call', '08718726970', '10p', 'per', 'min', 'guarante', 'cash', 'claim', 'yr', 'prize', 'call', 'custom', 'servic', 'repres', 'would', 'like', 'see', 'xxx', 'pic', 'hot', 'nearli', 'ban', 'uk', 'u', 'secret', 'admir', 'look', '2', 'make', 'contact', 'r', 'reveal', 'think', 'ur', '09058094594', 'dear', '0776xxxxxxx', 'u', 'invit', 'xchat', 'final', 'attempt', 'contact', 'u', 'txt', 'chat', '86688', 'ldn', '18yr', 'urgent', 'pleas', 'call', '09061743811', 'landlin', 'abta', 'complimentari', '4', 'tenerif', 'holiday', 'cash', 'await', 'collect', 'sae', 'cs', 'box', '326', 'cw25wx', '150ppm', 'call', '09090900040', 'listen', 'extrem', 'dirti', 'live', 'chat', 'go', 'offic', 'right', 'total', 'privaci', 'one', 'know', 'sic', 'listen', '60p', 'min', 'freemsg', 'hey', 'u', 'got', '1', 'fone', 'repli', 'wild', 'txt', 'ill', 'send', 'u', 'pic', 'hurri', 'im', 'bore', 'work', 'xxx', '18', 'stop2stop', 'free', 'entri', '2', 'weekli', 'comp', 'chanc', 'win', 'ipod', 'txt', 'pod', '80182', 'get', 'entri', 'std', 'txt', 'rate', 'c', 'appli', '08452810073', 'detail', 'new', 'textbuddi', 'chat', '2', 'horni', 'guy', 'ur', 'area', '4', '25p', 'free', '2', 'receiv', 'search', 'postcod', 'txt', 'one', 'name', '89693', '08715500022', 'rpl', 'stop', '2', 'cnl', 'call', '08702490080', 'tell', 'u', '2', 'call', '09066358152', 'claim', 'prize', 'u', '2', 'enter', 'ur', 'mobil', 'person', 'detail', 'prompt', 'care', 'free', '1st', 'week', 'entri', '2', 'textpod', '4', 'chanc', '2', 'win', '40gb', 'ipod', 'cash', 'everi', 'wk', 'txt', 'vpod', '81303', 'ts', 'cs', 'custcar', '08712405020', 'peopl', 'dog', 'area', 'call', '09090204448', 'join', 'like', 'mind', 'guy', 'arrang', '1', '1', 'even', 'minapn', 'ls278bb', 'well', 'done', '4', 'costa', 'del', 'sol', 'holiday', 'await', 'collect', 'call', '09050090044', 'toclaim', 'sae', 'tc', 'pobox334', 'stockport', 'sk38xh', 'max10min', 'guess', 'somebodi', 'know', 'secretli', 'fanci', 'wan', 'na', 'find', 'give', 'us', 'call', '09065394973', 'landlin', 'datebox1282essexcm61xn', '18', '500', 'free', 'text', 'messag', 'valid', '31', 'decemb', '2005', 'guarante', 'award', 'even', 'cashto', 'claim', 'ur', 'award', 'call', 'free', '08000407165', '2', 'stop', 'getstop', '88222', 'php', 'repli', 'win', 'weekli', '2006', 'fifa', 'world', 'cup', 'held', 'send', 'stop', '87239', 'end', 'servic', 'urgent', 'pleas', 'call', '09061743810', 'landlin', 'abta', 'complimentari', '4', 'tenerif', 'holiday', '5000', 'cash', 'await', 'collect', 'sae', 'cs', 'box', '326', 'cw25wx', '150', 'ppm', 'free', 'tone', 'hope', 'enjoy', 'new', 'content', 'text', 'stop', '61610', 'unsubscrib', 'provid', 'themob', 'yo', 'yo', 'come', 'new', 'select', 'hot', 'download', 'member', 'get', 'free', 'click', 'open', 'next', 'link', 'sent', 'ur', 'fone', 'great', 'news', 'call', 'freefon', '08006344447', 'claim', 'guarante', 'cash', 'gift', 'speak', 'live', 'oper', 'u', 'win', 'music', 'gift', 'voucher', 'everi', 'week', 'start', 'txt', 'word', 'draw', '87066', 'tsc', 'call', '09094100151', 'use', 'ur', 'min', 'call', 'cast', 'mob', 'vari', 'servic', 'provid', 'aom', 'aom', 'box61', 'm60', '1er', 'u', 'stop', 'age', 'urgent', 'mobil', 'bonu', 'caller', 'prize', '2nd', 'attempt', 'reach', 'call', '09066362220', 'asap', 'box97n7qp', '150ppm', 'eeri', 'nokia', 'tone', '4u', 'rpli', 'tone', 'titl', '8007', 'eg', 'tone', 'dracula', '8007', 'titl', 'ghost', 'addamsfa', 'munster', 'exorcist', 'twilight', 'pobox36504w45wq', '150p', 'sexi', 'singl', 'wait', 'text', 'age', 'follow', 'gender', 'wither', 'f', 'gay', 'men', 'text', 'age', 'follow', 'freemsg', 'claim', 'ur', '250', 'sm', 'ok', '84025', 'use', 'web2mobil', '2', 'ur', 'mate', 'etc', 'join', 'c', 'box139', 'la32wu', '16', 'remov', 'txtx', 'stop', '85233', 'free', 'rington', 'repli', 'real', 'well', 'done', 'england', 'get', 'offici', 'poli', 'rington', 'colour', 'flag', 'yer', 'mobil', 'text', 'tone', 'flag', '84199', 'txt', 'eng', 'stop', 'box39822', 'w111wx', 'final', 'chanc', 'claim', 'ur', 'worth', 'discount', 'voucher', 'today', 'text', 'ye', '85023', 'savamob', 'member', 'offer', 'mobil', 'cs', 'savamob', 'pobox84', 'm263uz', 'sub', '16', 'sm', 'servic', 'inclus', 'text', 'credit', 'pl', 'goto', 'unsubscrib', 'stop', 'extra', 'charg', 'po', 'box420', 'ip4', '5we', 'winner', 'special', 'select', 'receiv', 'cash', 'award', 'speak', 'live', 'oper', 'claim', 'call', 'cost', '10p', 'sunshin', 'hol', 'claim', 'ur', 'med', 'holiday', 'send', 'stamp', 'self', 'address', 'envelop', 'drink', 'us', 'uk', 'po', 'box', '113', 'bray', 'wicklow', 'eir', 'quiz', 'start', 'saturday', 'unsub', 'stop', 'u', 'win', 'music', 'gift', 'voucher', 'everi', 'week', 'start', 'txt', 'word', 'draw', '87066', 'tsc', 'skillgam', '1winaweek', 'age16', '150ppermesssubscript', 'b4u', 'voucher', 'marsm', 'log', 'onto', 'discount', 'credit', 'opt', 'repli', 'stop', 'custom', 'care', 'call', '08717168528', 'freemsg', 'hey', 'buffi', '25', 'love', 'satisfi', 'men', 'home', 'alon', 'feel', 'randi', 'repli', '2', 'c', 'pix', 'qlynnbv', 'help08700621170150p', 'msg', 'send', 'stop', 'stop', 'txt', 'free', '1st', 'week', 'no1', 'nokia', 'tone', '4', 'ur', 'mob', 'everi', 'week', 'txt', 'nokia', '87077', 'get', 'txting', 'tell', 'ur', 'mate', 'zed', 'pobox', '36504', 'w45wq', 'free', 'camera', 'phone', 'linerent', '750', 'cross', 'ntwk', 'min', 'price', 'txt', 'bundl', 'deal', 'also', 'avbl', 'call', '08001950382', 'mf', 'urgent', 'mobil', '07xxxxxxxxx', 'bonu', 'caller', 'prize', '2nd', 'attempt', 'reach', 'call', '09066362231', 'asap', 'box97n7qp', '150ppm', 'urgent', '4', 'costa', 'del', 'sol', 'holiday', 'await', 'collect', 'call', '09050090044', 'toclaim', 'sae', 'tc', 'pobox334', 'stockport', 'sk38xh', 'max10min', 'guarante', 'cash', 'prize', 'claim', 'yr', 'prize', 'call', 'custom', 'servic', 'repres', '08714712379', 'cost', '10p', 'thank', 'rington', 'order', 'ref', 'number', 'k718', 'mobil', 'charg', 'tone', 'arriv', 'pleas', 'call', 'custom', 'servic', '09065069120', 'hi', 'ya', 'babe', 'x', 'u', '4goten', 'bout', 'scammer', 'get', 'smart', 'though', 'regular', 'vodafon', 'respond', 'get', 'prem', 'rate', 'no', 'use', 'also', 'bewar', 'back', '2', 'work', '2morro', 'half', 'term', 'u', 'c', '2nite', '4', 'sexi', 'passion', 'b4', '2', 'go', 'back', 'chat', '09099726481', 'luv', 'dena', 'call', 'thank', 'rington', 'order', 'ref', 'number', 'r836', 'mobil', 'charg', 'tone', 'arriv', 'pleas', 'call', 'custom', 'servic', '09065069154', 'splashmobil', 'choos', '1000', 'gr8', 'tone', 'wk', 'subscrit', 'servic', 'weekli', 'tone', 'cost', '300p', 'u', 'one', 'credit', 'kick', 'back', 'enjoy', 'heard', 'u4', 'call', '4', 'rude', 'chat', 'privat', 'line', '01223585334', 'cum', 'wan', '2c', 'pic', 'gettin', 'shag', 'text', 'pix', '8552', '2end', 'send', 'stop', '8552', 'sam', 'xxx', 'forward', '88877', 'free', 'entri', 'weekli', 'comp', 'send', 'word', 'enter', '88877', '18', 'c', '88066', '88066', 'lost', '3pound', 'help', 'mobil', '11mth', 'updat', 'free', 'orang', 'latest', 'colour', 'camera', 'mobil', 'unlimit', 'weekend', 'call', 'call', 'mobil', 'upd8', 'freefon', '08000839402', '2stoptx', '1', 'new', 'messag', 'pleas', 'call', '08718738034', 'forward', '21870000', 'hi', 'mailbox', 'messag', 'sm', 'alert', '4', 'messag', '21', 'match', 'pleas', 'call', 'back', '09056242159', 'retriev', 'messag', 'match', 'mobi', 'pub', 'high', 'street', 'prize', 'u', 'know', 'new', 'duchess', 'cornwal', 'txt', 'first', 'name', 'stop', '008704050406', 'sp', 'arrow', 'nokia', '7250i', 'get', 'win', 'free', 'auction', 'take', 'part', 'send', 'nokia', '86021', 'congratul', 'thank', 'good', 'friend', 'u', 'xma', 'prize', '2', 'claim', 'easi', 'call', '08718726971', '10p', 'per', 'minut', 'tddnewslett', 'game', 'thedailydraw', 'dear', 'helen', 'dozen', 'free', 'game', 'great', 'prizeswith', 'urgent', 'mobil', 'number', 'bonu', 'caller', 'prize', '2nd', 'attempt', 'reach', 'call', '09066368753', 'asap', 'box', '97n7qp', '150ppm', 'doubl', 'min', 'txt', 'orang', 'price', 'linerent', 'motorola', 'sonyericsson', 'free', 'call', 'mobileupd8', '08000839402', 'download', 'mani', 'rington', 'u', 'like', 'restrict', '1000', '2', 'choos', 'u', 'even', 'send', '2', 'yr', 'buddi', 'txt', 'sir', '80082', 'pleas', 'call', '08712402902', 'immedi', 'urgent', 'messag', 'wait', 'spook', 'mob', 'halloween', 'collect', 'logo', 'pic', 'messag', 'plu', 'free', 'eeri', 'tone', 'txt', 'card', 'spook', '8007', 'zed', '08701417012150p', 'per', 'fantasi', 'footbal', 'back', 'tv', 'go', 'sky', 'gamestar', 'sky', 'activ', 'play', 'dream', 'team', 'score', 'start', 'saturday', 'regist', 'sky', 'opt', '88088', 'tone', 'club', 'sub', 'expir', '2', 'repli', 'monoc', '4', 'mono', 'polyc', '4', 'poli', '1', 'weekli', '150p', 'per', 'week', 'txt', 'stop', '2', 'stop', 'msg', 'free', 'stream', '0871212025016', 'xma', 'prize', 'draw', 'tri', 'contact', 'today', 'draw', 'show', 'prize', 'guarante', 'call', '09058094565', 'land', 'line', 'valid', '12hr', 'ye', 'place', 'town', 'meet', 'excit', 'adult', 'singl', 'uk', 'txt', 'chat', '86688', 'someon', 'contact', 'date', 'servic', 'enter', 'phone', 'becausethey', 'fanci', 'find', 'call', 'landlin', 'pobox1', 'w14rg', '150p', 'babe', 'u', 'want', 'dont', 'u', 'babi', 'im', 'nasti', 'thing', '4', 'filthyguy', 'fanci', 'rude', 'time', 'sexi', 'bitch', 'go', 'slo', 'n', 'hard', 'txt', 'xxx', 'slo', '4msg', 'sm', 'servic', 'inclus', 'text', 'credit', 'pl', 'gotto', 'login', '3qxj9', 'unsubscrib', 'stop', 'extra', 'charg', 'help', '08702840625', '9ae', 'valentin', 'day', 'special', 'win', 'quiz', 'take', 'partner', 'trip', 'lifetim', 'send', 'go', '83600', 'rcvd', 'guess', 'first', 'time', 'creat', 'web', 'page', 'read', 'wrote', 'wait', 'opinion', 'want', 'friend', 'ur', 'chanc', 'win', 'cash', 'everi', 'wk', 'txt', 'play', 'c', 'custcar', '08715705022', 'sppok', 'ur', 'mob', 'halloween', 'collect', 'nokia', 'logo', 'pic', 'messag', 'plu', 'free', 'eeri', 'tone', 'txt', 'card', 'spook', '8007', 'urgent', 'call', '09066612661', 'landlin', 'complementari', '4', 'tenerif', 'holiday', 'cash', 'await', 'collect', 'sae', 'cs', 'po', 'box', '3', 'wa14', '2px', '150ppm', 'sender', 'hol', 'offer', 'winner', 'valu', 'network', 'custom', 'hvae', 'select', 'receiv', 'reward', 'collect', 'call', 'valid', '24', 'hour', 'acl03530150pm', 'u', 'nokia', '6230', 'plu', 'free', 'digit', 'camera', 'u', 'get', 'u', 'win', 'free', 'auction', 'take', 'part', 'send', 'nokia', '83383', '16', 'free', 'entri', 'weekli', 'comp', 'send', 'word', 'win', '80086', '18', 'c', 'text82228', 'get', 'rington', 'logo', 'game', 'question', 'info', 'freemsg', 'award', 'free', 'mini', 'digit', 'camera', 'repli', 'snap', 'collect', 'prize', 'quizclub', 'opt', 'stop', 'sp', 'rwm', 'messag', 'brought', 'gmw', 'connect', 'congrat', '2', 'mobil', '3g', 'videophon', 'r', 'call', '09063458130', 'videochat', 'wid', 'ur', 'mate', 'play', 'java', 'game', 'dload', 'polyph', 'music', 'nolin', 'rentl', 'bx420', 'ip4', '5we', '150p', 'next', 'amaz', 'xxx', 'picsfree1', 'video', 'sent', 'enjoy', 'one', 'vid', 'enough', '2day', 'text', 'back', 'keyword', 'picsfree1', 'get', 'next', 'video', 'u', 'subscrib', 'best', 'mobil', 'content', 'servic', 'uk', 'per', 'ten', 'day', 'send', 'stop', 'helplin', '08706091795', '3', 'free', 'tarot', 'text', 'find', 'love', 'life', 'tri', '3', 'free', 'text', 'chanc', '85555', '16', '3', 'free', 'msg', 'join', 'uk', 'horniest', 'dog', 'servic', 'u', 'sex', '2nite', 'sign', 'follow', 'instruct', 'txt', 'entri', '69888', '150p', 'knock', 'knock', 'txt', 'whose', '80082', 'enter', 'r', 'weekli', 'draw', '4', 'gift', 'voucher', '4', 'store', 'yr', 'choic', 'cs', 'age16', 'forward', '21870000', 'hi', 'mailbox', 'messag', 'sm', 'alert', '40', 'match', 'pleas', 'call', 'back', '09056242159', 'retriev', 'messag', 'match', 'free', 'ring', 'tone', 'text', 'everi', 'week', 'get', 'new', 'tone', '0870737910216yr', 'urgent', 'mobil', '077xxx', 'bonu', 'caller', 'prize', '2nd', 'attempt', 'reach', 'call', '09066362206', 'asap', 'box97n7qp', '150ppm', 'guarante', 'latest', 'nokia', 'phone', '40gb', 'ipod', 'mp3', 'player', 'prize', 'txt', 'word', 'collect', '83355', 'ibhltd', 'ldnw15h', 'hello', 'darl', 'today', 'would', 'love', 'chat', 'dont', 'tell', 'look', 'like', 'sexi', '8007', 'free', '1st', 'week', 'no1', 'nokia', 'tone', '4', 'ur', 'mob', 'everi', 'week', 'txt', 'nokia', '8007', 'get', 'txting', 'tell', 'ur', 'mate', 'pobox', '36504', 'w4', '5wq', 'norm', 'wan', 'na', 'get', 'laid', '2nite', 'want', 'real', 'dog', 'locat', 'sent', 'direct', 'ur', 'mobil', 'join', 'uk', 'largest', 'dog', 'network', 'txt', 'park', '69696', 'nyt', 'ec2a', '3lp', 'tri', 'contact', 'respons', 'offer', 'new', 'nokia', 'fone', 'camcord', 'hit', 'repli', 'call', '08000930705', 'deliveri', 'new', 'tone', 'week', 'includ', '1', 'ab', '2', 'sara', '3', 'order', 'follow', 'instruct', 'next', 'messag', 'urgent', 'tri', 'contact', 'today', 'draw', 'show', 'prize', 'guarante', 'call', '09050003091', 'land', 'line', 'claim', 'c52', 'valid', '12hr', 'sport', 'fan', 'get', 'latest', 'sport', 'news', 'str', '2', 'ur', 'mobil', '1', 'wk', 'free', 'plu', 'free', 'tone', 'txt', 'sport', '8007', 'norm', 'urgent', 'urgent', '800', 'free', 'flight', 'europ', 'give', 'away', 'call', 'b4', '10th', 'sept', 'take', 'friend', '4', 'free', 'call', 'claim', 'ba128nnfwfly150ppm', '88066', 'lost', 'help', 'freemsg', 'fanci', 'flirt', 'repli', 'date', 'join', 'uk', 'fastest', 'grow', 'mobil', 'date', 'servic', 'msg', 'rcvd', '25p', 'optout', 'txt', 'stop', 'repli', 'date', 'great', 'new', 'offer', 'doubl', 'min', 'doubl', 'txt', 'best', 'orang', 'tariff', 'get', 'latest', 'camera', 'phone', '4', 'free', 'call', 'mobileupd8', 'free', '08000839402', '2stoptxt', 'cs', 'hope', 'enjoy', 'new', 'content', 'text', 'stop', '61610', 'unsubscrib', 'provid', 'urgent', 'pleas', 'call', '09066612661', 'landlin', 'cash', 'luxuri', '4', 'canari', 'island', 'holiday', 'await', 'collect', 'cs', 'sae', 'award', '20m12aq', '150ppm', 'urgent', 'pleas', 'call', '09066612661', 'landlin', 'complimentari', '4', 'lux', 'costa', 'del', 'sol', 'holiday', 'cash', 'await', 'collect', 'ppm', '150', 'sae', 'cs', 'jame', '28', 'eh74rr', 'marri', 'local', 'women', 'look', 'discreet', 'action', '5', 'real', 'match', 'instantli', 'phone', 'text', 'match', '69969', 'msg', 'cost', '150p', '2', 'stop', 'txt', 'stop', 'bcmsfwc1n3xx', 'burger', 'king', 'wan', 'na', 'play', 'footi', 'top', 'stadium', 'get', '2', 'burger', 'king', '1st', 'sept', 'go', 'larg', 'super', 'walk', 'winner', 'come', 'take', 'littl', 'time', 'child', 'afraid', 'dark', 'becom', 'teenag', 'want', 'stay', 'night', 'ur', 'chanc', 'win', 'cash', 'everi', 'wk', 'txt', 'action', 'c', 'custcar', '08712405022', 'bin', 'award', 'play', '4', 'instant', 'cash', 'call', '08715203028', 'claim', 'everi', '9th', 'player', 'win', 'min', 'optout', '08718727870', 'freemsg', 'fav', 'xma', 'tone', 'repli', 'real', 'decemb', 'mobil', 'entitl', 'updat', 'latest', 'colour', 'camera', 'mobil', 'free', 'call', 'mobil', 'updat', 'co', 'free', '08002986906', 'gr8', 'poli', 'tone', '4', 'mob', 'direct', '2u', 'rpli', 'poli', 'titl', '8007', 'eg', 'poli', 'breathe1', 'titl', 'crazyin', 'sleepingwith', 'finest', 'ymca', 'pobox365o4w45wq', '300p', 'interflora', 'åòit', 'late', 'order', 'interflora', 'flower', 'christma', 'call', '0800', '505060', 'place', 'order', 'midnight', 'tomorrow', 'romcapspam', 'everyon', 'around', 'respond', 'well', 'presenc', 'sinc', 'warm', 'outgo', 'bring', 'real', 'breath', 'sunshin', 'congratul', 'thank', 'good', 'friend', 'u', 'xma', 'prize', '2', 'claim', 'easi', 'call', '08712103738', '10p', 'per', 'minut', 'send', 'logo', '2', 'ur', 'lover', '2', 'name', 'join', 'heart', 'txt', 'love', 'name1', 'name2', 'mobno', 'eg', 'love', 'adam', 'eve', '07123456789', '87077', 'yahoo', 'pobox36504w45wq', 'txtno', '4', 'ad', '150p', 'tkt', 'euro2004', 'cup', 'final', 'cash', 'collect', 'call', '09058099801', 'b4190604', 'pobox', '7876150ppm', 'jamster', 'get', 'crazi', 'frog', 'sound', 'poli', 'text', 'mad1', 'real', 'text', 'mad2', '88888', '6', 'crazi', 'sound', '3', 'c', 'appli', 'chanc', 'realiti', 'fantasi', 'show', 'call', '08707509020', '20p', 'per', 'min', 'ntt', 'ltd', 'po', 'box', '1327', 'croydon', 'cr9', '5wb', '0870', 'nation', 'rate', 'call', 'adult', '18', 'content', 'video', 'shortli', 'chanc', 'realiti', 'fantasi', 'show', 'call', '08707509020', '20p', 'per', 'min', 'ntt', 'ltd', 'po', 'box', '1327', 'croydon', 'cr9', '5wb', '0870', 'nation', 'rate', 'call', 'hey', 'boy', 'want', 'hot', 'xxx', 'pic', 'sent', 'direct', '2', 'ur', 'phone', 'txt', 'porn', '69855', '24hr', 'free', '50p', 'per', 'day', 'stop', 'text', 'stopbcm', 'sf', 'wc1n3xx', 'doubl', 'min', '1000', 'txt', 'orang', 'tariff', 'latest', 'motorola', 'sonyericsson', 'nokia', 'bluetooth', 'free', 'call', 'mobileupd8', '08000839402', 'yhl', 'ur', 'current', '500', 'pound', 'maxim', 'ur', 'send', 'cash', '86688', 'cc', '08718720201', 'po', 'box', 'urgent', 'mobil', 'number', 'award', 'prize', 'guarante', 'call', '09058094454', 'land', 'line', 'claim', 'valid', '12hr', 'sorri', 'u', 'unsubscrib', 'yet', 'mob', 'offer', 'packag', 'min', 'term', '54', 'week', 'pl', 'resubmit', 'request', 'expiri', 'repli', 'themob', 'help', '4', 'info', '1', 'new', 'messag', 'pleas', 'call', '08712400200', 'current', 'messag', 'await', 'collect', 'collect', 'messag', 'call', '08718723815', 'urgent', 'mobil', 'award', 'bonu', 'caller', 'prize', 'final', 'attempt', '2', 'contact', 'u', 'call', '08714714011', 'ever', 'notic', 'drive', 'anyon', 'go', 'slower', 'idiot', 'everyon', 'drive', 'faster', 'maniac', 'xma', 'offer', 'latest', 'motorola', 'sonyericsson', 'nokia', 'free', 'bluetooth', 'dvd', 'doubl', 'min', '1000', 'txt', 'orang', 'call', 'mobileupd8', '08000839402', 'repli', 'win', 'weekli', 'profession', 'sport', 'tiger', 'wood', 'play', 'send', 'stop', '87239', 'end', 'servic', '1', 'polyphon', 'tone', '4', 'ur', 'mob', 'everi', 'week', 'txt', 'pt2', '87575', '1st', 'tone', 'free', 'get', 'txtin', 'tell', 'ur', 'friend', '16', 'repli', 'hl', '4info', 'messag', 'free', 'welcom', 'new', 'improv', 'sex', 'dog', 'club', 'unsubscrib', 'servic', 'repli', 'stop', 'msg', '150p', '12mth', 'half', 'price', 'orang', 'line', 'rental', '400min', 'call', 'mobileupd8', '08000839402', 'free', 'unlimit', 'hardcor', 'porn', 'direct', '2', 'mobil', 'txt', 'porn', '69200', 'get', 'free', 'access', '24', 'hr', 'chrgd', '50p', 'per', 'day', 'txt', 'stop', '2exit', 'msg', 'free', 'unsubscrib', 'servic', 'get', 'ton', 'sexi', 'babe', 'hunk', 'straight', 'phone', 'go', 'http', 'subscript', 'hi', 'babe', 'jordan', 'r', 'u', 'im', 'home', 'abroad', 'lone', 'text', 'back', 'u', 'wan', 'na', 'chat', 'xxsp', 'text', 'stop', 'stopcost', '150p', '08712400603', 'get', 'brand', 'new', 'mobil', 'phone', 'agent', 'mob', 'plu', 'load', 'goodi', 'info', 'text', 'mat', '87021', 'lord', 'ring', 'return', 'king', 'store', 'repli', 'lotr', '2', 'june', '4', 'chanc', '2', 'win', 'lotr', 'soundtrack', 'cd', 'stdtxtrate', 'repli', 'stop', 'end', 'txt', 'good', 'luck', 'draw', 'take', 'place', '28th', 'feb', 'good', 'luck', 'remov', 'send', 'stop', '87239', 'custom', 'servic', '08708034412', '1st', 'wk', 'free', 'gr8', 'tone', 'str8', '2', 'u', 'wk', 'txt', 'nokia', '8007', 'classic', 'nokia', 'tone', 'hit', '8007', 'poli', 'lookatm', 'thank', 'purchas', 'video', 'clip', 'lookatm', 'charg', '35p', 'think', 'better', 'send', 'video', 'mmsto', '32323', 'sexi', 'sexi', 'cum', 'text', 'im', 'wet', 'warm', 'readi', 'porn', 'u', 'fun', 'msg', 'free', 'recd', 'msg', '150p', 'inc', 'vat', '2', 'cancel', 'text', 'stop', '2nd', 'time', 'tri', 'contact', 'u', 'prize', 'claim', 'call', '09053750005', 'b4', 'sm', '08718725756', '140ppm', 'dear', 'voucher', 'holder', 'claim', 'week', 'offer', 'pc', 'pleas', 'go', 'http', 'ts', 'cs', 'appli', '2nd', 'time', 'tri', '2', 'contact', 'u', '750', 'pound', 'prize', '2', 'claim', 'easi', 'call', '08712101358', '10p', 'per', 'min', 'ur', 'award', 'citi', 'break', 'could', 'win', 'summer', 'shop', 'spree', 'everi', 'wk', 'txt', 'store', 'urgent', 'tri', 'contact', 'today', 'draw', 'show', 'prize', 'guarante', 'call', '09066358361', 'land', 'line', 'claim', 'y87', 'valid', '12hr', 'thank', 'rington', 'order', 'refer', 'number', 'x29', 'mobil', 'charg', 'tone', 'arriv', 'pleas', 'call', 'custom', 'servic', '09065989180', 'ur', 'current', '500', 'pound', 'maxim', 'ur', 'send', 'collect', '83600', 'cc', '08718720201', 'po', 'box', 'congratul', 'thank', 'good', 'friend', 'u', 'xma', 'prize', '2', 'claim', 'easi', 'call', '08718726978', '10p', 'per', 'minut', '44', '7732584351', 'want', 'new', 'nokia', '3510i', 'colour', 'phone', 'deliveredtomorrow', '300', 'free', 'minut', 'mobil', '100', 'free', 'text', 'free', 'camcord', 'repli', 'call', '08000930705', 'someon', 'u', 'know', 'ask', 'date', 'servic', '2', 'contact', 'cant', 'guess', 'call', '09058097189', 'reveal', 'pobox', '6', 'ls15hb', '150p', 'camera', 'award', 'sipix', 'digit', 'camera', 'call', '09061221066', 'fromm', 'landlin', 'deliveri', 'within', '28', 'day', 'today', 'voda', 'number', 'end', '5226', 'select', 'receiv', '350', 'award', 'hava', 'match', 'pleas', 'call', '08712300220', 'quot', 'claim', 'code', '1131', 'standard', 'rate', 'app', 'messag', 'free', 'welcom', 'new', 'improv', 'sex', 'dog', 'club', 'unsubscrib', 'servic', 'repli', 'stop', 'msg', '150p', '18', 'rct', 'thnq', 'adrian', 'u', 'text', 'rgd', 'vatian', 'contact', 'date', 'servic', 'someon', 'know', 'find', 'call', 'land', 'line', 'pobox45w2tg150p', 'sorri', 'miss', 'call', 'let', 'talk', 'time', '07090201529', 'complimentari', '4', 'star', 'ibiza', 'holiday', 'cash', 'need', 'urgent', 'collect', '09066364349', 'landlin', 'lose', 'free', 'msg', 'bill', 'mobil', 'number', 'mistak', 'shortcod', 'call', '08081263000', 'charg', 'call', 'free', 'bt', 'landlin', 'pleas', 'call', '08712402972', 'immedi', 'urgent', 'messag', 'wait', 'urgent', 'mobil', 'number', 'award', 'bonu', 'caller', 'prize', 'call', '09058095201', 'land', 'line', 'valid', '12hr', 'want', 'new', 'nokia', '3510i', 'colour', 'phone', 'deliveredtomorrow', '300', 'free', 'minut', 'mobil', '100', 'free', 'text', 'free', 'camcord', 'repli', 'call', '08000930705', 'life', 'never', 'much', 'fun', 'great', 'came', 'made', 'truli', 'special', 'wo', 'forget', 'enjoy', 'one', 'want', 'new', 'video', 'phone', '600', 'anytim', 'network', 'min', '400', 'inclus', 'video', 'call', 'download', '5', 'per', 'week', 'free', 'deltomorrow', 'call', '08002888812', 'repli', 'valu', 'custom', 'pleas', 'advis', 'follow', 'recent', 'review', 'mob', 'award', 'bonu', 'prize', 'call', '09066368470', 'welcom', 'pleas', 'repli', 'age', 'gender', 'begin', '24m', 'freemsg', 'unlimit', 'free', 'call', 'activ', 'smartcal', 'txt', 'call', 'unlimit', 'call', 'help', '08448714184', 'stop', 'txt', 'stop', 'landlineonli', 'mobil', '10', 'mth', 'updat', 'latest', 'orang', 'phone', 'free', 'save', 'free', 'call', 'text', 'ye', 'callback', 'orno', 'opt', 'new', '2', 'club', 'dont', 'fink', 'met', 'yet', 'b', 'gr8', '2', 'c', 'u', 'pleas', 'leav', 'msg', '2day', 'wiv', 'ur', 'area', '09099726553', 'repli', 'promis', 'carli', 'x', 'lkpobox177hp51fl', 'camera', 'award', 'sipix', 'digit', 'camera', 'call', '09061221066', 'fromm', 'landlin', 'deliveri', 'within', '28', 'day', 'get', 'free', 'mobil', 'video', 'player', 'free', 'movi', 'collect', 'text', 'go', 'free', 'extra', 'film', 'order', 'c', 'appli', '18', 'yr', 'save', 'money', 'wed', 'lingeri', 'choos', 'superb', 'select', 'nation', 'deliveri', 'brought', 'weddingfriend', 'heard', 'u4', 'call', 'night', 'knicker', 'make', 'beg', 'like', 'u', 'last', 'time', '01223585236', 'xx', 'luv', 'bloomberg', 'center', 'wait', 'appli', 'futur', 'http', 'want', 'new', 'video', 'phone750', 'anytim', 'network', 'min', '150', 'text', 'five', 'pound', 'per', 'week', 'call', '08000776320', 'repli', 'deliveri', 'tomorrow', 'contact', 'date', 'servic', 'someon', 'know', 'find', 'call', 'land', 'line', 'pobox45w2tg150p', 'wan2', 'win', 'westlif', '4', 'u', 'm8', 'current', 'tour', '1', 'unbreak', '2', 'untam', '3', 'unkempt', 'text', '3', 'cost', '50p', 'text', 'dorothi', 'bank', 'granit', 'issu', 'explos', 'pick', 'member', '300', 'nasdaq', 'symbol', 'cdgt', 'per', 'winner', 'guarante', 'caller', 'prize', 'final', 'attempt', 'contact', 'claim', 'call', '09071517866', '150ppmpobox10183bhamb64x', 'xma', 'new', 'year', 'eve', 'ticket', 'sale', 'club', 'day', '10am', 'till', '8pm', 'thur', 'fri', 'sat', 'night', 'week', 'sell', 'fast', 'rock', 'yr', 'chik', 'get', '100', 'filthi', 'film', 'xxx', 'pic', 'yr', 'phone', 'rpli', 'filth', 'saristar', 'ltd', 'e14', '9yt', '08701752560', '450p', 'per', '5', 'day', 'stop2', 'cancel', 'next', 'month', 'get', 'upto', '50', 'call', '4', 'ur', 'standard', 'network', 'charg', '2', 'activ', 'call', '9061100010', 'c', '1st4term', 'pobox84', 'm26', '3uz', 'cost', 'min', 'mobcudb', 'urgent', 'tri', 'contact', 'u', 'today', 'draw', 'show', 'prize', 'guarante', 'call', '09050000460', 'land', 'line', 'claim', 'j89', 'po', 'box245c2150pm', 'text', 'banneduk', '89555', 'see', 'cost', '150p', 'textoper', 'g696ga', 'xxx', 'auction', 'round', 'highest', 'bid', 'next', 'maximum', 'bid', 'bid', 'send', 'bid', '10', 'bid', 'good', 'luck', 'collect', 'valentin', 'weekend', 'pari', 'inc', 'flight', 'hotel', 'prize', 'guarante', 'text', 'pari', 'custom', 'loyalti', 'offer', 'new', 'nokia6650', 'mobil', 'txtauction', 'txt', 'word', 'start', '81151', 'get', '4t', 'ctxt', 'tc', 'wo', 'believ', 'true', 'incred', 'txt', 'repli', 'g', 'learn', 'truli', 'amaz', 'thing', 'blow', 'mind', 'o2fwd', 'hot', 'n', 'horni', 'will', 'live', 'local', 'text', 'repli', 'hear', 'strt', 'back', '150p', 'per', 'msg', 'netcollex', 'ltdhelpdesk', '02085076972', 'repli', 'stop', 'end', 'want', 'new', 'nokia', '3510i', 'colour', 'phone', 'deliv', 'tomorrow', '200', 'free', 'minut', 'mobil', '100', 'free', 'text', 'free', 'camcord', 'repli', 'call', '08000930705', 'congratul', 'winner', 'august', 'prize', 'draw', 'call', '09066660100', 'prize', 'code', '2309', '8007', '25p', '4', 'alfi', 'moon', 'children', 'need', 'song', 'ur', 'mob', 'tell', 'ur', 'm8', 'txt', 'tone', 'chariti', '8007', 'nokia', 'poli', 'chariti', 'poli', 'zed', '08701417012', 'profit', '2', 'chariti', 'get', 'offici', 'england', 'poli', 'rington', 'colour', 'flag', 'yer', 'mobil', 'tonight', 'game', 'text', 'tone', 'flag', 'optout', 'txt', 'eng', 'stop', 'box39822', 'w111wx', 'custom', 'servic', 'announc', 'recent', 'tri', 'make', 'deliveri', 'unabl', 'pleas', 'call', '07090298926', 'stop', 'club', 'tone', 'repli', 'see', 'html', 'term', 'club', 'tone', 'cost', 'mfl', 'wamma', 'get', 'laid', 'want', 'real', 'doggin', 'locat', 'sent', 'direct', 'mobil', 'join', 'uk', 'largest', 'dog', 'network', 'txt', 'dog', '69696', 'nyt', 'ec2a', '3lp', 'promot', 'number', '8714714', 'ur', 'award', 'citi', 'break', 'could', 'win', 'summer', 'shop', 'spree', 'everi', 'wk', 'txt', 'store', '88039', 'skilgm', 'tscs087147403231winawk', 'age16', 'winner', 'special', 'select', 'receiv', 'cash', 'award', 'speak', 'live', 'oper', 'claim', 'call', 'cost', '10p', 'thank', 'rington', 'order', 'refer', 'number', 'x49', 'mobil', 'charg', 'tone', 'arriv', 'pleas', 'call', 'custom', 'servic', 'text', 'txtstar', 'hi', '2night', 'ur', 'lucki', 'night', 'uve', 'invit', '2', 'xchat', 'uk', 'wildest', 'chat', 'txt', 'chat', '86688', 'ldn', '18yr', '146tf150p', 'dear', 'voucher', 'holder', '2', 'claim', '1st', 'class', 'airport', 'loung', 'pass', 'use', 'holiday', 'voucher', 'call', 'book', 'quot', '1st', 'class', 'x', '2', 'someon', 'u', 'know', 'ask', 'date', 'servic', '2', 'contact', 'cant', 'guess', 'call', '09058095107', 'reveal', 'pobox', '7', 's3xi', '150p', 'mila', 'age23', 'blond', 'new', 'uk', 'look', 'sex', 'uk', 'guy', 'u', 'like', 'fun', 'text', 'mtalk', '1st', '5free', 'increment', 'help08718728876', 'claim', '200', 'shop', 'spree', 'call', '08717895698', 'mobstorequiz10ppm', 'want', 'funk', 'ur', 'fone', 'weekli', 'new', 'tone', 'repli', 'tones2u', '2', 'text', 'origin', 'n', 'best', 'tone', '3gbp', 'network', 'oper', 'rate', 'appli', 'twink', 'bear', 'scalli', 'skin', 'jock', 'call', 'miss', 'weekend', 'fun', 'call', '08712466669', '2', 'stop', 'text', 'call', '08712460324', 'nat', 'rate', 'tri', 'contact', 'repli', 'offer', 'video', 'handset', '750', 'anytim', 'network', 'min', 'unlimit', 'text', 'camcord', 'repli', 'call', '08000930705', 'urgent', 'tri', 'contact', 'last', 'weekend', 'draw', 'show', 'prize', 'guarante', 'call', 'claim', 'code', 'k61', 'valid', '12hour', '74355', 'xma', 'iscom', 'ur', 'award', 'either', 'cd', 'gift', 'voucher', 'free', 'entri', '2', 'r', 'weekli', 'draw', 'txt', 'music', '87066', 'tnc', 'congratul', 'u', 'claim', '2', 'vip', 'row', 'ticket', '2', 'c', 'blu', 'concert', 'novemb', 'blu', 'gift', 'guarante', 'call', '09061104276', 'claim', 'ts', 'cs', 'free', 'msg', 'singl', 'find', 'partner', 'area', '1000', 'real', 'peopl', 'wait', 'chat', 'send', 'chat', '62220cncl', 'send', 'stopc', 'per', 'msg', 'win', 'newest', 'åòharri', 'potter', 'order', 'phoenix', 'book', '5', 'repli', 'harri', 'answer', '5', 'question', 'chanc', 'first', 'among', 'reader', 'free', 'msg', 'rington', 'http', 'wml', '37819', 'oh', 'god', 'found', 'number', 'glad', 'text', 'back', 'xafter', 'msg', 'cst', 'std', 'ntwk', 'chg', 'link', 'pictur', 'sent', 'also', 'use', 'http', 'doubl', 'min', '1000', 'txt', 'orang', 'tariff', 'latest', 'motorola', 'sonyericsson', 'nokia', 'bluetooth', 'free', 'call', 'mobileupd8', '08000839402', 'urgent', '2nd', 'attempt', 'contact', 'prize', 'yesterday', 'still', 'await', 'collect', 'claim', 'call', 'acl03530150pm', 'dear', 'dave', 'final', 'notic', 'collect', '4', 'tenerif', 'holiday', '5000', 'cash', 'award', 'call', '09061743806', 'landlin', 'tc', 'sae', 'box326', 'cw25wx', '150ppm', 'tell', 'u', '2', 'call', '09066358152', 'claim', 'prize', 'u', '2', 'enter', 'ur', 'mobil', 'person', 'detail', 'prompt', 'care', '2004', 'account', '07xxxxxxxxx', 'show', '786', 'unredeem', 'point', 'claim', 'call', '08719181259', 'identifi', 'code', 'xxxxx', 'expir', 'want', 'new', 'video', 'handset', '750', 'anytim', 'network', 'min', 'half', 'price', 'line', 'rental', 'camcord', 'repli', 'call', '08000930705', 'deliveri', 'tomorrow', 'free', 'rington', 'repli', 'real', 'poli', 'eg', 'real1', 'pushbutton', 'dontcha', 'babygoodby', 'golddigg', 'webeburnin', '1st', 'tone', 'free', '6', 'u', 'join', 'free', 'msg', 'get', 'gnarl', 'barkley', 'rington', 'total', 'free', 'repli', 'go', 'messag', 'right', 'refus', 'loan', 'secur', 'unsecur', 'ca', 'get', 'credit', 'call', 'free', '0800', '195', '6669', 'text', 'back', 'special', 'select', 'receiv', 'award', 'call', '08712402050', 'line', 'close', 'cost', '10ppm', 'cs', 'appli', 'ag', 'promo', 'valu', 'vodafon', 'custom', 'comput', 'pick', 'win', 'prize', 'collect', 'easi', 'call', '09061743386', 'free', 'video', 'camera', 'phone', 'half', 'price', 'line', 'rental', '12', 'mth', '500', 'cross', 'ntwk', 'min', '100', 'txt', 'call', 'mobileupd8', '08001950382', 'ringtonek', '84484', 'rington', 'club', 'gr8', 'new', 'poli', 'direct', 'mobil', 'everi', 'week', 'bank', 'granit', 'issu', 'explos', 'pick', 'member', '300', 'nasdaq', 'symbol', 'cdgt', 'per', 'bore', 'housew', 'chat', 'n', 'date', 'rate', 'landlin', 'tri', 'call', 'repli', 'sm', 'video', 'mobil', '750', 'min', 'unlimit', 'text', 'free', 'camcord', 'repli', 'call', '08000930705', 'del', 'thur', '2nd', 'time', 'tri', 'contact', 'u', 'prize', '2', 'claim', 'easi', 'call', '087104711148', '10p', 'per', 'minut', 'receiv', 'week', 'tripl', 'echo', 'rington', 'shortli', 'enjoy', 'u', 'select', 'stay', '1', '250', 'top', 'british', 'hotel', 'noth', 'holiday', 'valu', 'dial', '08712300220', 'claim', 'nation', 'rate', 'call', 'bx526', 'sw73ss', 'chosen', 'receiv', 'award', 'pl', 'call', 'claim', 'number', '09066364311', 'collect', 'award', 'select', 'receiv', 'valu', 'mobil', 'custom', 'win', 'cash', 'prize', 'prize', 'worth', 'thank', 'rington', 'order', 'refer', 'number', 'mobil', 'charg', 'tone', 'arriv', 'pleas', 'call', 'custom', 'servic', '09065989182', 'mobi', 'pub', 'high', 'street', 'prize', 'u', 'know', 'new', 'duchess', 'cornwal', 'txt', 'first', 'name', 'stop', '008704050406', 'sp', 'week', 'savamob', 'member', 'offer', 'access', 'call', '08709501522', 'detail', 'savamob', 'pobox', '139', 'la3', '2wu', 'savamob', 'offer', 'mobil', 'contact', 'date', 'servic', 'someon', 'know', 'find', 'call', 'mobil', 'landlin', '09064017305', 'pobox75ldns7', 'chase', 'us', 'sinc', 'sept', 'definit', 'pay', 'thank', 'inform', 'ignor', 'kath', 'manchest', 'loan', 'purpos', 'even', 'bad', 'credit', 'tenant', 'welcom', 'call', '08717111821', '87077', 'kick', 'new', 'season', '2wk', 'free', 'goal', 'news', 'ur', 'mobil', 'txt', 'ur', 'club', 'name', '87077', 'eg', 'villa', '87077', 'orang', 'bring', 'rington', 'time', 'chart', 'hero', 'free', 'hit', 'week', 'go', 'rington', 'pic', 'wap', 'stop', 'receiv', 'tip', 'repli', 'stop', 'privat', '2003', 'account', 'statement', '07973788240', 'show', '800', 'point', 'call', '08715203649', 'identifi', 'code', '40533', 'expir', 'tri', 'call', 'repli', 'sm', 'video', 'mobil', '750', 'min', 'unlimit', 'text', 'free', 'camcord', 'repli', 'call', '08000930705', 'gsoh', 'good', 'spam', 'ladi', 'u', 'could', 'b', 'male', 'gigolo', '2', 'join', 'uk', 'fastest', 'grow', 'men', 'club', 'repli', 'oncal', 'mjzgroup', 'repli', 'stop', 'msg', 'hot', 'live', 'fantasi', 'call', '08707500020', '20p', 'per', 'min', 'ntt', 'ltd', 'po', 'box', '1327', 'croydon', 'cr9', '5wb', '0870', 'nation', 'rate', 'call', 'urgent', 'mobil', 'number', 'award', 'ukp', '2000', 'prize', 'guarante', 'call', '09061790125', 'landlin', 'claim', 'valid', '12hr', '150ppm', 'spjanuari', 'male', 'sale', 'hot', 'gay', 'chat', 'cheaper', 'call', 'nation', 'rate', 'cheap', 'peak', 'stop', 'text', 'call', '08712460324', 'freemsg', 'today', 'day', 'readi', 'horni', 'live', 'town', 'love', 'sex', 'fun', 'game', 'netcollex', 'ltd', '08700621170150p', 'per', 'msg', 'repli', 'stop', 'end', 'simpson', 'movi', 'releas', 'juli', '2007', 'name', 'band', 'die', 'start', 'film', 'day', 'day', 'day', 'send', 'b', 'c', 'pleas', 'call', 'amanda', 'regard', 'renew', 'upgrad', 'current', 'handset', 'free', 'charg', 'offer', 'end', 'today', 'tel', '0845', '021', '3680', 'subject', 'c', 'want', 'new', 'video', 'phone', '750', 'anytim', 'network', 'min', 'half', 'price', 'line', 'rental', 'free', 'text', '3', 'month', 'repli', 'call', '08000930705', 'free', 'deliveri', 'dear', 'voucher', 'holder', 'claim', 'week', 'offer', 'pc', 'pleas', 'go', 'http', 'ts', 'cs', 'appli', 'urgent', 'pleas', 'call', 'abta', 'complimentari', '4', 'spanish', 'holiday', 'cash', 'await', 'collect', 'sae', 'cs', 'box', '47', 'po19', '2ez', '150ppm', 'cmon', 'babe', 'make', 'horni', 'turn', 'txt', 'fantasi', 'babe', 'im', 'hot', 'sticki', 'need', 'repli', 'cost', '2', 'cancel', 'send', 'stop', 'import', 'inform', '4', 'orang', 'user', '0796xxxxxx', 'today', 'ur', 'lucki', 'day', '2', 'find', 'log', 'onto', 'http', 'fantast', 'prizeawait', 'miss', 'call', 'alert', 'number', 'call', 'left', 'messag', '07008009200', 'freemsg', 'record', 'indic', 'may', 'entitl', '3750', 'pound', 'accid', 'claim', 'free', 'repli', 'ye', 'msg', 'opt', 'text', 'stop', 'show', 'ur', 'colour', 'euro', '2004', 'offer', 'get', 'england', 'flag', '3lion', 'tone', 'ur', 'phone', 'click', 'follow', 'servic', 'messag', 'info', 'text', 'pass', '69669', 'collect', 'polyphon', 'rington', 'normal', 'gpr', 'charg', 'appli', 'enjoy', 'tone', 'accordingli', 'repeat', 'text', 'word', 'ok', 'mobil', 'phone', 'send', 'block', 'breaker', 'come', 'delux', 'format', 'new', 'featur', 'great', 'graphic', 'buy', 'repli', 'get', 'bbdelux', 'take', 'challeng', 'import', 'inform', '4', 'orang', 'user', 'today', 'lucki', 'day', '2find', 'log', 'onto', 'http', 'fantast', 'surpris', 'await', 'natalja', 'invit', 'friend', 'repli', 'see', 'stop', 'send', 'stop', 'frnd', '62468', 'urgent', 'import', 'inform', '02', 'user', 'today', 'lucki', 'day', '2', 'find', 'log', 'onto', 'http', 'fantast', 'surpris', 'await', 'kit', 'strip', 'bill', '150p', 'netcollex', 'po', 'box', '1013', 'ig11', 'oja', 'pleas', 'call', '08712402578', 'immedi', 'urgent', 'messag', 'wait', 'let', 'send', 'free', 'anonym', 'mask', 'messag', 'im', 'send', 'messag', 'see', 'potenti', 'abus', 'congrat', '2', 'mobil', '3g', 'videophon', 'r', 'call', '09061744553', 'videochat', 'wid', 'ur', 'mate', 'play', 'java', 'game', 'dload', 'polyh', 'music', 'nolin', 'rentl', 'bx420', 'ip4', '5we', '150pm', 'import', 'inform', '4', 'orang', 'user', '0789xxxxxxx', 'today', 'lucki', 'day', '2find', 'log', 'onto', 'http', 'fantast', 'surpris', 'await', 'date', 'servic', 'ask', '2', 'contact', 'u', 'someon', 'shi', 'call', '09058091870', 'reveal', 'pobox84', 'm26', '3uz', '150p', 'want', 'new', 'video', 'handset', '750', 'time', 'network', 'min', 'unlimit', 'text', 'camcord', 'repli', 'call', '08000930705', 'del', 'sat', 'ur', 'balanc', 'next', 'question', 'complet', 'landmark', 'big', 'bob', 'barri', 'ben', 'text', 'b', 'c', 'good', 'luck', 'ur', 'tonex', 'subscript', 'renew', 'charg', 'choos', '10', 'poli', 'month', 'bill', 'msg', 'prize', 'go', 'anoth', 'custom', 'c', 'polo', 'ltd', 'suit', '373', 'london', 'w1j', '6hl', 'pleas', 'call', 'back', 'busi', 'want', 'new', 'nokia', '3510i', 'colour', 'phone', 'deliv', 'tomorrow', '200', 'free', 'minut', 'mobil', '100', 'free', 'text', 'free', 'camcord', 'repli', 'call', '8000930705', 'recpt', 'order', 'rington', 'order', 'process', 'one', 'regist', 'subscrib', 'u', 'enter', 'draw', '4', '100', 'gift', 'voucher', 'repli', 'enter', 'unsubscrib', 'text', 'stop', 'chanc', 'win', 'free', 'bluetooth', 'headset', 'simpli', 'repli', 'back', 'b', 'floppi', 'b', 'snappi', 'happi', 'gay', 'chat', 'servic', 'photo', 'upload', 'call', '08718730666', '2', 'stop', 'text', 'call', '08712460324', 'welcom', 'msg', 'free', 'give', 'free', 'call', 'futur', 'mg', 'bill', '150p', 'daili', 'cancel', 'send', '89123', 'receiv', 'mobil', 'content', 'enjoy', 'want', 'explicit', 'sex', '30', 'sec', 'ring', '02073162414', 'cost', 'latest', 'nokia', 'mobil', 'ipod', 'mp3', 'player', 'proze', 'guarante', 'repli', 'win', '83355', 'norcorp', 'sm', 'servic', 'inclus', 'text', 'credit', 'pl', 'goto', '3qxj9', 'unsubscrib', 'stop', 'extra', 'charg', 'help', '9ae', 'mobil', 'club', 'choos', 'top', 'qualiti', 'item', 'mobil', '7cfca1a', 'money', 'wine', 'number', '946', 'wot', 'next', 'want', 'cock', 'hubbi', 'away', 'need', 'real', 'man', '2', 'satisfi', 'txt', 'wife', '89938', 'string', 'action', 'txt', 'stop', '2', 'end', 'txt', 'rec', 'otbox', '731', 'la1', '7w', 'gr8', 'new', 'servic', 'live', 'sex', 'video', 'chat', 'mob', 'see', 'sexiest', 'dirtiest', 'girl', 'live', 'ur', 'phone', '4', 'detail', 'text', 'horni', '89070', 'cancel', 'send', 'stop', '89070', 'freemsg', 'hi', 'babi', 'wow', 'got', 'new', 'cam', 'mobi', 'wan', 'na', 'c', 'hot', 'pic', 'fanci', 'chat', 'im', 'w8in', '4utxt', 'rpli', 'chat', '82242', 'hlp', '08712317606', 'msg150p', '2rcv', 'wan', 'na', 'laugh', 'tri', 'mobil', 'logon', 'txting', 'word', 'chat', 'send', '8883', 'cm', 'po', 'box', '4217', 'london', 'w1a', '6zf', 'rcvd', '2nd', 'attempt', 'contact', 'u', 'u', '09071512432', 'b4', '300603t', 'congratul', 'ur', 'award', '500', 'cd', 'voucher', '125gift', 'guarante', 'free', 'entri', '2', '100', 'wkli', 'draw', 'txt', 'music', '87066', 'contract', 'mobil', '11', 'mnth', 'latest', 'motorola', 'nokia', 'etc', 'free', 'doubl', 'min', 'text', 'orang', 'tariff', 'text', 'ye', 'callback', 'remov', 'record', 'urgent', 'call', '09066350750', 'landlin', 'complimentari', '4', 'ibiza', 'holiday', 'cash', 'await', 'collect', 'sae', 'cs', 'po', 'box', '434', 'sk3', '8wp', '150', 'ppm', 'u', 'secret', 'admir', 'look', '2', 'make', 'contact', 'r', 'reveal', 'think', 'ur', 'freemsg', 'txt', 'call', '86888', 'claim', 'reward', '3', 'hour', 'talk', 'time', 'use', 'phone', 'inc', '3hr', '16', 'stop', 'txtstop', 'sunshin', 'quiz', 'win', 'super', 'soni', 'dvd', 'record', 'cannam', 'capit', 'australia', 'text', 'mquiz', 'b', 'today', 'voda', 'number', 'end', '7634', 'select', 'receiv', 'reward', 'match', 'pleas', 'call', '08712300220', 'quot', 'claim', 'code', '7684', 'standard', 'rate', 'appli', 'rip', 'get', 'mobil', 'content', 'call', '08717509990', 'six', 'download', '3', 'tri', 'contact', 'repli', 'offer', 'video', 'phone', '750', 'anytim', 'network', 'min', 'half', 'price', 'line', 'rental', 'camcord', 'repli', 'call', '08000930705', 'xma', 'reward', 'wait', 'comput', 'randomli', 'pick', 'loyal', 'mobil', 'custom', 'receiv', 'reward', 'call', '09066380611', 'privat', '2003', 'account', 'statement', 'show', '800', 'point', 'call', '08718738002', 'identifi', 'code', '48922', 'expir', 'custom', 'servic', 'announc', 'recent', 'tri', 'make', 'deliveri', 'unabl', 'pleas', 'call', '07099833605', 'hi', 'babe', 'chloe', 'r', 'u', 'smash', 'saturday', 'night', 'great', 'weekend', 'u', 'miss', 'sp', 'text', 'stop', 'stop', 'urgent', 'mobil', '07808726822', 'award', 'bonu', 'caller', 'prize', '2nd', 'attempt', 'contact', 'call', 'box95qu', 'free', 'game', 'get', 'rayman', 'golf', '4', 'free', 'o2', 'game', 'arcad', '1st', 'get', 'ur', 'game', 'set', 'repli', 'post', 'save', 'activ8', 'press', '0', 'key', 'arcad', 'termsappli', 'mobil', '10', 'mth', 'updat', 'latest', 'phone', 'free', 'keep', 'ur', 'number', 'get', 'extra', 'free', 'text', 'ye', 'call', 'weekli', 'tone', 'readi', 'download', 'week', 'new', 'tone', 'includ', '1', 'crazi', 'f', '2', '3', 'black', 'p', 'info', 'n', 'get', 'lot', 'cash', 'weekend', 'dear', 'welcom', 'weekend', 'got', 'biggest', 'best', 'ever', 'cash', 'give', 'away', 'thank', '4', 'continu', 'support', 'question', 'week', 'enter', 'u', 'in2', 'draw', '4', 'cash', 'name', 'new', 'us', 'presid', 'txt', 'an', '80082', 'uniqu', 'user', 'id', 'remov', 'send', 'stop', '87239', 'custom', 'servic', '08708034412', 'urgent', '09066649731from', 'landlin', 'complimentari', '4', 'ibiza', 'holiday', 'cash', 'await', 'collect', 'sae', 'cs', 'po', 'box', '434', 'sk3', '8wp', '150ppm', 'urgent', '2nd', 'attempt', 'contact', 'prize', 'yesterday', 'still', 'await', 'collect', 'claim', 'call', '09061702893', 'santa', 'call', 'would', 'littl', 'one', 'like', 'call', 'santa', 'xma', 'eve', 'call', '09077818151', 'book', 'time', 'last', '3min', '30', 'c', 'privat', '2004', 'account', 'statement', '078498', '7', 'show', '786', 'unredeem', 'bonu', 'point', 'claim', 'call', '08719180219', 'identifi', 'code', '45239', 'expir', 'check', 'choos', 'babe', 'video', 'fgkslpopw', 'fgkslpo', 'u', 'r', 'winner', 'u', 'ave', 'special', 'select', '2', 'receiv', 'cash', '4', 'holiday', 'flight', 'inc', 'speak', 'live', 'oper', '2', 'claim', '18', 'new', 'mobil', '2004', 'must', 'go', 'txt', 'nokia', '89545', 'collect', 'today', '2optout', 'txtauction', 'privat', '2003', 'account', 'statement', 'show', '800', 'point', 'call', '08715203652', 'identifi', 'code', '42810', 'expir', 'valu', 'vodafon', 'custom', 'comput', 'pick', 'win', 'prize', 'collect', 'easi', 'call', '09061743386', 'free', 'messag', 'thank', 'use', 'auction', 'subscript', 'servic', '18', '2', 'skip', 'auction', 'txt', '2', 'unsubscrib', 'txt', 'stop', 'customercar', '08718726270', 'lyricalladi', 'invit', 'friend', 'repli', 'see', 'stop', 'send', 'stop', 'frnd', '62468', 'want', 'latest', 'video', 'handset', '750', 'anytim', 'network', 'min', 'half', 'price', 'line', 'rental', 'repli', 'call', '08000930705', 'deliveri', 'tomorrow', 'ou', 'guarante', 'latest', 'nokia', 'phone', '40gb', 'ipod', 'mp3', 'player', 'prize', 'txt', 'word', 'collect', '83355', 'ibhltd', 'ldnw15h', 'free', 'polyphon', 'rington', 'text', 'super', '87131', 'get', 'free', 'poli', 'tone', 'week', '16', 'sn', 'pobox202', 'nr31', '7z', 'subscript', '450pw', 'warner', 'villag', '83118', 'c', 'colin', 'farrel', 'swat', 'wkend', 'warner', 'villag', 'get', '1', 'free', 'med', 'popcorn', 'show', 'c', 'c', 'kiosk', 'repli', 'soni', '4', 'mre', 'film', 'offer', 'goal', 'arsen', '4', 'henri', '7', 'v', 'liverpool', '2', 'henri', 'score', 'simpl', 'shot', '6', 'yard', 'pass', 'bergkamp', 'give', 'arsen', '2', 'goal', 'margin', '78', 'min', 'hi', 'sexychat', 'girl', 'wait', 'text', 'text', 'great', 'night', 'chat', 'send', 'stop', 'stop', 'servic', 'hi', 'ami', 'send', 'free', 'phone', 'number', 'coupl', 'day', 'give', 'access', 'adult', 'parti', 'welcom', 'select', 'o2', 'servic', 'ad', 'benefit', 'call', 'special', 'train', 'advisor', 'free', 'mobil', 'diall', '402', 'dear', 'voucher', 'holder', 'next', 'meal', 'us', 'use', 'follow', 'link', 'pc', '2', 'enjoy', '2', '4', '1', 'dine', 'experiencehttp', 'urgent', 'tri', 'contact', 'today', 'draw', 'show', 'prize', 'guarante', 'call', '09058094507', 'land', 'line', 'claim', 'valid', '12hr', 'donat', 'unicef', 'asian', 'tsunami', 'disast', 'support', 'fund', 'text', 'donat', 'ad', 'next', 'bill', 'goldvik', 'invit', 'friend', 'repli', 'see', 'stop', 'send', 'stop', 'frnd', '62468', 'phoni', 'award', 'today', 'voda', 'number', 'end', 'xxxx', 'select', 'receiv', 'award', 'match', 'pleas', 'call', '08712300220', 'quot', 'claim', 'code', '3100', 'standard', 'rate', 'app', 'cd', '4u', 'congratul', 'ur', 'award', 'cd', 'gift', 'voucher', 'gift', 'guarante', 'freeentri', '2', 'wkli', 'draw', 'xt', 'music', '87066', 'tnc', 'guarante', 'cash', 'prize', 'claim', 'yr', 'prize', 'call', 'custom', 'servic', 'repres', '08714712412', 'cost', '10p', 'dear', '0776xxxxxxx', 'u', 'invit', 'xchat', 'final', 'attempt', 'contact', 'u', 'txt', 'chat', '86688', 'ldn', '18yr', 'ur', 'current', '500', 'pound', 'maxim', 'ur', 'send', 'go', '86688', 'cc', '08718720201', 'privat', '2003', 'account', 'statement', 'show', '800', 'point', 'call', '08715203685', 'identifi', 'expir', 'like', 'tell', 'deepest', 'darkest', 'fantasi', 'call', '09094646631', 'stop', 'text', 'call', '08712460324', 'nat', 'rate', 'natali', 'invit', 'friend', 'repli', 'see', 'stop', 'send', 'stop', 'frnd', '62468', 'jamster', 'get', 'free', 'wallpap', 'text', 'heart', '88888', 'c', 'appli', '16', 'need', 'help', 'call', '08701213186', 'free', 'video', 'camera', 'phone', 'half', 'price', 'line', 'rental', '12', 'mth', '500', 'cross', 'ntwk', 'min', '100', 'txt', 'call', 'mobileupd8', '08001950382', '83039', 'uk', 'break', 'accommodationvouch', 'term', 'condit', 'appli', '2', 'claim', 'mustprovid', 'claim', 'number', '15541', '5p', '4', 'alfi', 'moon', 'children', 'need', 'song', 'ur', 'mob', 'tell', 'ur', 'm8', 'txt', 'tone', 'chariti', '8007', 'nokia', 'poli', 'chariti', 'poli', 'zed', '08701417012', 'profit', '2', 'chariti', 'win', 'shop', 'spree', 'everi', 'week', 'start', '2', 'play', 'text', 'store', 'skilgm', 'tscs08714740323', '1winawk', 'age16', '2nd', 'attempt', 'contract', 'u', 'week', 'top', 'prize', 'either', 'cash', 'prize', 'call', '09066361921', 'want', 'new', 'nokia', '3510i', 'colour', 'phone', 'deliveredtomorrow', '300', 'free', 'minut', 'mobil', '100', 'free', 'text', 'free', 'camcord', 'repli', 'call', '08000930705', 'themob', 'hit', 'link', 'get', 'premium', 'pink', 'panther', 'game', 'new', '1', 'sugabab', 'crazi', 'zebra', 'anim', 'badass', 'hoodi', '4', 'free', 'msg', 'mobil', 'content', 'order', 'resent', 'previou', 'attempt', 'fail', 'due', 'network', 'error', 'queri', 'customersqueri', '1', 'new', 'messag', 'pleas', 'call', '08715205273', 'decemb', 'mobil', 'entitl', 'updat', 'latest', 'colour', 'camera', 'mobil', 'free', 'call', 'mobil', 'updat', 'vco', 'free', '08002986906', 'get', '3', 'lion', 'england', 'tone', 'repli', 'lionm', '4', 'mono', 'lionp', '4', 'poli', '4', 'go', '2', 'origin', 'n', 'best', 'tone', '3gbp', 'network', 'oper', 'rate', 'appli', 'privat', '2003', 'account', 'statement', '078', '4', 'costa', 'del', 'sol', 'holiday', 'await', 'collect', 'call', '09050090044', 'toclaim', 'sae', 'tc', 'pobox334', 'stockport', 'sk38xh', 'max10min', 'get', 'garden', 'readi', 'summer', 'free', 'select', 'summer', 'bulb', 'seed', 'worth', 'scotsman', 'saturday', 'stop', 'go2', 'sm', 'auction', 'brand', 'new', 'nokia', '7250', '4', 'auction', 'today', 'auction', 'free', '2', 'join', 'take', 'part', 'txt', 'nokia', '86021', 'ree', 'entri', '2', 'weekli', 'comp', 'chanc', 'win', 'ipod', 'txt', 'pod', '80182', 'get', 'entri', 'std', 'txt', 'rate', 'c', 'appli', '08452810073', 'detail', 'record', 'indic', 'u', 'mayb', 'entitl', '5000', 'pound', 'compens', 'accid', 'claim', '4', 'free', 'repli', 'claim', 'msg', '2', 'stop', 'txt', 'stop', 'spook', 'mob', 'halloween', 'collect', 'logo', 'pic', 'messag', 'plu', 'free', 'eeri', 'tone', 'txt', 'card', 'spook', '8007', 'zed', '08701417012150p', 'per', 'call', 'germani', '1', 'penc', 'per', 'minut', 'call', 'fix', 'line', 'via', 'access', 'number', '0844', '861', '85', 'prepay', 'direct', 'access', 'mobil', '11mth', 'updat', 'free', 'orang', 'latest', 'colour', 'camera', 'mobil', 'unlimit', 'weekend', 'call', 'call', 'mobil', 'upd8', 'freefon', '08000839402', '2stoptxt', 'privat', '2003', 'account', 'statement', 'fone', 'show', '800', 'point', 'call', '08715203656', 'identifi', 'code', '42049', 'expir', 'someonon', 'know', 'tri', 'contact', 'via', 'date', 'servic', 'find', 'could', 'call', 'mobil', 'landlin', '09064015307', 'box334sk38ch', 'urgent', 'pleas', 'call', '09061213237', 'landlin', 'cash', '4', 'holiday', 'await', 'collect', 'cs', 'sae', 'po', 'box', '177', 'm227xi', 'prize', 'go', 'anoth', 'custom', 'c', 'polo', 'ltd', 'suit', '373', 'london', 'w1j', '6hl', 'pleas', 'call', 'back', 'busi', 'urgent', 'mobil', 'number', 'award', 'prize', 'guarante', 'call', '09061790126', 'land', 'line', 'claim', 'valid', '12hr', '150ppm', 'urgent', 'pleas', 'call', '09061213237', 'landlin', 'cash', 'luxuri', '4', 'canari', 'island', 'holiday', 'await', 'collect', 'cs', 'sae', 'po', 'box', 'm227xi', '150ppm', 'xma', 'iscom', 'ur', 'award', 'either', 'cd', 'gift', 'voucher', 'free', 'entri', '2', 'r', 'weekli', 'draw', 'txt', 'music', '87066', 'tnc', 'u', 'r', 'subscrib', '2', 'textcomp', '250', 'wkli', 'comp', '1st', 'wk', 'free', 'question', 'follow', 'subsequ', 'wk', 'charg', 'unsubscrib', 'txt', 'stop', '2', '84128', 'custcar', '08712405020', 'call', '09095350301', 'send', 'girl', 'erot', 'ecstaci', 'stop', 'text', 'call', '08712460324', 'nat', 'rate', 'xma', 'reward', 'wait', 'comput', 'randomli', 'pick', 'loyal', 'mobil', 'custom', 'receiv', 'reward', 'call', '09066380611', 'import', 'messag', 'final', 'contact', 'attempt', 'import', 'messag', 'wait', 'custom', 'claim', 'dept', 'expir', 'call', '08717507382', 'date', 'two', 'start', 'sent', 'text', 'talk', 'sport', 'radio', 'last', 'week', 'connect', 'think', 'coincid', 'current', 'lead', 'bid', 'paus', 'auction', 'send', 'custom', 'care', '08718726270', 'free', 'entri', 'gr8prize', 'wkli', 'comp', '4', 'chanc', 'win', 'latest', 'nokia', '8800', 'psp', 'cash', 'everi', 'great', '80878', '08715705022', '1', 'new', 'messag', 'call', 'santa', 'call', 'would', 'littl', 'one', 'like', 'call', 'santa', 'xma', 'eve', 'call', '09058094583', 'book', 'time', 'guarante', '32000', 'award', 'mayb', 'even', 'cash', 'claim', 'ur', 'award', 'call', 'free', '0800', 'legitimat', 'efreefon', 'number', 'wat', 'u', 'think', 'latest', 'news', 'polic', 'station', 'toilet', 'stolen', 'cop', 'noth', 'go', 'sparkl', 'shop', 'break', '45', 'per', 'person', 'call', '0121', '2025050', 'visit', 'txt', 'call', '86888', 'claim', 'reward', '3', 'hour', 'talk', 'time', 'use', 'phone', 'inc', '3hr', '16', 'stop', 'txtstop', 'wml', 'c', 'ringtoneåá', 'urgent', 'last', 'weekend', 'draw', 'show', 'cash', 'spanish', 'holiday', 'call', '09050000332', 'claim', 'c', 'rstm', 'sw7', '3ss', '150ppm', 'urgent', 'tri', 'contact', 'last', 'weekend', 'draw', 'show', 'u', 'prize', 'guarante', 'call', '09064017295', 'claim', 'code', 'k52', 'valid', '12hr', '150p', 'pm', '2p', 'per', 'min', 'call', 'germani', '08448350055', 'bt', 'line', '2p', 'per', 'min', 'check', 'info', 'c', 'text', 'stop', 'opt', 'marvel', 'mobil', 'play', 'offici', 'ultim', 'game', 'ur', 'mobil', 'right', 'text', 'spider', '83338', 'game', 'send', 'u', 'free', '8ball', 'wallpap', 'privat', '2003', 'account', 'statement', '07808247860', 'show', '800', 'point', 'call', '08719899229', 'identifi', 'code', '40411', 'expir', 'privat', '2003', 'account', 'statement', 'show', '800', 'point', 'call', '08718738001', 'identifi', 'code', '49557', 'expir', 'want', 'explicit', 'sex', '30', 'sec', 'ring', '02073162414', 'cost', 'gsex', 'pobox', '2667', 'wc1n', '3xx', 'ask', '3mobil', '0870', 'chatlin', 'inclu', 'free', 'min', 'india', 'cust', 'serv', 'sed', 'ye', 'l8er', 'got', 'mega', 'bill', '3', 'dont', 'giv', 'shit', 'bailiff', 'due', 'day', '3', 'want', 'contract', 'mobil', '11', 'mnth', 'latest', 'motorola', 'nokia', 'etc', 'free', 'doubl', 'min', 'text', 'orang', 'tariff', 'text', 'ye', 'callback', 'remov', 'record', 'remind', 'o2', 'get', 'pound', 'free', 'call', 'credit', 'detail', 'great', 'offer', 'pl', 'repli', '2', 'text', 'valid', 'name', 'hous', 'postcod', '2nd', 'time', 'tri', '2', 'contact', 'u', 'pound', 'prize', '2', 'claim', 'easi', 'call', '087187272008', 'now1', '10p', 'per', 'minut']\n"
     ]
    }
   ],
   "source": [
    "print(spam_corpus)"
   ]
  },
  {
   "cell_type": "code",
   "execution_count": 53,
   "metadata": {},
   "outputs": [
    {
     "data": {
      "text/plain": [
       "Counter({'free': 191,\n",
       "         'entri': 21,\n",
       "         '2': 155,\n",
       "         'wkli': 9,\n",
       "         'comp': 8,\n",
       "         'win': 48,\n",
       "         'fa': 2,\n",
       "         'cup': 3,\n",
       "         'final': 14,\n",
       "         'tkt': 2,\n",
       "         '21st': 1,\n",
       "         'may': 6,\n",
       "         'text': 122,\n",
       "         '87121': 2,\n",
       "         'receiv': 31,\n",
       "         'question': 9,\n",
       "         'std': 6,\n",
       "         'txt': 141,\n",
       "         'rate': 26,\n",
       "         'c': 45,\n",
       "         'appli': 24,\n",
       "         '08452810075over18': 1,\n",
       "         'freemsg': 14,\n",
       "         'hey': 5,\n",
       "         'darl': 2,\n",
       "         '3': 20,\n",
       "         'week': 49,\n",
       "         'word': 21,\n",
       "         'back': 20,\n",
       "         'like': 12,\n",
       "         'fun': 8,\n",
       "         'still': 5,\n",
       "         'tb': 1,\n",
       "         'ok': 5,\n",
       "         'xxx': 10,\n",
       "         'chg': 2,\n",
       "         'send': 60,\n",
       "         'rcv': 2,\n",
       "         'winner': 13,\n",
       "         'valu': 8,\n",
       "         'network': 26,\n",
       "         'custom': 42,\n",
       "         'select': 26,\n",
       "         'receivea': 1,\n",
       "         'prize': 82,\n",
       "         'reward': 9,\n",
       "         'claim': 98,\n",
       "         'call': 320,\n",
       "         'code': 27,\n",
       "         'kl341': 1,\n",
       "         'valid': 21,\n",
       "         '12': 3,\n",
       "         'hour': 4,\n",
       "         'mobil': 114,\n",
       "         '11': 3,\n",
       "         'month': 5,\n",
       "         'u': 119,\n",
       "         'r': 24,\n",
       "         'entitl': 6,\n",
       "         'updat': 14,\n",
       "         'latest': 30,\n",
       "         'colour': 14,\n",
       "         'camera': 23,\n",
       "         'co': 3,\n",
       "         '08002986030': 1,\n",
       "         'six': 2,\n",
       "         'chanc': 22,\n",
       "         'cash': 51,\n",
       "         '100': 14,\n",
       "         'pound': 19,\n",
       "         'csh11': 1,\n",
       "         'cost': 24,\n",
       "         '6day': 1,\n",
       "         'tsandc': 1,\n",
       "         'repli': 103,\n",
       "         'hl': 3,\n",
       "         '4': 97,\n",
       "         'info': 11,\n",
       "         'urgent': 57,\n",
       "         '1': 28,\n",
       "         'membership': 1,\n",
       "         'jackpot': 1,\n",
       "         '81010': 1,\n",
       "         'lccltd': 1,\n",
       "         'pobox': 11,\n",
       "         '4403ldnw1a7rw18': 1,\n",
       "         'xxxmobilemovieclub': 1,\n",
       "         'use': 12,\n",
       "         'credit': 18,\n",
       "         'click': 5,\n",
       "         'wap': 9,\n",
       "         'link': 6,\n",
       "         'next': 16,\n",
       "         'messag': 42,\n",
       "         'http': 18,\n",
       "         'england': 7,\n",
       "         'v': 4,\n",
       "         'macedonia': 1,\n",
       "         'dont': 9,\n",
       "         'miss': 8,\n",
       "         'news': 8,\n",
       "         'ur': 119,\n",
       "         'nation': 11,\n",
       "         'team': 2,\n",
       "         '87077': 8,\n",
       "         'eg': 11,\n",
       "         'tri': 37,\n",
       "         'wale': 1,\n",
       "         'scotland': 1,\n",
       "         'poboxox36504w45wq': 1,\n",
       "         'thank': 16,\n",
       "         'subscript': 5,\n",
       "         'rington': 30,\n",
       "         'uk': 20,\n",
       "         'charg': 22,\n",
       "         'pleas': 51,\n",
       "         'confirm': 1,\n",
       "         'ye': 12,\n",
       "         '07732584351': 1,\n",
       "         'rodger': 1,\n",
       "         'burn': 1,\n",
       "         'msg': 35,\n",
       "         'sm': 22,\n",
       "         'nokia': 57,\n",
       "         'camcord': 15,\n",
       "         '08000930705': 16,\n",
       "         'deliveri': 18,\n",
       "         'tomorrow': 10,\n",
       "         'ac': 4,\n",
       "         'sptv': 2,\n",
       "         'new': 64,\n",
       "         'jersey': 1,\n",
       "         'devil': 1,\n",
       "         'detroit': 1,\n",
       "         'red': 1,\n",
       "         'wing': 1,\n",
       "         'play': 14,\n",
       "         'ice': 1,\n",
       "         'hockey': 1,\n",
       "         'correct': 4,\n",
       "         'incorrect': 1,\n",
       "         'end': 24,\n",
       "         'congrat': 6,\n",
       "         'year': 9,\n",
       "         'special': 16,\n",
       "         'cinema': 2,\n",
       "         'pass': 5,\n",
       "         '09061209465': 2,\n",
       "         'suprman': 2,\n",
       "         'matrix3': 2,\n",
       "         'starwars3': 2,\n",
       "         'etc': 6,\n",
       "         '150pm': 4,\n",
       "         'advis': 2,\n",
       "         'follow': 10,\n",
       "         'recent': 4,\n",
       "         'review': 3,\n",
       "         'mob': 20,\n",
       "         'award': 55,\n",
       "         'bonu': 17,\n",
       "         '09066364589': 1,\n",
       "         'complimentari': 11,\n",
       "         'trip': 3,\n",
       "         'eurodisinc': 1,\n",
       "         'trav': 1,\n",
       "         'aco': 1,\n",
       "         'entry41': 1,\n",
       "         'di': 1,\n",
       "         'morefrmmob': 1,\n",
       "         'shracomorsglsuplt': 1,\n",
       "         '10': 7,\n",
       "         'ls1': 1,\n",
       "         '3aj': 1,\n",
       "         'hear': 3,\n",
       "         'come': 5,\n",
       "         'ken': 1,\n",
       "         'stuff': 1,\n",
       "         'servic': 64,\n",
       "         'repres': 6,\n",
       "         '0800': 9,\n",
       "         '169': 1,\n",
       "         '6031': 1,\n",
       "         'guarante': 42,\n",
       "         'wait': 17,\n",
       "         'collect': 45,\n",
       "         'simpli': 2,\n",
       "         'password': 2,\n",
       "         '85069': 1,\n",
       "         'verifi': 2,\n",
       "         'get': 74,\n",
       "         'usher': 1,\n",
       "         'britney': 1,\n",
       "         'fml': 1,\n",
       "         'gent': 2,\n",
       "         'contact': 56,\n",
       "         'last': 12,\n",
       "         'weekend': 13,\n",
       "         'draw': 35,\n",
       "         'show': 33,\n",
       "         'k52': 3,\n",
       "         '12hr': 16,\n",
       "         '150ppm': 29,\n",
       "         'holiday': 27,\n",
       "         'flight': 6,\n",
       "         'inc': 7,\n",
       "         'speak': 7,\n",
       "         'live': 22,\n",
       "         'oper': 11,\n",
       "         'privat': 16,\n",
       "         '2004': 7,\n",
       "         'account': 18,\n",
       "         'statement': 15,\n",
       "         '07742676969': 1,\n",
       "         '786': 3,\n",
       "         'unredeem': 3,\n",
       "         'point': 15,\n",
       "         '08719180248': 1,\n",
       "         'identifi': 15,\n",
       "         '45239': 2,\n",
       "         'expir': 17,\n",
       "         'caller': 12,\n",
       "         'landlin': 30,\n",
       "         '09064019788': 1,\n",
       "         'box42wr29c': 1,\n",
       "         'today': 33,\n",
       "         'voda': 5,\n",
       "         'number': 35,\n",
       "         '7548': 1,\n",
       "         '350': 2,\n",
       "         'match': 14,\n",
       "         '08712300220': 6,\n",
       "         'quot': 6,\n",
       "         '4041': 1,\n",
       "         'standard': 6,\n",
       "         'app': 4,\n",
       "         'sunshin': 5,\n",
       "         'quiz': 9,\n",
       "         'q': 2,\n",
       "         'top': 14,\n",
       "         'soni': 5,\n",
       "         'dvd': 5,\n",
       "         'player': 10,\n",
       "         'know': 19,\n",
       "         'countri': 2,\n",
       "         'algarv': 1,\n",
       "         'ansr': 2,\n",
       "         'sp': 6,\n",
       "         'tyron': 2,\n",
       "         'want': 31,\n",
       "         'laid': 4,\n",
       "         'tonight': 3,\n",
       "         'real': 12,\n",
       "         'dog': 12,\n",
       "         'locat': 5,\n",
       "         'sent': 10,\n",
       "         'direct': 10,\n",
       "         'join': 18,\n",
       "         'largest': 4,\n",
       "         'bt': 5,\n",
       "         'txting': 7,\n",
       "         'gravel': 1,\n",
       "         '69888': 2,\n",
       "         'nt': 1,\n",
       "         'ec2a': 4,\n",
       "         '150p': 26,\n",
       "         'chat': 38,\n",
       "         'svc': 1,\n",
       "         'hardcor': 2,\n",
       "         'go': 32,\n",
       "         '69988': 1,\n",
       "         'noth': 4,\n",
       "         'must': 5,\n",
       "         'age': 9,\n",
       "         'yr': 14,\n",
       "         'randi': 2,\n",
       "         'sexi': 14,\n",
       "         'femal': 1,\n",
       "         'local': 5,\n",
       "         'luv': 5,\n",
       "         'netcollex': 4,\n",
       "         'ltd': 11,\n",
       "         '08700621170150p': 2,\n",
       "         'per': 41,\n",
       "         'stop': 104,\n",
       "         'annonc': 1,\n",
       "         '07046744435': 1,\n",
       "         'arrang': 2,\n",
       "         '0871277810810': 1,\n",
       "         'bootydeli': 1,\n",
       "         'invit': 10,\n",
       "         'friend': 13,\n",
       "         'see': 16,\n",
       "         'frnd': 5,\n",
       "         '62468': 5,\n",
       "         'bangbab': 1,\n",
       "         'order': 17,\n",
       "         'way': 1,\n",
       "         'download': 7,\n",
       "         'content': 14,\n",
       "         'goto': 5,\n",
       "         'bangb': 1,\n",
       "         'tv': 3,\n",
       "         'menu': 1,\n",
       "         's89': 1,\n",
       "         'freephon': 4,\n",
       "         '0808': 1,\n",
       "         '145': 1,\n",
       "         '4742': 1,\n",
       "         'uniqu': 2,\n",
       "         'enough': 2,\n",
       "         'find': 21,\n",
       "         '30th': 1,\n",
       "         'august': 2,\n",
       "         '500': 19,\n",
       "         '89545': 3,\n",
       "         '2optout': 4,\n",
       "         'meet': 5,\n",
       "         'dream': 2,\n",
       "         'partner': 5,\n",
       "         'soon': 2,\n",
       "         'career': 1,\n",
       "         'flyng': 1,\n",
       "         'start': 12,\n",
       "         'horo': 2,\n",
       "         'star': 3,\n",
       "         'sign': 2,\n",
       "         'ari': 1,\n",
       "         'someon': 13,\n",
       "         'date': 26,\n",
       "         'even': 7,\n",
       "         'flirt': 5,\n",
       "         '10p': 13,\n",
       "         'name': 15,\n",
       "         'sam': 2,\n",
       "         '25': 3,\n",
       "         '18': 20,\n",
       "         'recd': 3,\n",
       "         'thirtyeight': 1,\n",
       "         'penc': 3,\n",
       "         '447801259231': 1,\n",
       "         'secret': 7,\n",
       "         'admir': 7,\n",
       "         'look': 9,\n",
       "         'make': 11,\n",
       "         'reveal': 12,\n",
       "         'think': 11,\n",
       "         '09058094597': 1,\n",
       "         'congratul': 12,\n",
       "         'cd': 11,\n",
       "         'voucher': 28,\n",
       "         '125gift': 2,\n",
       "         'music': 15,\n",
       "         '87066': 10,\n",
       "         'tnc': 7,\n",
       "         'offer': 33,\n",
       "         'video': 29,\n",
       "         'handset': 6,\n",
       "         '750': 17,\n",
       "         'anytim': 12,\n",
       "         'min': 45,\n",
       "         'unlimit': 10,\n",
       "         'realli': 1,\n",
       "         'horni': 7,\n",
       "         'nake': 1,\n",
       "         'hot': 13,\n",
       "         '69698': 2,\n",
       "         'unsubscrib': 17,\n",
       "         'chang': 1,\n",
       "         'choos': 9,\n",
       "         'club': 19,\n",
       "         '87070': 1,\n",
       "         'club4': 1,\n",
       "         'po': 24,\n",
       "         'box1146': 1,\n",
       "         'mk45': 1,\n",
       "         '2wt': 1,\n",
       "         'singl': 5,\n",
       "         'chart': 3,\n",
       "         'qualiti': 2,\n",
       "         'hmv': 4,\n",
       "         'genuin': 1,\n",
       "         'answer': 6,\n",
       "         'easi': 10,\n",
       "         '86688': 14,\n",
       "         'phone': 52,\n",
       "         'upgrad': 4,\n",
       "         'pay': 2,\n",
       "         'sim': 2,\n",
       "         'card': 4,\n",
       "         'loyalti': 6,\n",
       "         '0845': 3,\n",
       "         '021': 2,\n",
       "         'blind': 2,\n",
       "         '4u': 4,\n",
       "         'rodds1': 1,\n",
       "         'aberdeen': 1,\n",
       "         'unit': 1,\n",
       "         'kingdom': 1,\n",
       "         'check': 4,\n",
       "         'hide': 1,\n",
       "         'themob': 5,\n",
       "         'newest': 3,\n",
       "         'game': 20,\n",
       "         'tone': 63,\n",
       "         'gossip': 1,\n",
       "         'babe': 10,\n",
       "         'sport': 7,\n",
       "         'keep': 5,\n",
       "         'fit': 1,\n",
       "         'funki': 1,\n",
       "         '82468': 2,\n",
       "         'smart': 2,\n",
       "         'weekli': 20,\n",
       "         '85222': 1,\n",
       "         'cs': 35,\n",
       "         'winnersclub': 1,\n",
       "         'box': 26,\n",
       "         '84': 1,\n",
       "         'm26': 3,\n",
       "         '3uz': 3,\n",
       "         'decemb': 4,\n",
       "         '08002986906': 3,\n",
       "         'germani': 3,\n",
       "         'minut': 12,\n",
       "         'fix': 2,\n",
       "         'line': 33,\n",
       "         'via': 3,\n",
       "         'access': 8,\n",
       "         '0844': 2,\n",
       "         '861': 2,\n",
       "         '85': 2,\n",
       "         'prepay': 2,\n",
       "         'valentin': 3,\n",
       "         'day': 26,\n",
       "         'take': 16,\n",
       "         'lifetim': 2,\n",
       "         '83600': 3,\n",
       "         'rcvd': 5,\n",
       "         'fanci': 12,\n",
       "         'shag': 2,\n",
       "         'xxuk': 1,\n",
       "         'suzi': 1,\n",
       "         'websit': 1,\n",
       "         'x': 8,\n",
       "         'current': 11,\n",
       "         'maxim': 7,\n",
       "         'cc': 6,\n",
       "         '08708800282': 1,\n",
       "         'xma': 15,\n",
       "         'motorola': 10,\n",
       "         'sonyericsson': 5,\n",
       "         'bluetooth': 7,\n",
       "         'doubl': 13,\n",
       "         '1000': 9,\n",
       "         'orang': 24,\n",
       "         'mobileupd8': 13,\n",
       "         '08000839402': 12,\n",
       "         'discount': 6,\n",
       "         'rp176781': 1,\n",
       "         '08717205546': 1,\n",
       "         'refer': 4,\n",
       "         't91': 1,\n",
       "         'gbp': 1,\n",
       "         '09057039994': 1,\n",
       "         '6month': 1,\n",
       "         'avail': 2,\n",
       "         '4mth': 2,\n",
       "         'half': 12,\n",
       "         'price': 15,\n",
       "         'rental': 11,\n",
       "         '11mth': 3,\n",
       "         'mobilesdirect': 2,\n",
       "         '08000938767': 2,\n",
       "         'or2stoptxt': 2,\n",
       "         'first': 6,\n",
       "         '87131': 3,\n",
       "         'poli': 22,\n",
       "         'true': 2,\n",
       "         'help': 12,\n",
       "         '2814032': 1,\n",
       "         '16': 18,\n",
       "         '1st': 19,\n",
       "         'cal': 1,\n",
       "         'l': 1,\n",
       "         '09064012103': 1,\n",
       "         'box334sk38ch': 2,\n",
       "         'competit': 2,\n",
       "         '80086': 2,\n",
       "         'logo': 6,\n",
       "         'lover': 2,\n",
       "         'heart': 3,\n",
       "         'love': 10,\n",
       "         'name1': 2,\n",
       "         'name2': 2,\n",
       "         'mobno': 2,\n",
       "         'adam': 2,\n",
       "         'eve': 5,\n",
       "         '07123456789': 2,\n",
       "         'yahoo': 2,\n",
       "         'pobox36504w45wq': 5,\n",
       "         'txtno': 2,\n",
       "         'ad': 4,\n",
       "         'enter': 15,\n",
       "         '09111032124': 1,\n",
       "         'pobox12n146tf150p': 1,\n",
       "         '09058094455': 1,\n",
       "         'land': 16,\n",
       "         '3650': 1,\n",
       "         '09066382422': 1,\n",
       "         'ave': 2,\n",
       "         '3min': 3,\n",
       "         'vari': 4,\n",
       "         'close': 3,\n",
       "         '300603': 1,\n",
       "         'post': 4,\n",
       "         'bcm4284': 1,\n",
       "         'ldn': 7,\n",
       "         'wc1n3xx': 3,\n",
       "         'loan': 3,\n",
       "         'purpos': 2,\n",
       "         'homeown': 1,\n",
       "         'tenant': 2,\n",
       "         'welcom': 8,\n",
       "         'previous': 1,\n",
       "         'refus': 2,\n",
       "         '1956669': 1,\n",
       "         'upgrdcentr': 1,\n",
       "         '0207': 2,\n",
       "         '153': 2,\n",
       "         '26th': 1,\n",
       "         'juli': 2,\n",
       "         'okmail': 1,\n",
       "         'dear': 16,\n",
       "         'dave': 2,\n",
       "         'notic': 3,\n",
       "         'tenerif': 7,\n",
       "         '5000': 4,\n",
       "         '09061743806': 2,\n",
       "         'tc': 7,\n",
       "         'sae': 18,\n",
       "         'box326': 2,\n",
       "         'cw25wx': 4,\n",
       "         'moan': 1,\n",
       "         '69888nyt': 1,\n",
       "         'activ': 5,\n",
       "         'term': 8,\n",
       "         'condit': 4,\n",
       "         'visit': 5,\n",
       "         '09050002311': 1,\n",
       "         'b4280703': 1,\n",
       "         '40gb': 6,\n",
       "         'ipod': 10,\n",
       "         'mp3': 5,\n",
       "         '83355': 4,\n",
       "         'ibhltd': 3,\n",
       "         'ldnw15h': 3,\n",
       "         'boltblu': 1,\n",
       "         'mono': 4,\n",
       "         'poly3': 1,\n",
       "         'cha': 2,\n",
       "         'slide': 1,\n",
       "         'yeah': 1,\n",
       "         'slow': 1,\n",
       "         'jamz': 1,\n",
       "         'toxic': 1,\n",
       "         'renew': 3,\n",
       "         'pin': 1,\n",
       "         'tgxxrz': 1,\n",
       "         '2nd': 19,\n",
       "         'attempt': 22,\n",
       "         'box95qu': 3,\n",
       "         'worth': 8,\n",
       "         '85023': 4,\n",
       "         'savamob': 8,\n",
       "         'member': 6,\n",
       "         'sub': 5,\n",
       "         'unsub': 3,\n",
       "         'reciev': 1,\n",
       "         'within': 4,\n",
       "         '24hr': 2,\n",
       "         'channel': 1,\n",
       "         'teletext': 1,\n",
       "         'pg': 1,\n",
       "         '2003': 13,\n",
       "         '07815296484': 1,\n",
       "         '800': 13,\n",
       "         '08718738001': 2,\n",
       "         '41782': 1,\n",
       "         'monthlysubscript': 1,\n",
       "         'csc': 1,\n",
       "         'web': 2,\n",
       "         'age16': 6,\n",
       "         '2stop': 1,\n",
       "         'call09050000327': 2,\n",
       "         'us': 7,\n",
       "         'ring': 5,\n",
       "         '09050005321': 1,\n",
       "         '150': 9,\n",
       "         'textand': 1,\n",
       "         '08002988890': 1,\n",
       "         'shop': 10,\n",
       "         'spree': 6,\n",
       "         'custcar': 7,\n",
       "         '08715705022': 3,\n",
       "         '2000': 2,\n",
       "         '08712402050': 2,\n",
       "         '10ppm': 2,\n",
       "         'ag': 2,\n",
       "         'promo': 2,\n",
       "         '07753741225': 1,\n",
       "         '08715203677': 1,\n",
       "         '42478': 1,\n",
       "         'import': 11,\n",
       "         'announc': 5,\n",
       "         '542': 3,\n",
       "         '0825': 1,\n",
       "         'xclusiv': 1,\n",
       "         'clubsaisai': 1,\n",
       "         '2morow': 1,\n",
       "         'soire': 1,\n",
       "         'zouk': 1,\n",
       "         'nichol': 1,\n",
       "         'rose': 1,\n",
       "         'ladi': 3,\n",
       "         '22': 1,\n",
       "         'kick': 3,\n",
       "         'euro2004': 3,\n",
       "         'kept': 2,\n",
       "         'result': 2,\n",
       "         'daili': 3,\n",
       "         'remov': 7,\n",
       "         '83222': 2,\n",
       "         'textbuddi': 2,\n",
       "         'guy': 5,\n",
       "         'area': 8,\n",
       "         '25p': 7,\n",
       "         'search': 2,\n",
       "         'postcod': 3,\n",
       "         'one': 10,\n",
       "         '89693': 2,\n",
       "         'vodafon': 5,\n",
       "         '4882': 1,\n",
       "         '09064019014': 1,\n",
       "         'holder': 6,\n",
       "         'pc': 6,\n",
       "         'ts': 9,\n",
       "         '80062': 5,\n",
       "         '08715203694': 1,\n",
       "         '40533': 2,\n",
       "         'rstm': 2,\n",
       "         'sw7': 2,\n",
       "         '3ss': 2,\n",
       "         '88800': 1,\n",
       "         '89034': 1,\n",
       "         'premium': 2,\n",
       "         '08718711108': 1,\n",
       "         'sun0819': 1,\n",
       "         'hello': 4,\n",
       "         'seem': 1,\n",
       "         'cool': 1,\n",
       "         'gr8': 7,\n",
       "         '20': 3,\n",
       "         'everi': 26,\n",
       "         'wk': 17,\n",
       "         'opt': 10,\n",
       "         '08452810071': 1,\n",
       "         'hi': 15,\n",
       "         'sue': 2,\n",
       "         'old': 2,\n",
       "         'work': 3,\n",
       "         'lapdanc': 1,\n",
       "         'sex': 10,\n",
       "         'bedroom': 1,\n",
       "         'textoper': 3,\n",
       "         'g2': 1,\n",
       "         '1da': 1,\n",
       "         '150ppmsg': 1,\n",
       "         'forward': 4,\n",
       "         '448712404000': 1,\n",
       "         '08712404000': 1,\n",
       "         'immedi': 5,\n",
       "         'fantast': 7,\n",
       "         'deck': 1,\n",
       "         'alert': 5,\n",
       "         '08714712388': 1,\n",
       "         '09071512433': 2,\n",
       "         'b4': 6,\n",
       "         '050703': 2,\n",
       "         'csbcm4235wc1n3xx': 2,\n",
       "         'callcost': 2,\n",
       "         'mobilesvari': 2,\n",
       "         '50': 3,\n",
       "         '08714712394': 1,\n",
       "         'email': 2,\n",
       "         'alertfrom': 1,\n",
       "         'jeri': 1,\n",
       "         'stewarts': 1,\n",
       "         '2kbsubject': 1,\n",
       "         'prescripiton': 1,\n",
       "         'drvgsto': 1,\n",
       "         'listen': 3,\n",
       "         '123': 1,\n",
       "         'nokia6650': 2,\n",
       "         'txtauction': 5,\n",
       "         '81151': 2,\n",
       "         '4t': 3,\n",
       "         'ctxt': 2,\n",
       "         'subscrib': 9,\n",
       "         'best': 7,\n",
       "         'helplin': 2,\n",
       "         '08706091795': 2,\n",
       "         'realiz': 1,\n",
       "         '40': 2,\n",
       "         'thousand': 1,\n",
       "         'run': 1,\n",
       "         'around': 2,\n",
       "         'tattoo': 1,\n",
       "         'premier': 2,\n",
       "         'romant': 1,\n",
       "         'pari': 3,\n",
       "         'night': 7,\n",
       "         'book': 6,\n",
       "         '08704439680t': 1,\n",
       "         'unclaim': 1,\n",
       "         '09066368327': 1,\n",
       "         'claimcod': 1,\n",
       "         'm39m51': 1,\n",
       "         'citi': 3,\n",
       "         'break': 5,\n",
       "         'could': 7,\n",
       "         'summer': 7,\n",
       "         'store': 7,\n",
       "         '88039': 2,\n",
       "         'skilgm': 3,\n",
       "         'tscs087147403231winawk': 2,\n",
       "         '0578': 2,\n",
       "         'ever': 3,\n",
       "         'thought': 1,\n",
       "         'good': 12,\n",
       "         'life': 3,\n",
       "         'perfect': 1,\n",
       "         'commun': 2,\n",
       "         '5': 8,\n",
       "         'polyphon': 4,\n",
       "         '087018728737': 1,\n",
       "         'toppoli': 1,\n",
       "         'tune': 1,\n",
       "         'subpoli': 2,\n",
       "         '81618': 1,\n",
       "         'pole': 1,\n",
       "         '08718727870': 2,\n",
       "         '14thmarch': 1,\n",
       "         'availa': 1,\n",
       "         'pobox84': 4,\n",
       "         'm263uz': 2,\n",
       "         'no1': 5,\n",
       "         '8077': 1,\n",
       "         'tell': 13,\n",
       "         'mate': 8,\n",
       "         '36504': 4,\n",
       "         'w45wq': 3,\n",
       "         'cashto': 2,\n",
       "         '08000407165': 2,\n",
       "         'getstop': 2,\n",
       "         '88222': 2,\n",
       "         'php': 2,\n",
       "         'rg21': 1,\n",
       "         '4jx': 1,\n",
       "         'either': 8,\n",
       "         'gift': 16,\n",
       "         'outbid': 1,\n",
       "         'simonwatson5120': 1,\n",
       "         'shinco': 1,\n",
       "         'plyr': 1,\n",
       "         'bid': 8,\n",
       "         'notif': 1,\n",
       "         'smsservic': 1,\n",
       "         'yourinclus': 1,\n",
       "         'pl': 8,\n",
       "         '3qxj9': 3,\n",
       "         'extra': 6,\n",
       "         '9ae': 3,\n",
       "         'alfi': 3,\n",
       "         'moon': 3,\n",
       "         'children': 3,\n",
       "         'need': 11,\n",
       "         'song': 3,\n",
       "         'm8': 4,\n",
       "         'chariti': 9,\n",
       "         '8007': 19,\n",
       "         'zed': 6,\n",
       "         '08701417012': 3,\n",
       "         'profit': 3,\n",
       "         'cust': 3,\n",
       "         'care': 6,\n",
       "         '07821230901': 1,\n",
       "         'five': 3,\n",
       "         '08002888812': 2,\n",
       "         'wed': 2,\n",
       "         '09066350750': 2,\n",
       "         'ibiza': 4,\n",
       "         'await': 24,\n",
       "         '434': 3,\n",
       "         'sk3': 3,\n",
       "         '8wp': 3,\n",
       "         'ppm': 4,\n",
       "         'talk': 5,\n",
       "         'fall': 1,\n",
       "         'world': 2,\n",
       "         'discreet': 2,\n",
       "         'vip': 4,\n",
       "         '83110': 1,\n",
       "         'suppli': 2,\n",
       "         'virgin': 2,\n",
       "         'record': 6,\n",
       "         'mysteri': 1,\n",
       "         '09061104283': 1,\n",
       "         'approx': 1,\n",
       "         '07808': 1,\n",
       "         'xxxxxx': 1,\n",
       "         '08719899217': 1,\n",
       "         '41685': 2,\n",
       "         'posh': 1,\n",
       "         'bird': 1,\n",
       "         'chap': 1,\n",
       "         'user': 8,\n",
       "         'trial': 1,\n",
       "         'prod': 1,\n",
       "         'champney': 1,\n",
       "         'put': 1,\n",
       "         'address': 3,\n",
       "         'dob': 1,\n",
       "         'asap': 6,\n",
       "         'ta': 1,\n",
       "         '0721072': 1,\n",
       "         'till': 2,\n",
       "         'drop': 1,\n",
       "         '10k': 2,\n",
       "         '5k': 1,\n",
       "         'travel': 1,\n",
       "         'ntt': 7,\n",
       "         'cr01327bt': 1,\n",
       "         'fixedlin': 1,\n",
       "         'liverpool': 2,\n",
       "         'mid': 1,\n",
       "         '09058094565': 2,\n",
       "         'remind': 2,\n",
       "         'alreadi': 1,\n",
       "         'paid': 1,\n",
       "         'mymobi': 1,\n",
       "         'lastest': 1,\n",
       "         'stereophon': 1,\n",
       "         'marley': 1,\n",
       "         'dizze': 1,\n",
       "         'racal': 1,\n",
       "         'libertin': 1,\n",
       "         'stroke': 1,\n",
       "         'nookii': 1,\n",
       "         'bookmark': 1,\n",
       "         'januari': 1,\n",
       "         'male': 3,\n",
       "         'sale': 4,\n",
       "         'gay': 6,\n",
       "         'cheaper': 2,\n",
       "         'cheap': 3,\n",
       "         'peak': 2,\n",
       "         '08712460324': 8,\n",
       "         'money': 4,\n",
       "         'lucki': 8,\n",
       "         '88600': 2,\n",
       "         'give': 8,\n",
       "         'away': 4,\n",
       "         'box403': 1,\n",
       "         'w1t1ji': 1,\n",
       "         'matthew': 1,\n",
       "         '09063440451': 1,\n",
       "         'lux': 2,\n",
       "         'ppm150': 1,\n",
       "         'box334': 1,\n",
       "         'sk38xh': 4,\n",
       "         '09061749602': 1,\n",
       "         '528': 1,\n",
       "         'hp20': 1,\n",
       "         '1yf': 1,\n",
       "         'touch': 1,\n",
       "         'folk': 1,\n",
       "         'compani': 3,\n",
       "         'enjoy': 12,\n",
       "         '08718720201': 5,\n",
       "         'filthi': 2,\n",
       "         'stori': 1,\n",
       "         'girl': 9,\n",
       "         '09050001808': 1,\n",
       "         'm95': 1,\n",
       "         'valid12hr': 2,\n",
       "         '3g': 3,\n",
       "         'videophon': 3,\n",
       "         '09063458130': 2,\n",
       "         'videochat': 3,\n",
       "         'wid': 3,\n",
       "         'java': 3,\n",
       "         'dload': 3,\n",
       "         'polyph': 2,\n",
       "         'nolin': 3,\n",
       "         'rentl': 3,\n",
       "         'panason': 1,\n",
       "         'bluetoothhdset': 1,\n",
       "         'doublemin': 1,\n",
       "         'doubletxt': 1,\n",
       "         'contract': 4,\n",
       "         'guess': 6,\n",
       "         'somebodi': 2,\n",
       "         'secretli': 2,\n",
       "         'wan': 11,\n",
       "         'na': 10,\n",
       "         '09065394514': 1,\n",
       "         'datebox1282essexcm61xn': 2,\n",
       "         '09058097218': 1,\n",
       "         '6': 5,\n",
       "         'ls15hb': 2,\n",
       "         'bloke': 1,\n",
       "         'zoe': 1,\n",
       "         'kickoff': 1,\n",
       "         'inform': 9,\n",
       "         'euro': 2,\n",
       "         'eastend': 1,\n",
       "         'flower': 2,\n",
       "         'dot': 1,\n",
       "         'compar': 1,\n",
       "         'violet': 1,\n",
       "         'tulip': 1,\n",
       "         'lili': 1,\n",
       "         'e': 1,\n",
       "         'f': 3,\n",
       "         '84025': 2,\n",
       "         'lot': 2,\n",
       "         'peopl': 3,\n",
       "         'regist': 5,\n",
       "         'replys150': 1,\n",
       "         'ask': 5,\n",
       "         'cant': 3,\n",
       "         '09058091854': 1,\n",
       "         'box385': 1,\n",
       "         'm6': 1,\n",
       "         '6wu': 1,\n",
       "         '09050003091': 2,\n",
       "         'c52': 2,\n",
       "         'xchat': 5,\n",
       "         'sipix': 3,\n",
       "         'digit': 6,\n",
       "         '09061221061': 1,\n",
       "         '28day': 1,\n",
       "         'box177': 1,\n",
       "         'm221bp': 1,\n",
       "         '2yr': 1,\n",
       "         'warranti': 1,\n",
       "         'p': 2,\n",
       "         '09061790121': 2,\n",
       "         '3030': 1,\n",
       "         'b': 10,\n",
       "         'receipt': 3,\n",
       "         'an': 6,\n",
       "         'elvi': 1,\n",
       "         'presley': 1,\n",
       "         'birthday': 1,\n",
       "         'o2': 5,\n",
       "         'log': 7,\n",
       "         'onto': 7,\n",
       "         'surpris': 5,\n",
       "         '449050000301': 1,\n",
       "         '09050000301': 1,\n",
       "         'bore': 3,\n",
       "         'speed': 1,\n",
       "         'speedchat': 2,\n",
       "         '80155': 1,\n",
       "         'em': 1,\n",
       "         'swap': 1,\n",
       "         'chatter': 1,\n",
       "         'chat80155': 1,\n",
       "         'rcd': 1,\n",
       "         '08000776320': 2,\n",
       "         'part': 8,\n",
       "         'survey': 1,\n",
       "         'yesterday': 3,\n",
       "         'howev': 1,\n",
       "         'wish': 2,\n",
       "         '80160': 1,\n",
       "         'hmv1': 1,\n",
       "         'forget': 2,\n",
       "         'place': 4,\n",
       "         'mani': 3,\n",
       "         'request': 2,\n",
       "         '08707808226': 1,\n",
       "         'let': 3,\n",
       "         'notifi': 1,\n",
       "         'luck': 6,\n",
       "         'futur': 3,\n",
       "         'market': 1,\n",
       "         '84122': 1,\n",
       "         '08450542832': 1,\n",
       "         ...})"
      ]
     },
     "execution_count": 53,
     "metadata": {},
     "output_type": "execute_result"
    }
   ],
   "source": [
    "from collections import Counter\n",
    "Counter(spam_corpus) #Counting all the words in the msessages\n"
   ]
  },
  {
   "cell_type": "code",
   "execution_count": 54,
   "metadata": {},
   "outputs": [
    {
     "data": {
      "text/plain": [
       "[('call', 320),\n",
       " ('free', 191),\n",
       " ('2', 155),\n",
       " ('txt', 141),\n",
       " ('text', 122),\n",
       " ('u', 119),\n",
       " ('ur', 119),\n",
       " ('mobil', 114),\n",
       " ('stop', 104),\n",
       " ('repli', 103),\n",
       " ('claim', 98),\n",
       " ('4', 97),\n",
       " ('prize', 82),\n",
       " ('get', 74),\n",
       " ('new', 64),\n",
       " ('servic', 64),\n",
       " ('tone', 63),\n",
       " ('send', 60),\n",
       " ('urgent', 57),\n",
       " ('nokia', 57),\n",
       " ('contact', 56),\n",
       " ('award', 55),\n",
       " ('phone', 52),\n",
       " ('cash', 51),\n",
       " ('pleas', 51),\n",
       " ('week', 49),\n",
       " ('win', 48),\n",
       " ('c', 45),\n",
       " ('collect', 45),\n",
       " ('min', 45)]"
      ]
     },
     "execution_count": 54,
     "metadata": {},
     "output_type": "execute_result"
    }
   ],
   "source": [
    "Counter(spam_corpus).most_common(30) #counting the most common  words"
   ]
  },
  {
   "cell_type": "code",
   "execution_count": 55,
   "metadata": {},
   "outputs": [],
   "source": [
    "common_spam_words = pd.DataFrame(Counter(spam_corpus).most_common(30))"
   ]
  },
  {
   "cell_type": "code",
   "execution_count": 56,
   "metadata": {},
   "outputs": [
    {
     "data": {
      "text/html": [
       "<div>\n",
       "<style scoped>\n",
       "    .dataframe tbody tr th:only-of-type {\n",
       "        vertical-align: middle;\n",
       "    }\n",
       "\n",
       "    .dataframe tbody tr th {\n",
       "        vertical-align: top;\n",
       "    }\n",
       "\n",
       "    .dataframe thead th {\n",
       "        text-align: right;\n",
       "    }\n",
       "</style>\n",
       "<table border=\"1\" class=\"dataframe\">\n",
       "  <thead>\n",
       "    <tr style=\"text-align: right;\">\n",
       "      <th></th>\n",
       "      <th>0</th>\n",
       "      <th>1</th>\n",
       "    </tr>\n",
       "  </thead>\n",
       "  <tbody>\n",
       "    <tr>\n",
       "      <th>0</th>\n",
       "      <td>call</td>\n",
       "      <td>320</td>\n",
       "    </tr>\n",
       "    <tr>\n",
       "      <th>1</th>\n",
       "      <td>free</td>\n",
       "      <td>191</td>\n",
       "    </tr>\n",
       "    <tr>\n",
       "      <th>2</th>\n",
       "      <td>2</td>\n",
       "      <td>155</td>\n",
       "    </tr>\n",
       "    <tr>\n",
       "      <th>3</th>\n",
       "      <td>txt</td>\n",
       "      <td>141</td>\n",
       "    </tr>\n",
       "    <tr>\n",
       "      <th>4</th>\n",
       "      <td>text</td>\n",
       "      <td>122</td>\n",
       "    </tr>\n",
       "  </tbody>\n",
       "</table>\n",
       "</div>"
      ],
      "text/plain": [
       "      0    1\n",
       "0  call  320\n",
       "1  free  191\n",
       "2     2  155\n",
       "3   txt  141\n",
       "4  text  122"
      ]
     },
     "execution_count": 56,
     "metadata": {},
     "output_type": "execute_result"
    }
   ],
   "source": [
    "common_spam_words.head()"
   ]
  },
  {
   "cell_type": "code",
   "execution_count": 57,
   "metadata": {},
   "outputs": [
    {
     "name": "stderr",
     "output_type": "stream",
     "text": [
      "/home/soham/anaconda3/lib/python3.8/site-packages/seaborn/_decorators.py:36: FutureWarning: Pass the following variables as keyword args: x, y. From version 0.12, the only valid positional argument will be `data`, and passing other arguments without an explicit keyword will result in an error or misinterpretation.\n",
      "  warnings.warn(\n"
     ]
    },
    {
     "data": {
      "text/plain": [
       "<function matplotlib.pyplot.show(close=None, block=None)>"
      ]
     },
     "execution_count": 57,
     "metadata": {},
     "output_type": "execute_result"
    },
    {
     "data": {
      "image/png": "[encoded data removed]",
      "text/plain": [
       "<Figure size 1080x504 with 1 Axes>"
      ]
     },
     "metadata": {
      "needs_background": "light"
     },
     "output_type": "display_data"
    }
   ],
   "source": [
    "plt.figure(figsize = (15,7))\n",
    "sns.barplot(common_spam_words[0],common_spam_words[1]) #selecting col 0 and 1\n",
    "plt.xticks(rotation = \"vertical\") #rotating the label in x axis\n",
    "plt.show"
   ]
  },
  {
   "cell_type": "code",
   "execution_count": 58,
   "metadata": {},
   "outputs": [
    {
     "name": "stderr",
     "output_type": "stream",
     "text": [
      "/home/soham/anaconda3/lib/python3.8/site-packages/seaborn/_decorators.py:36: FutureWarning: Pass the following variables as keyword args: x, y. From version 0.12, the only valid positional argument will be `data`, and passing other arguments without an explicit keyword will result in an error or misinterpretation.\n",
      "  warnings.warn(\n"
     ]
    },
    {
     "data": {
      "text/plain": [
       "<function matplotlib.pyplot.show(close=None, block=None)>"
      ]
     },
     "execution_count": 58,
     "metadata": {},
     "output_type": "execute_result"
    },
    {
     "data": {
      "image/png": "[encoded data removed]",
      "text/plain": [
       "<Figure size 1080x504 with 1 Axes>"
      ]
     },
     "metadata": {
      "needs_background": "light"
     },
     "output_type": "display_data"
    }
   ],
   "source": [
    "ham_corpus = []\n",
    "for msg in df[df['Target'] == 0]['transformed_text'].tolist():\n",
    "    for word in msg.split():\n",
    "        ham_corpus.append(word)\n",
    "        \n",
    "common_ham_words = pd.DataFrame(Counter(ham_corpus).most_common(30))\n",
    "plt.figure(figsize = (15,7))\n",
    "sns.barplot(common_ham_words[0],common_ham_words[1]) #selecting col 0 and 1\n",
    "plt.xticks(rotation = \"vertical\") #rotating the label in x axis\n",
    "plt.show"
   ]
  },
  {
   "cell_type": "markdown",
   "metadata": {},
   "source": [
    "# Model building"
   ]
  },
  {
   "cell_type": "markdown",
   "metadata": {},
   "source": [
    "## using count vectorizer"
   ]
  },
  {
   "cell_type": "code",
   "execution_count": 97,
   "metadata": {},
   "outputs": [],
   "source": [
    "#To train our model we gotta convert our words into numbers. So we will vectorize it using it bagofwords\n",
    "\n",
    "from sklearn.feature_extraction.text import CountVectorizer, TfidfVectorizer"
   ]
  },
  {
   "cell_type": "code",
   "execution_count": 98,
   "metadata": {},
   "outputs": [],
   "source": [
    "cv = CountVectorizer()"
   ]
  },
  {
   "cell_type": "code",
   "execution_count": 99,
   "metadata": {},
   "outputs": [],
   "source": [
    "x = cv.fit_transform(df[\"transformed_text\"]).toarray()"
   ]
  },
  {
   "cell_type": "code",
   "execution_count": 100,
   "metadata": {},
   "outputs": [
    {
     "data": {
      "text/plain": [
       "array([[0, 0, 0, ..., 0, 0, 0],\n",
       "       [0, 0, 0, ..., 0, 0, 0],\n",
       "       [0, 0, 0, ..., 0, 0, 0],\n",
       "       ...,\n",
       "       [0, 0, 0, ..., 0, 0, 0],\n",
       "       [0, 0, 0, ..., 0, 0, 0],\n",
       "       [0, 0, 0, ..., 0, 0, 0]])"
      ]
     },
     "execution_count": 100,
     "metadata": {},
     "output_type": "execute_result"
    }
   ],
   "source": [
    "x"
   ]
  },
  {
   "cell_type": "code",
   "execution_count": 101,
   "metadata": {},
   "outputs": [
    {
     "data": {
      "text/plain": [
       "(5169, 6708)"
      ]
     },
     "execution_count": 101,
     "metadata": {},
     "output_type": "execute_result"
    }
   ],
   "source": [
    "x.shape"
   ]
  },
  {
   "cell_type": "code",
   "execution_count": 102,
   "metadata": {},
   "outputs": [],
   "source": [
    "y = df[\"Target\"].values"
   ]
  },
  {
   "cell_type": "code",
   "execution_count": 103,
   "metadata": {},
   "outputs": [
    {
     "data": {
      "text/plain": [
       "array([0, 0, 1, ..., 0, 0, 0])"
      ]
     },
     "execution_count": 103,
     "metadata": {},
     "output_type": "execute_result"
    }
   ],
   "source": [
    "y"
   ]
  },
  {
   "cell_type": "code",
   "execution_count": 104,
   "metadata": {},
   "outputs": [],
   "source": [
    "from sklearn.model_selection import train_test_split\n",
    "from sklearn.metrics import accuracy_score, precision_score\n",
    "x_train,x_test,y_train,y_test = train_test_split(x,y,test_size = 0.2,random_state = 2)"
   ]
  },
  {
   "cell_type": "code",
   "execution_count": 105,
   "metadata": {},
   "outputs": [],
   "source": [
    "from sklearn.naive_bayes import GaussianNB, MultinomialNB, BernoulliNB"
   ]
  },
  {
   "cell_type": "code",
   "execution_count": 106,
   "metadata": {},
   "outputs": [],
   "source": [
    "gnb =GaussianNB()\n",
    "mnb = MultinomialNB()\n",
    "bnb = BernoulliNB()"
   ]
  },
  {
   "cell_type": "code",
   "execution_count": 107,
   "metadata": {},
   "outputs": [
    {
     "name": "stdout",
     "output_type": "stream",
     "text": [
      "0.8800773694390716\n",
      "0.8800773694390716\n"
     ]
    }
   ],
   "source": [
    "gnb.fit(x_train,y_train)\n",
    "y_pred1 = gnb.predict(x_test)\n",
    "print(accuracy_score(y_test, y_pred1))\n",
    "print(accuracy_score(y_test, y_pred1))"
   ]
  },
  {
   "cell_type": "code",
   "execution_count": 108,
   "metadata": {},
   "outputs": [
    {
     "name": "stdout",
     "output_type": "stream",
     "text": [
      "0.9642166344294004\n",
      "0.8344370860927153\n"
     ]
    }
   ],
   "source": [
    "mnb.fit(x_train,y_train)\n",
    "y_pred2 = mnb.predict(x_test)\n",
    "print(accuracy_score(y_test, y_pred2))\n",
    "print(precision_score(y_test, y_pred2))"
   ]
  },
  {
   "cell_type": "code",
   "execution_count": 109,
   "metadata": {},
   "outputs": [
    {
     "name": "stdout",
     "output_type": "stream",
     "text": [
      "0.9700193423597679\n",
      "0.9734513274336283\n"
     ]
    }
   ],
   "source": [
    "bnb.fit(x_train,y_train)\n",
    "y_pred3 = bnb.predict(x_test)\n",
    "print(accuracy_score(y_test, y_pred3))\n",
    "print(precision_score(y_test, y_pred3))"
   ]
  },
  {
   "cell_type": "code",
   "execution_count": 110,
   "metadata": {},
   "outputs": [],
   "source": [
    "tmp_df = pd.DataFrame()"
   ]
  },
  {
   "cell_type": "code",
   "execution_count": 111,
   "metadata": {},
   "outputs": [],
   "source": [
    "tmp_df[\"Naive Bayes\"] = [\"GNB\",\"MNB\",\"BNB\"]"
   ]
  },
  {
   "cell_type": "code",
   "execution_count": 112,
   "metadata": {},
   "outputs": [],
   "source": [
    "tmp_df[\"Accuracy score\"] = [accuracy_score(y_test, y_pred1),accuracy_score(y_test, y_pred2),accuracy_score(y_test, y_pred3)]\n",
    "tmp_df[\"Precision score\"] =  [accuracy_score(y_test, y_pred1),precision_score(y_test, y_pred2),precision_score(y_test, y_pred3)]"
   ]
  },
  {
   "cell_type": "code",
   "execution_count": 113,
   "metadata": {},
   "outputs": [
    {
     "data": {
      "text/html": [
       "<div>\n",
       "<style scoped>\n",
       "    .dataframe tbody tr th:only-of-type {\n",
       "        vertical-align: middle;\n",
       "    }\n",
       "\n",
       "    .dataframe tbody tr th {\n",
       "        vertical-align: top;\n",
       "    }\n",
       "\n",
       "    .dataframe thead th {\n",
       "        text-align: right;\n",
       "    }\n",
       "</style>\n",
       "<table border=\"1\" class=\"dataframe\">\n",
       "  <thead>\n",
       "    <tr style=\"text-align: right;\">\n",
       "      <th></th>\n",
       "      <th>Naive Bayes</th>\n",
       "      <th>Accuracy score</th>\n",
       "      <th>Precision score</th>\n",
       "    </tr>\n",
       "  </thead>\n",
       "  <tbody>\n",
       "    <tr>\n",
       "      <th>0</th>\n",
       "      <td>GNB</td>\n",
       "      <td>0.880077</td>\n",
       "      <td>0.880077</td>\n",
       "    </tr>\n",
       "    <tr>\n",
       "      <th>1</th>\n",
       "      <td>MNB</td>\n",
       "      <td>0.964217</td>\n",
       "      <td>0.834437</td>\n",
       "    </tr>\n",
       "    <tr>\n",
       "      <th>2</th>\n",
       "      <td>BNB</td>\n",
       "      <td>0.970019</td>\n",
       "      <td>0.973451</td>\n",
       "    </tr>\n",
       "  </tbody>\n",
       "</table>\n",
       "</div>"
      ],
      "text/plain": [
       "  Naive Bayes  Accuracy score  Precision score\n",
       "0         GNB        0.880077         0.880077\n",
       "1         MNB        0.964217         0.834437\n",
       "2         BNB        0.970019         0.973451"
      ]
     },
     "execution_count": 113,
     "metadata": {},
     "output_type": "execute_result"
    }
   ],
   "source": [
    "tmp_df"
   ]
  },
  {
   "cell_type": "markdown",
   "metadata": {},
   "source": [
    "## using tfidf vectorizer"
   ]
  },
  {
   "cell_type": "code",
   "execution_count": 117,
   "metadata": {},
   "outputs": [
    {
     "data": {
      "text/plain": [
       "0       go jurong point crazi avail bugi n great world...\n",
       "1                                   ok lar joke wif u oni\n",
       "2       free entri 2 wkli comp win fa cup final tkt 21...\n",
       "3                     u dun say earli hor u c alreadi say\n",
       "4                    nah think goe usf live around though\n",
       "                              ...                        \n",
       "5567    2nd time tri 2 contact u pound prize 2 claim e...\n",
       "5568                                b go esplanad fr home\n",
       "5569                                    piti mood suggest\n",
       "5570    guy bitch act like interest buy someth els nex...\n",
       "5571                                       rofl true name\n",
       "Name: transformed_text, Length: 5169, dtype: object"
      ]
     },
     "execution_count": 117,
     "metadata": {},
     "output_type": "execute_result"
    }
   ],
   "source": [
    "df['transformed_text']"
   ]
  },
  {
   "cell_type": "code",
   "execution_count": 118,
   "metadata": {},
   "outputs": [],
   "source": [
    "tfidf = TfidfVectorizer()\n",
    "x = tfidf.fit_transform(df[\"transformed_text\"]).toarray()\n",
    "y = df[\"Target\"].values\n",
    "x_train,x_test,y_train,y_test = train_test_split(x,y,test_size = 0.2,random_state = 2)"
   ]
  },
  {
   "cell_type": "code",
   "execution_count": 119,
   "metadata": {},
   "outputs": [
    {
     "name": "stdout",
     "output_type": "stream",
     "text": [
      "0.8762088974854932\n",
      "0.5231481481481481\n"
     ]
    }
   ],
   "source": [
    "gnb.fit(x_train,y_train)\n",
    "y_pred1 = gnb.predict(x_test)\n",
    "print(accuracy_score(y_test, y_pred1))\n",
    "print(precision_score(y_test, y_pred1))"
   ]
  },
  {
   "cell_type": "code",
   "execution_count": 120,
   "metadata": {},
   "outputs": [
    {
     "name": "stdout",
     "output_type": "stream",
     "text": [
      "0.9593810444874274\n",
      "1.0\n"
     ]
    }
   ],
   "source": [
    "mnb.fit(x_train,y_train)\n",
    "y_pred2 = mnb.predict(x_test)\n",
    "print(accuracy_score(y_test, y_pred2))\n",
    "print(precision_score(y_test, y_pred2))"
   ]
  },
  {
   "cell_type": "code",
   "execution_count": 121,
   "metadata": {},
   "outputs": [
    {
     "name": "stdout",
     "output_type": "stream",
     "text": [
      "0.9700193423597679\n",
      "0.9734513274336283\n"
     ]
    }
   ],
   "source": [
    "bnb.fit(x_train,y_train)\n",
    "y_pred3 = bnb.predict(x_test)\n",
    "print(accuracy_score(y_test, y_pred3))\n",
    "print(precision_score(y_test, y_pred3))"
   ]
  },
  {
   "cell_type": "code",
   "execution_count": 122,
   "metadata": {},
   "outputs": [],
   "source": [
    "tmp_df[\"TFIDF Accuracy score\"] = [accuracy_score(y_test, y_pred1),accuracy_score(y_test, y_pred2),accuracy_score(y_test, y_pred3)]\n",
    "tmp_df[\"TFIDF Precision score\"] =  [accuracy_score(y_test, y_pred1),precision_score(y_test, y_pred2),precision_score(y_test, y_pred3)]"
   ]
  },
  {
   "cell_type": "code",
   "execution_count": 123,
   "metadata": {},
   "outputs": [
    {
     "data": {
      "text/html": [
       "<div>\n",
       "<style scoped>\n",
       "    .dataframe tbody tr th:only-of-type {\n",
       "        vertical-align: middle;\n",
       "    }\n",
       "\n",
       "    .dataframe tbody tr th {\n",
       "        vertical-align: top;\n",
       "    }\n",
       "\n",
       "    .dataframe thead th {\n",
       "        text-align: right;\n",
       "    }\n",
       "</style>\n",
       "<table border=\"1\" class=\"dataframe\">\n",
       "  <thead>\n",
       "    <tr style=\"text-align: right;\">\n",
       "      <th></th>\n",
       "      <th>Naive Bayes</th>\n",
       "      <th>Accuracy score</th>\n",
       "      <th>Precision score</th>\n",
       "      <th>TFIDF Accuracy score</th>\n",
       "      <th>TFIDF Precision score</th>\n",
       "    </tr>\n",
       "  </thead>\n",
       "  <tbody>\n",
       "    <tr>\n",
       "      <th>0</th>\n",
       "      <td>GNB</td>\n",
       "      <td>0.880077</td>\n",
       "      <td>0.880077</td>\n",
       "      <td>0.876209</td>\n",
       "      <td>0.876209</td>\n",
       "    </tr>\n",
       "    <tr>\n",
       "      <th>1</th>\n",
       "      <td>MNB</td>\n",
       "      <td>0.964217</td>\n",
       "      <td>0.834437</td>\n",
       "      <td>0.959381</td>\n",
       "      <td>1.000000</td>\n",
       "    </tr>\n",
       "    <tr>\n",
       "      <th>2</th>\n",
       "      <td>BNB</td>\n",
       "      <td>0.970019</td>\n",
       "      <td>0.973451</td>\n",
       "      <td>0.970019</td>\n",
       "      <td>0.973451</td>\n",
       "    </tr>\n",
       "  </tbody>\n",
       "</table>\n",
       "</div>"
      ],
      "text/plain": [
       "  Naive Bayes  Accuracy score  Precision score  TFIDF Accuracy score  \\\n",
       "0         GNB        0.880077         0.880077              0.876209   \n",
       "1         MNB        0.964217         0.834437              0.959381   \n",
       "2         BNB        0.970019         0.973451              0.970019   \n",
       "\n",
       "   TFIDF Precision score  \n",
       "0               0.876209  \n",
       "1               1.000000  \n",
       "2               0.973451  "
      ]
     },
     "execution_count": 123,
     "metadata": {},
     "output_type": "execute_result"
    }
   ],
   "source": [
    "tmp_df"
   ]
  },
  {
   "cell_type": "markdown",
   "metadata": {},
   "source": [
    "# Improving the model"
   ]
  },
  {
   "cell_type": "code",
   "execution_count": 124,
   "metadata": {},
   "outputs": [],
   "source": [
    "# Choosing only the most used 3000 words from the corpus"
   ]
  },
  {
   "cell_type": "code",
   "execution_count": 125,
   "metadata": {},
   "outputs": [],
   "source": [
    "tfidf = TfidfVectorizer(max_features = 3000)\n",
    "x = tfidf.fit_transform(df[\"transformed_text\"]).toarray()\n",
    "y = df[\"Target\"].values\n",
    "x_train,x_test,y_train,y_test = train_test_split(x,y,test_size = 0.2,random_state = 2)"
   ]
  },
  {
   "cell_type": "code",
   "execution_count": 126,
   "metadata": {},
   "outputs": [
    {
     "name": "stdout",
     "output_type": "stream",
     "text": [
      "0.8694390715667312\n",
      "0.5068493150684932\n"
     ]
    }
   ],
   "source": [
    "gnb.fit(x_train,y_train)\n",
    "y_pred1 = gnb.predict(x_test)\n",
    "print(accuracy_score(y_test, y_pred1))\n",
    "print(precision_score(y_test, y_pred1))"
   ]
  },
  {
   "cell_type": "code",
   "execution_count": 127,
   "metadata": {},
   "outputs": [
    {
     "name": "stdout",
     "output_type": "stream",
     "text": [
      "0.9709864603481625\n",
      "1.0\n"
     ]
    }
   ],
   "source": [
    "mnb.fit(x_train,y_train)\n",
    "y_pred2 = mnb.predict(x_test)\n",
    "print(accuracy_score(y_test, y_pred2))\n",
    "print(precision_score(y_test, y_pred2))"
   ]
  },
  {
   "cell_type": "code",
   "execution_count": 132,
   "metadata": {},
   "outputs": [
    {
     "name": "stdout",
     "output_type": "stream",
     "text": [
      "[0 0 0 ... 0 0 0]\n",
      "0.9835589941972921\n",
      "0.991869918699187\n"
     ]
    }
   ],
   "source": [
    "bnb.fit(x_train,y_train)\n",
    "y_pred3 = bnb.predict(x_test)\n",
    "print(accuracy_score(y_test, y_pred3))\n",
    "print(precision_score(y_test, y_pred3))"
   ]
  },
  {
   "cell_type": "code",
   "execution_count": 129,
   "metadata": {},
   "outputs": [],
   "source": [
    "tmp_df[\"Param Accuracy score\"] = [accuracy_score(y_test, y_pred1),accuracy_score(y_test, y_pred2),accuracy_score(y_test, y_pred3)]\n",
    "tmp_df[\"Param Precision score\"] =  [accuracy_score(y_test, y_pred1),precision_score(y_test, y_pred2),precision_score(y_test, y_pred3)]"
   ]
  },
  {
   "cell_type": "code",
   "execution_count": 130,
   "metadata": {},
   "outputs": [
    {
     "data": {
      "text/html": [
       "<div>\n",
       "<style scoped>\n",
       "    .dataframe tbody tr th:only-of-type {\n",
       "        vertical-align: middle;\n",
       "    }\n",
       "\n",
       "    .dataframe tbody tr th {\n",
       "        vertical-align: top;\n",
       "    }\n",
       "\n",
       "    .dataframe thead th {\n",
       "        text-align: right;\n",
       "    }\n",
       "</style>\n",
       "<table border=\"1\" class=\"dataframe\">\n",
       "  <thead>\n",
       "    <tr style=\"text-align: right;\">\n",
       "      <th></th>\n",
       "      <th>Naive Bayes</th>\n",
       "      <th>Accuracy score</th>\n",
       "      <th>Precision score</th>\n",
       "      <th>TFIDF Accuracy score</th>\n",
       "      <th>TFIDF Precision score</th>\n",
       "      <th>Param Accuracy score</th>\n",
       "      <th>Param Precision score</th>\n",
       "    </tr>\n",
       "  </thead>\n",
       "  <tbody>\n",
       "    <tr>\n",
       "      <th>0</th>\n",
       "      <td>GNB</td>\n",
       "      <td>0.880077</td>\n",
       "      <td>0.880077</td>\n",
       "      <td>0.876209</td>\n",
       "      <td>0.876209</td>\n",
       "      <td>0.869439</td>\n",
       "      <td>0.869439</td>\n",
       "    </tr>\n",
       "    <tr>\n",
       "      <th>1</th>\n",
       "      <td>MNB</td>\n",
       "      <td>0.964217</td>\n",
       "      <td>0.834437</td>\n",
       "      <td>0.959381</td>\n",
       "      <td>1.000000</td>\n",
       "      <td>0.970986</td>\n",
       "      <td>1.000000</td>\n",
       "    </tr>\n",
       "    <tr>\n",
       "      <th>2</th>\n",
       "      <td>BNB</td>\n",
       "      <td>0.970019</td>\n",
       "      <td>0.973451</td>\n",
       "      <td>0.970019</td>\n",
       "      <td>0.973451</td>\n",
       "      <td>0.983559</td>\n",
       "      <td>0.991870</td>\n",
       "    </tr>\n",
       "  </tbody>\n",
       "</table>\n",
       "</div>"
      ],
      "text/plain": [
       "  Naive Bayes  Accuracy score  Precision score  TFIDF Accuracy score  \\\n",
       "0         GNB        0.880077         0.880077              0.876209   \n",
       "1         MNB        0.964217         0.834437              0.959381   \n",
       "2         BNB        0.970019         0.973451              0.970019   \n",
       "\n",
       "   TFIDF Precision score  Param Accuracy score  Param Precision score  \n",
       "0               0.876209              0.869439               0.869439  \n",
       "1               1.000000              0.970986               1.000000  \n",
       "2               0.973451              0.983559               0.991870  "
      ]
     },
     "execution_count": 130,
     "metadata": {},
     "output_type": "execute_result"
    }
   ],
   "source": [
    "tmp_df"
   ]
  },
  {
   "cell_type": "markdown",
   "metadata": {},
   "source": [
    "# Prediction example"
   ]
  },
  {
   "cell_type": "code",
   "execution_count": 139,
   "metadata": {},
   "outputs": [
    {
     "name": "stdout",
     "output_type": "stream",
     "text": [
      "Please enter your message here: Verifying your recovery email will confirm it’s an active email that belongs to you. Google can use your recovery email to contact you if you ever need help signing in or if we notice suspicious activity.\n",
      "It is not a spam\n"
     ]
    }
   ],
   "source": [
    "sms_email = input('Please enter your message here: ')\n",
    "transformed_msg = transform_text(sms_email)\n",
    "vector_msg = tfidf.transform([transformed_msg])\n",
    "result = mnb.predict(vector_msg)\n",
    "if result == 1:\n",
    "    print('It is a spam')\n",
    "else:\n",
    "    print('It is not a spam')"
   ]
  },
  {
   "cell_type": "code",
   "execution_count": null,
   "metadata": {},
   "outputs": [],
   "source": []
  }
 ],
 "metadata": {
  "kernelspec": {
   "display_name": "Python 3 (ipykernel)",
   "language": "python",
   "name": "python3"
  },
  "language_info": {
   "codemirror_mode": {
    "name": "ipython",
    "version": 3
   },
   "file_extension": ".py",
   "mimetype": "text/x-python",
   "name": "python",
   "nbconvert_exporter": "python",
   "pygments_lexer": "ipython3",
   "version": "3.8.5"
  }
 },
 "nbformat": 4,
 "nbformat_minor": 4
}
